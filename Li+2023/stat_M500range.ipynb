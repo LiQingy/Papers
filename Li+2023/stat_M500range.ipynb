{
 "cells": [
  {
   "cell_type": "code",
   "execution_count": 1,
   "metadata": {
    "execution": {
     "iopub.execute_input": "2023-04-17T12:33:31.618990Z",
     "iopub.status.busy": "2023-04-17T12:33:31.618828Z",
     "iopub.status.idle": "2023-04-17T12:33:48.756740Z",
     "shell.execute_reply": "2023-04-17T12:33:48.755678Z",
     "shell.execute_reply.started": "2023-04-17T12:33:31.618945Z"
    },
    "tags": []
   },
   "outputs": [],
   "source": [
    "# %pylab notebook\n",
    "import numpy as np \n",
    "import h5py\n",
    "import matplotlib.pyplot as plt\n",
    "# %matplotlib ipympl"
   ]
  },
  {
   "cell_type": "code",
   "execution_count": 2,
   "metadata": {
    "execution": {
     "iopub.execute_input": "2023-04-17T12:33:57.462386Z",
     "iopub.status.busy": "2023-04-17T12:33:57.462184Z",
     "iopub.status.idle": "2023-04-17T12:33:57.589690Z",
     "shell.execute_reply": "2023-04-17T12:33:57.589164Z",
     "shell.execute_reply.started": "2023-04-17T12:33:57.462367Z"
    },
    "tags": []
   },
   "outputs": [],
   "source": [
    "G3Xd = h5py.File('./data/G3X-profiles-progenitors_myevoz.hdf5','r')\n",
    "GIZd = h5py.File('./data/GIZ-profiles-progenitors_myevoz.hdf5','r')"
   ]
  },
  {
   "cell_type": "code",
   "execution_count": 3,
   "metadata": {
    "execution": {
     "iopub.execute_input": "2023-04-17T12:44:29.686207Z",
     "iopub.status.busy": "2023-04-17T12:44:29.685907Z",
     "iopub.status.idle": "2023-04-17T12:44:29.691715Z",
     "shell.execute_reply": "2023-04-17T12:44:29.691118Z",
     "shell.execute_reply.started": "2023-04-17T12:44:29.686176Z"
    },
    "tags": []
   },
   "outputs": [],
   "source": [
    "def cal_sta_profiles(d,snap,ntclu,part = 0):\n",
    "    allvalue=np.zeros(ntclu)\n",
    "\n",
    "    redshift = d['NewMDCLUSTER_0001/snap_%03d'%(snap)].attrs['redshift']\n",
    "    print('redshift is ',redshift)\n",
    "\n",
    "    i = 0\n",
    "    #read raw data\n",
    "    for nclu in range(324):\n",
    "        if 'Rbin' not in d['NewMDCLUSTER_0%03d/snap_%03d'%(nclu+1, snap)]:          \n",
    "            continue\n",
    "        M500 = d['NewMDCLUSTER_%04d/snap_%03d'%(nclu+1,snap)].attrs['M500'] / 0.678\n",
    "        allvalue[i] = np.log10(M500)\n",
    "\n",
    "        # r500 = d['NewMDCLUSTER_%04d/snap_%03d'%(nclu+1,snap)].attrs['r500']\n",
    "        # allvalue[i] = r500\n",
    "        i+=1\n",
    "    print(i,ntclu)\n",
    "\n",
    "    # ymed = np.median(allvalue)\n",
    "    print('minimum and maximum value', np.min(allvalue), np.max(allvalue))\n",
    "    ymed = np.mean(allvalue)\n",
    "    yerr = np.percentile(allvalue,[16,84])\n",
    "    print(np.where((allvalue >= 14) & (allvalue <= 14.3))[0].shape)\n",
    "\n",
    "    return ymed, yerr\n"
   ]
  },
  {
   "cell_type": "code",
   "execution_count": 10,
   "metadata": {
    "execution": {
     "iopub.execute_input": "2023-02-04T18:18:43.811211Z",
     "iopub.status.busy": "2023-02-04T18:18:43.810974Z",
     "iopub.status.idle": "2023-02-04T18:18:43.972328Z",
     "shell.execute_reply": "2023-02-04T18:18:43.971619Z",
     "shell.execute_reply.started": "2023-02-04T18:18:43.811177Z"
    },
    "tags": []
   },
   "outputs": [
    {
     "name": "stdout",
     "output_type": "stream",
     "text": [
      "GIZMO begins\n",
      "redshift is  0.0\n",
      "324 324\n",
      "median value,  984.2136874662153\n",
      "scatter  [ 886.2270347  1083.68876746]\n",
      "GADGETX begins\n",
      "redshift is  0.0\n",
      "324 324\n",
      "median value,  1002.2035606117854\n",
      "scatter  [ 911.16434921 1097.70454518]\n"
     ]
    }
   ],
   "source": [
    "snapb = [128,96,78,65,55,47,40]\n",
    "nGIZ = [324,324,323,323,323,318,306]\n",
    "nG3X = [324,324,324,323,323,320,305]\n",
    "\n",
    "print('GIZMO begins')\n",
    "i=0\n",
    "ymed, yerr = cal_sta_profiles(GIZd,snapb[i],nGIZ[i])\n",
    "print('median value, ', ymed)\n",
    "print('scatter ', yerr)\n",
    "\n",
    "print('GADGETX begins')\n",
    "ymed,yerr = cal_sta_profiles(G3Xd,snapb[i],nG3X[i])\n",
    "print('median value, ', ymed)\n",
    "print('scatter ', yerr)"
   ]
  },
  {
   "cell_type": "code",
   "execution_count": 4,
   "metadata": {
    "execution": {
     "iopub.execute_input": "2023-04-17T12:44:38.462631Z",
     "iopub.status.busy": "2023-04-17T12:44:38.462403Z",
     "iopub.status.idle": "2023-04-17T12:44:40.360182Z",
     "shell.execute_reply": "2023-04-17T12:44:40.359138Z",
     "shell.execute_reply.started": "2023-04-17T12:44:38.462609Z"
    },
    "tags": []
   },
   "outputs": [
    {
     "name": "stdout",
     "output_type": "stream",
     "text": [
      "GIZMO begins\n",
      "redshift is  0.0\n",
      "324 324\n",
      "minimum and maximum value 14.524794332338098 15.413776515939725\n",
      "(0,)\n",
      "median value,  14.91\n",
      "scatter  [14.78 15.04]\n",
      "\n",
      "\n",
      "GIZMO begins\n",
      "redshift is  1.030549168586731\n",
      "324 324\n",
      "minimum and maximum value 13.240474858448064 14.907593893203178\n",
      "(125,)\n",
      "median value,  14.17\n",
      "scatter  [13.87 14.48]\n",
      "\n",
      "\n",
      "GIZMO begins\n",
      "redshift is  2.0213561058044434\n",
      "323 323\n",
      "minimum and maximum value 12.17774576984052 14.482411986627572\n",
      "(17,)\n",
      "median value,  13.47\n",
      "scatter  [13.11 13.84]\n",
      "\n",
      "\n",
      "GIZMO begins\n",
      "redshift is  3.0278635025024414\n",
      "323 323\n",
      "minimum and maximum value 11.612562518629096 14.15444249604996\n",
      "(1,)\n",
      "median value,  12.91\n",
      "scatter  [12.51 13.32]\n",
      "\n",
      "\n",
      "GIZMO begins\n",
      "redshift is  4.017714977264404\n",
      "323 323\n",
      "minimum and maximum value 10.662036751721294 13.97905009141757\n",
      "(0,)\n",
      "median value,  12.39\n",
      "scatter  [11.93 12.83]\n",
      "\n",
      "\n",
      "GADGETX begins\n",
      "redshift is  0.0\n",
      "324 324\n",
      "minimum and maximum value 14.577771653420765 15.413893692651078\n",
      "(0,)\n",
      "median value,  14.93\n",
      "scatter  [14.81 15.06]\n",
      "\n",
      "\n",
      "GADGETX begins\n",
      "redshift is  1.030549168586731\n",
      "324 324\n",
      "minimum and maximum value 13.353385500312612 14.916422253397732\n",
      "(126,)\n",
      "median value,  14.19\n",
      "scatter  [13.86 14.5 ]\n",
      "\n",
      "\n",
      "GADGETX begins\n",
      "redshift is  2.0213561058044434\n",
      "324 324\n",
      "minimum and maximum value 12.200667707587844 14.515057136422064\n",
      "(19,)\n",
      "median value,  13.49\n",
      "scatter  [13.14 13.86]\n",
      "\n",
      "\n",
      "GADGETX begins\n",
      "redshift is  3.0278635025024414\n",
      "323 323\n",
      "minimum and maximum value 11.535669384255844 14.132280387195099\n",
      "(1,)\n",
      "median value,  12.92\n",
      "scatter  [12.52 13.33]\n",
      "\n",
      "\n",
      "GADGETX begins\n",
      "redshift is  4.017714977264404\n",
      "323 323\n",
      "minimum and maximum value 10.841600223179404 13.9782828394429\n",
      "(0,)\n",
      "median value,  12.4\n",
      "scatter  [11.98 12.82]\n",
      "\n",
      "\n"
     ]
    }
   ],
   "source": [
    "snapb = [128,96,78,65,55,47,40]\n",
    "nGIZ = [324,324,323,323,323,318,306]\n",
    "nG3X = [324,324,324,323,323,320,305]\n",
    "\n",
    "\n",
    "for i in [0,1,2,3,4]:\n",
    "    print('GIZMO begins')\n",
    "    ymed, yerr = cal_sta_profiles(GIZd,snapb[i],nGIZ[i])\n",
    "    print('median value, ', np.round(ymed, 2))\n",
    "    print('scatter ', np.round(yerr, 2))\n",
    "    print('\\n')\n",
    "\n",
    "for i in [0,1,2,3,4]:\n",
    "    print('GADGETX begins')\n",
    "    ymed,yerr = cal_sta_profiles(G3Xd,snapb[i],nG3X[i])\n",
    "    print('median value, ', np.round(ymed, 2))\n",
    "    print('scatter ', np.round(yerr, 2))\n",
    "    print('\\n')\n"
   ]
  },
  {
   "cell_type": "code",
   "execution_count": 16,
   "metadata": {
    "execution": {
     "iopub.execute_input": "2022-09-23T07:47:08.072998Z",
     "iopub.status.busy": "2022-09-23T07:47:08.072770Z",
     "iopub.status.idle": "2022-09-23T07:47:08.076496Z",
     "shell.execute_reply": "2022-09-23T07:47:08.076060Z",
     "shell.execute_reply.started": "2022-09-23T07:47:08.072975Z"
    },
    "tags": []
   },
   "outputs": [
    {
     "data": {
      "text/plain": [
       "0.13612671124661682"
      ]
     },
     "execution_count": 16,
     "metadata": {},
     "output_type": "execute_result"
    }
   ],
   "source": [
    "10**14.74 * 0.13 / 10**14.72"
   ]
  },
  {
   "cell_type": "code",
   "execution_count": null,
   "metadata": {},
   "outputs": [],
   "source": []
  }
 ],
 "metadata": {
  "kernelspec": {
   "display_name": "py37",
   "language": "python",
   "name": "python3.7"
  },
  "language_info": {
   "codemirror_mode": {
    "name": "ipython",
    "version": 3
   },
   "file_extension": ".py",
   "mimetype": "text/x-python",
   "name": "python",
   "nbconvert_exporter": "python",
   "pygments_lexer": "ipython3",
   "version": "3.7.10"
  }
 },
 "nbformat": 4,
 "nbformat_minor": 4
}
