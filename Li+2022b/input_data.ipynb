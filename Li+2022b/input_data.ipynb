{
 "cells": [
  {
   "cell_type": "code",
   "execution_count": 1,
   "metadata": {
    "execution": {
     "iopub.execute_input": "2021-12-24T01:29:04.321471Z",
     "iopub.status.busy": "2021-12-24T01:29:04.321105Z",
     "iopub.status.idle": "2021-12-24T01:29:05.610407Z",
     "shell.execute_reply": "2021-12-24T01:29:05.609855Z",
     "shell.execute_reply.started": "2021-12-24T01:29:04.321403Z"
    },
    "tags": []
   },
   "outputs": [
    {
     "name": "stdout",
     "output_type": "stream",
     "text": [
      "Populating the interactive namespace from numpy and matplotlib\n"
     ]
    }
   ],
   "source": [
    "%pylab notebook\n",
    "import numpy as np \n",
    "import h5py\n",
    "import matplotlib.pyplot as plt\n",
    "import pandas as pd\n",
    "from astropy.io import fits\n",
    "from astropy.utils.data import get_pkg_data_filename"
   ]
  },
  {
   "cell_type": "code",
   "execution_count": 2,
   "metadata": {
    "execution": {
     "iopub.execute_input": "2021-12-09T06:12:54.459210Z",
     "iopub.status.busy": "2021-12-09T06:12:54.458832Z",
     "iopub.status.idle": "2021-12-09T06:13:02.761724Z",
     "shell.execute_reply": "2021-12-09T06:13:02.760872Z",
     "shell.execute_reply.started": "2021-12-09T06:12:54.459181Z"
    },
    "tags": []
   },
   "outputs": [
    {
     "name": "stdout",
     "output_type": "stream",
     "text": [
      "<bound method NDFrame.head of              galid        ra_1     dec_1    phoz   phozerr    magi  \\\n",
      "0              2.0  149.437506  2.879034  0.1001  0.032274  25.941   \n",
      "1              3.0  149.563015  2.879019  0.8144  0.032193  25.994   \n",
      "2              4.0  149.432717  2.879032  1.7347  0.131179  25.003   \n",
      "3              6.0  149.448520  2.879119  0.8384  0.032487  25.070   \n",
      "4              9.0  149.454323  2.879027  0.6312  0.029975  23.202   \n",
      "...            ...         ...       ...     ...       ...     ...   \n",
      "5631446  7752512.0   36.525155 -3.759807  2.8978  0.036575  24.318   \n",
      "5631447  7752515.0   36.349188 -3.754277  3.5125  0.035708  25.350   \n",
      "5631448  7752524.0   36.348559 -3.690420  0.2803  0.029316  24.306   \n",
      "5631449  7752528.0   36.358215 -3.675935  0.2537  0.029611  25.550   \n",
      "5631450  7752543.0   36.460688 -3.719532  0.3090  0.029052  24.254   \n",
      "\n",
      "               ra_2     dec_2     gal_id      mag_i  phoz_demp  Separation  \n",
      "0        149.437546  2.878967  1074451.0  25.481586       1.53    0.278782  \n",
      "1        149.562925  2.879021  2540781.0  26.054020       3.46    0.321419  \n",
      "2        149.432728  2.878938  1003007.0  24.448608       1.13    0.340046  \n",
      "3        149.448523  2.879123  1131620.0  24.757420       0.78    0.019438  \n",
      "4        149.454279  2.878962   989781.0  22.830069       0.68    0.284148  \n",
      "...             ...       ...        ...        ...        ...         ...  \n",
      "5631446   36.525227 -3.759896  6158350.0  23.973230       2.63    0.412250  \n",
      "5631447   36.349125 -3.754243  5381499.0  24.649057       4.24    0.254307  \n",
      "5631448   36.348516 -3.690467  5428677.0  23.781832       0.37    0.225951  \n",
      "5631449   36.358231 -3.675942  5336675.0  25.415932       1.46    0.064209  \n",
      "5631450   36.460611 -3.719613  6135705.0  24.521687       0.91    0.401055  \n",
      "\n",
      "[5631451 rows x 12 columns]>\n"
     ]
    }
   ],
   "source": [
    "matchdata = pd.read_csv('./HSC_CLAUDS_match_sample')\n",
    "print(matchdata.head)\n",
    "#CLAUDS:  galid        ra_1     dec_1    phoz   phozerr    magi  \\\n",
    "#HSC: ra_2     dec_2     gal_id      mag_i  phoz_demp"
   ]
  },
  {
   "cell_type": "code",
   "execution_count": 3,
   "metadata": {
    "execution": {
     "iopub.execute_input": "2021-12-09T06:13:06.587416Z",
     "iopub.status.busy": "2021-12-09T06:13:06.586674Z",
     "iopub.status.idle": "2021-12-09T06:13:06.682421Z",
     "shell.execute_reply": "2021-12-09T06:13:06.681804Z",
     "shell.execute_reply.started": "2021-12-09T06:13:06.587380Z"
    },
    "tags": []
   },
   "outputs": [
    {
     "name": "stdout",
     "output_type": "stream",
     "text": [
      "(5631451,)\n"
     ]
    }
   ],
   "source": [
    "ra = np.array(matchdata['ra_1'][:])\n",
    "dec = np.array(matchdata['dec_1'][:])\n",
    "phoz = np.array(matchdata['phoz'][:]) #already use specz to instead photoz\n",
    "phozerr = np.array(matchdata['phozerr'][:])\n",
    "magi = np.array(matchdata['magi'][:])\n",
    "print(ra.shape)"
   ]
  },
  {
   "cell_type": "code",
   "execution_count": 9,
   "metadata": {
    "execution": {
     "iopub.execute_input": "2021-12-09T06:23:32.666571Z",
     "iopub.status.busy": "2021-12-09T06:23:32.666281Z",
     "iopub.status.idle": "2021-12-09T06:23:32.695064Z",
     "shell.execute_reply": "2021-12-09T06:23:32.694525Z",
     "shell.execute_reply.started": "2021-12-09T06:23:32.666547Z"
    },
    "tags": []
   },
   "outputs": [],
   "source": [
    "from astropy.io import fits\n",
    "Kcort = fits.open('/home/hemin/work/kcorrect/clauds/clauds_total_flux_kcorrect_new_0.fits')\n",
    "K_i = Kcort[1].data['KCORRECT_I']\n",
    "mag_g = Kcort[1].data['GMAG']\n",
    "mag_r = Kcort[1].data['RMAG']\n",
    "Kcort.close()"
   ]
  },
  {
   "cell_type": "code",
   "execution_count": 10,
   "metadata": {
    "execution": {
     "iopub.execute_input": "2021-12-09T06:23:33.661850Z",
     "iopub.status.busy": "2021-12-09T06:23:33.661595Z",
     "iopub.status.idle": "2021-12-09T06:23:33.977509Z",
     "shell.execute_reply": "2021-12-09T06:23:33.977007Z",
     "shell.execute_reply.started": "2021-12-09T06:23:33.661828Z"
    },
    "tags": []
   },
   "outputs": [
    {
     "data": {
      "text/plain": [
       "array([  23397,   25397,   26466,  148532,  182207,  182483,  182697,\n",
       "        182867,  183013,  183111,  183113,  183300,  183342,  183351,\n",
       "        183435,  183625,  183795,  183888,  184327,  185816,  189137,\n",
       "        192800,  268933,  279010,  282058,  283073,  312470,  321701,\n",
       "        327591,  340851,  341841,  345209,  354011,  364741,  366924,\n",
       "        386907,  392407,  412784,  440141,  465020,  471875,  485225,\n",
       "        541912,  600109,  631404,  633833,  633864,  633865,  634130,\n",
       "        646226,  655039,  656385,  657723,  676957,  682419,  689319,\n",
       "        692930,  734955,  735559,  746026,  779975,  792263,  834769,\n",
       "        835392,  835465,  835504,  835977,  835998,  836150,  836800,\n",
       "        837279,  838355,  838462,  838463,  839188,  839191,  839337,\n",
       "        839348,  839442,  852631,  897078,  976073,  981090, 1028991,\n",
       "       1063028, 1063896, 1080048, 1082565, 1082711, 1083687, 1083853,\n",
       "       1084209, 1086401, 1094468, 1094784, 1095010, 1097940, 1098352,\n",
       "       1099611, 1104691, 1107209, 1123221, 1149477, 1150415, 1180450,\n",
       "       1183866, 1213200, 1214734, 1215882, 1219656, 1219657, 1266048,\n",
       "       1310283, 1310326, 1310974, 1310977, 1323352, 1323450, 1323677,\n",
       "       1323719, 1323868, 1323984, 1324008, 1326462, 1337095, 1403090,\n",
       "       1406299, 1407375, 1408330, 1424771, 1446116, 1446455, 1449037,\n",
       "       1451843, 1454604, 1454874, 1455534, 1455637, 1459589, 1460961,\n",
       "       1462944, 1463801, 1468354, 1482233, 1493915, 1494033, 1502250,\n",
       "       1502655, 1505234, 1505514, 1505600, 1505928, 1506858, 1511616,\n",
       "       1512892, 1517262, 1528737, 1531009, 1533020, 1533424, 1539923,\n",
       "       1541929, 1542587, 1542817, 1549588, 1551499, 1551559, 1552107,\n",
       "       1553621, 1555721, 1559112, 1559438, 1560914, 1563448, 1564855,\n",
       "       1567564, 1569708, 1571791, 1577157, 1580947, 1587408, 1596176,\n",
       "       1597612, 1602250, 1606750, 1617579, 1624333, 1641027, 1642908,\n",
       "       1646347, 1647399, 1653703, 1657621, 1657846, 1658858, 1659597,\n",
       "       1663480, 1677479, 1679742, 1680629, 1683589, 1685050, 1687722,\n",
       "       1688211, 1688798, 1689580, 1713313, 1719184, 1729229, 1729597,\n",
       "       1731587, 1732042, 1732153, 1769641, 1791720, 1850971, 1881727,\n",
       "       1887023, 2317705, 2317877, 2317886, 2317902, 2318177, 2318274,\n",
       "       2318311, 2318334, 2318994, 2711742, 2712248, 2892066, 2892315,\n",
       "       2894168, 2895670, 3075498, 3151416, 3177934, 3178125, 3204751,\n",
       "       3204944, 3205886, 3261049, 3315953, 3316051, 3316225, 3316620,\n",
       "       3476965, 3545809, 3607111, 3736061, 3736154, 3736774, 3736886,\n",
       "       3736958, 3737545, 3737631, 3751615, 3858848, 3883694, 3883735,\n",
       "       4013348, 4017443, 4036242, 4148984, 4149030, 4149303, 4149400,\n",
       "       4167748, 4175475, 4284865, 4373749, 4373937, 4375376, 4375445,\n",
       "       4398656, 4412889, 4412895, 4412896, 4413502, 4413742, 4414152,\n",
       "       4418520, 4418708, 4419157, 4419211, 4419212, 4419463, 4461418,\n",
       "       4496630, 4565975, 4613491, 4613492, 4642794, 4655715, 4655840,\n",
       "       4683627, 4684324, 4684944, 4685158, 4686019, 4687085, 4687661,\n",
       "       4688455, 4688554, 4688724, 4688746, 4688767, 4688922, 4688958,\n",
       "       4689047, 4689276, 4689327, 4689360, 4689540, 4689544, 4689576,\n",
       "       4689601, 4689701, 4689728, 4689805, 4689849, 4689975, 4690012,\n",
       "       4690030, 4690101, 4690102, 4690479, 4690587, 5024912, 5031380,\n",
       "       5039272, 5066663, 5066861, 5067239, 5067625, 5067742, 5067963,\n",
       "       5068040, 5068299, 5068456, 5068496, 5068505, 5068842, 5069826,\n",
       "       5070096, 5070286, 5111157, 5215409, 5217553, 5523573, 5523914,\n",
       "       5524376, 5524386, 5549816, 5568978, 5569032, 5569385, 5569773,\n",
       "       5569785, 5629883, 5629884, 5630657, 5630688])"
      ]
     },
     "execution_count": 10,
     "metadata": {},
     "output_type": "execute_result"
    }
   ],
   "source": [
    "np.where(np.isnan(K_i) == True)[0]"
   ]
  },
  {
   "cell_type": "code",
   "execution_count": 5,
   "metadata": {
    "execution": {
     "iopub.execute_input": "2021-12-09T06:13:31.456771Z",
     "iopub.status.busy": "2021-12-09T06:13:31.456439Z",
     "iopub.status.idle": "2021-12-09T06:13:50.857291Z",
     "shell.execute_reply": "2021-12-09T06:13:50.856387Z",
     "shell.execute_reply.started": "2021-12-09T06:13:31.456747Z"
    },
    "tags": []
   },
   "outputs": [
    {
     "name": "stdout",
     "output_type": "stream",
     "text": [
      "(5631451, 6)\n",
      "(5631089,)\n"
     ]
    }
   ],
   "source": [
    "seldata = np.array([ra,dec,phoz,phozerr,magi,K_i]).T\n",
    "print(seldata.shape)\n",
    "'''\n",
    "CLAUDS_HSC DEEP GALAXY DATA:\n",
    "1. RA\n",
    "2. DEC\n",
    "3. PHOZ\n",
    "4. PHOZ ERROR\n",
    "5. MAGNITUDE: i-BAND\n",
    "6. Kcorretion for i bang\n",
    "'''\n",
    "idxnonan = np.where(np.isnan(K_i) == False)[0]\n",
    "print(idxnonan.shape)\n",
    "np.savetxt('./CLAUDS_HSC_iband_Kcort_new_0', seldata[idxnonan], \n",
    "           fmt = '%.10f %.10f %.7f %.7f %.7f %.7f')"
   ]
  },
  {
   "cell_type": "code",
   "execution_count": 11,
   "metadata": {
    "execution": {
     "iopub.execute_input": "2021-12-09T06:32:12.457950Z",
     "iopub.status.busy": "2021-12-09T06:32:12.457665Z",
     "iopub.status.idle": "2021-12-09T06:32:47.706867Z",
     "shell.execute_reply": "2021-12-09T06:32:47.706311Z",
     "shell.execute_reply.started": "2021-12-09T06:32:12.457928Z"
    }
   },
   "outputs": [],
   "source": [
    "dtest = np.loadtxt('./CLAUDS_HSC_iband_Kcort_new_0')"
   ]
  },
  {
   "cell_type": "code",
   "execution_count": 12,
   "metadata": {
    "execution": {
     "iopub.execute_input": "2021-12-09T06:32:49.549534Z",
     "iopub.status.busy": "2021-12-09T06:32:49.549240Z",
     "iopub.status.idle": "2021-12-09T06:32:49.747889Z",
     "shell.execute_reply": "2021-12-09T06:32:49.747461Z",
     "shell.execute_reply.started": "2021-12-09T06:32:49.549508Z"
    }
   },
   "outputs": [
    {
     "data": {
      "text/plain": [
       "array([], dtype=int64)"
      ]
     },
     "execution_count": 12,
     "metadata": {},
     "output_type": "execute_result"
    }
   ],
   "source": [
    "np.where(np.isnan(dtest) == True)[0]"
   ]
  },
  {
   "cell_type": "code",
   "execution_count": 5,
   "metadata": {
    "execution": {
     "iopub.execute_input": "2021-10-18T13:55:37.006295Z",
     "iopub.status.busy": "2021-10-18T13:55:37.005951Z",
     "iopub.status.idle": "2021-10-18T13:55:37.012454Z",
     "shell.execute_reply": "2021-10-18T13:55:37.012047Z",
     "shell.execute_reply.started": "2021-10-18T13:55:37.006272Z"
    },
    "tags": []
   },
   "outputs": [
    {
     "data": {
      "text/plain": [
       "<module 'check_redz' from '/home/qyli/clu_finder/CLAUDS_HSC/prod_catlg_iband1/check_redz.py'>"
      ]
     },
     "execution_count": 5,
     "metadata": {},
     "output_type": "execute_result"
    }
   ],
   "source": [
    "# import sys\n",
    "\n",
    "# sys.path.append('/home/qyli/clu_finder/CLAUDS_HSC/prod_catlg_iband1')\n",
    "# import check_redz\n",
    "# import imp\n",
    "# imp.reload(check_redz)"
   ]
  },
  {
   "cell_type": "code",
   "execution_count": 6,
   "metadata": {
    "execution": {
     "iopub.execute_input": "2021-10-18T13:55:44.842272Z",
     "iopub.status.busy": "2021-10-18T13:55:44.841923Z",
     "iopub.status.idle": "2021-10-18T13:55:44.874153Z",
     "shell.execute_reply": "2021-10-18T13:55:44.873565Z",
     "shell.execute_reply.started": "2021-10-18T13:55:44.842247Z"
    }
   },
   "outputs": [
    {
     "ename": "NameError",
     "evalue": "name 'spez' is not defined",
     "output_type": "error",
     "traceback": [
      "\u001b[0;31m---------------------------------------------------------------------------\u001b[0m",
      "\u001b[0;31mNameError\u001b[0m                                 Traceback (most recent call last)",
      "\u001b[0;32m/tmp/ipykernel_17653/1330132412.py\u001b[0m in \u001b[0;36m<module>\u001b[0;34m\u001b[0m\n\u001b[0;32m----> 1\u001b[0;31m \u001b[0midxspez\u001b[0m \u001b[0;34m=\u001b[0m \u001b[0mnp\u001b[0m\u001b[0;34m.\u001b[0m\u001b[0mwhere\u001b[0m\u001b[0;34m(\u001b[0m\u001b[0;34m(\u001b[0m\u001b[0mspez\u001b[0m \u001b[0;34m>\u001b[0m \u001b[0;36m0\u001b[0m\u001b[0;34m)\u001b[0m\u001b[0;34m)\u001b[0m\u001b[0;34m[\u001b[0m\u001b[0;36m0\u001b[0m\u001b[0;34m]\u001b[0m\u001b[0;34m\u001b[0m\u001b[0;34m\u001b[0m\u001b[0m\n\u001b[0m\u001b[1;32m      2\u001b[0m \u001b[0mprint\u001b[0m\u001b[0;34m(\u001b[0m\u001b[0midxspez\u001b[0m\u001b[0;34m.\u001b[0m\u001b[0mshape\u001b[0m\u001b[0;34m)\u001b[0m\u001b[0;34m\u001b[0m\u001b[0;34m\u001b[0m\u001b[0m\n\u001b[1;32m      3\u001b[0m \u001b[0mxx\u001b[0m\u001b[0;34m,\u001b[0m \u001b[0mrate_sca\u001b[0m \u001b[0;34m=\u001b[0m \u001b[0mcheck_redz\u001b[0m\u001b[0;34m.\u001b[0m\u001b[0mplot_evalz_phoz\u001b[0m\u001b[0;34m(\u001b[0m\u001b[0mspez\u001b[0m\u001b[0;34m[\u001b[0m\u001b[0midxspez\u001b[0m\u001b[0;34m]\u001b[0m\u001b[0;34m,\u001b[0m \u001b[0mphoz\u001b[0m\u001b[0;34m[\u001b[0m\u001b[0midxspez\u001b[0m\u001b[0;34m]\u001b[0m\u001b[0;34m,\u001b[0m \u001b[0;36m6\u001b[0m\u001b[0;34m,\u001b[0m \u001b[0;36m20\u001b[0m\u001b[0;34m)\u001b[0m\u001b[0;34m\u001b[0m\u001b[0;34m\u001b[0m\u001b[0m\n\u001b[1;32m      4\u001b[0m \u001b[0;34m\u001b[0m\u001b[0m\n\u001b[1;32m      5\u001b[0m \u001b[0;32mfrom\u001b[0m \u001b[0mscipy\u001b[0m\u001b[0;34m.\u001b[0m\u001b[0minterpolate\u001b[0m \u001b[0;32mimport\u001b[0m \u001b[0minterp1d\u001b[0m\u001b[0;34m\u001b[0m\u001b[0;34m\u001b[0m\u001b[0m\n",
      "\u001b[0;31mNameError\u001b[0m: name 'spez' is not defined"
     ]
    }
   ],
   "source": [
    "# idxspez = np.where((spez > 0))[0]\n",
    "# print(idxspez.shape)\n",
    "# xx, rate_sca = check_redz.plot_evalz_phoz(spez[idxspez], phoz[idxspez], 6, 20)\n",
    "\n",
    "# from scipy.interpolate import interp1d\n",
    "# f_zerr = interp1d(xx, rate_sca, kind= 'quadratic', fill_value = 'extrapolate')\n",
    "# xz = np.linspace(0.,6.0,100)\n",
    "# plt.plot(xz, f_zerr(xz), 'r-', label = 'spline interpolator')\n",
    "# plt.legend(loc='best')"
   ]
  },
  {
   "cell_type": "code",
   "execution_count": 2,
   "metadata": {
    "execution": {
     "iopub.execute_input": "2021-12-24T01:29:37.322147Z",
     "iopub.status.busy": "2021-12-24T01:29:37.321821Z",
     "iopub.status.idle": "2021-12-24T01:30:11.024972Z",
     "shell.execute_reply": "2021-12-24T01:30:11.024160Z",
     "shell.execute_reply.started": "2021-12-24T01:29:37.322121Z"
    }
   },
   "outputs": [],
   "source": [
    "# gal = np.loadtxt('./CLAUDS_HSC_iband')"
   ]
  },
  {
   "cell_type": "code",
   "execution_count": 10,
   "metadata": {
    "execution": {
     "iopub.execute_input": "2021-12-24T01:40:21.322232Z",
     "iopub.status.busy": "2021-12-24T01:40:21.321963Z",
     "iopub.status.idle": "2021-12-24T01:40:35.235079Z",
     "shell.execute_reply": "2021-12-24T01:40:35.234325Z",
     "shell.execute_reply.started": "2021-12-24T01:40:21.322210Z"
    },
    "tags": []
   },
   "outputs": [],
   "source": [
    "# np.savetxt('../../../work/HSC_MOCK/CLAUDS_HSC_iband', gal[:,:4], \n",
    "#            fmt = '%.10f %.10f %.7f %.7f')"
   ]
  },
  {
   "cell_type": "code",
   "execution_count": 4,
   "metadata": {
    "execution": {
     "iopub.execute_input": "2021-12-24T01:31:58.322636Z",
     "iopub.status.busy": "2021-12-24T01:31:58.322278Z",
     "iopub.status.idle": "2021-12-24T01:32:33.437228Z",
     "shell.execute_reply": "2021-12-24T01:32:33.436580Z",
     "shell.execute_reply.started": "2021-12-24T01:31:58.322609Z"
    }
   },
   "outputs": [],
   "source": [
    "# dgal = np.loadtxt('./odata/CLAUDS_HSC_iband_igal')"
   ]
  },
  {
   "cell_type": "code",
   "execution_count": 5,
   "metadata": {
    "execution": {
     "iopub.execute_input": "2021-12-24T01:32:40.322623Z",
     "iopub.status.busy": "2021-12-24T01:32:40.322336Z",
     "iopub.status.idle": "2021-12-24T01:32:40.326593Z",
     "shell.execute_reply": "2021-12-24T01:32:40.326110Z",
     "shell.execute_reply.started": "2021-12-24T01:32:40.322600Z"
    },
    "tags": []
   },
   "outputs": [
    {
     "data": {
      "text/plain": [
       "((5631451, 5), (5607052, 6))"
      ]
     },
     "execution_count": 5,
     "metadata": {},
     "output_type": "execute_result"
    }
   ],
   "source": [
    "# gal.shape,dgal.shape"
   ]
  },
  {
   "cell_type": "code",
   "execution_count": 11,
   "metadata": {
    "execution": {
     "iopub.execute_input": "2021-12-24T01:42:16.708684Z",
     "iopub.status.busy": "2021-12-24T01:42:16.708373Z",
     "iopub.status.idle": "2021-12-24T01:42:30.772718Z",
     "shell.execute_reply": "2021-12-24T01:42:30.771966Z",
     "shell.execute_reply.started": "2021-12-24T01:42:16.708658Z"
    }
   },
   "outputs": [],
   "source": [
    "# np.savetxt('../../../work/HSC_MOCK/CLAUDS_HSC_iband_catalogue', dgal[:,1:5], \n",
    "#            fmt = '%.10f %.10f %.7f %.7f')"
   ]
  },
  {
   "cell_type": "code",
   "execution_count": null,
   "metadata": {},
   "outputs": [],
   "source": []
  }
 ],
 "metadata": {
  "kernelspec": {
   "display_name": "py37",
   "language": "python",
   "name": "python3.7"
  },
  "language_info": {
   "codemirror_mode": {
    "name": "ipython",
    "version": 3
   },
   "file_extension": ".py",
   "mimetype": "text/x-python",
   "name": "python",
   "nbconvert_exporter": "python",
   "pygments_lexer": "ipython3",
   "version": "3.7.10"
  }
 },
 "nbformat": 4,
 "nbformat_minor": 4
}
