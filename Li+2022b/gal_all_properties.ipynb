{
 "cells": [
  {
   "cell_type": "code",
   "execution_count": 1,
   "id": "0b5aeb14-cb57-4d20-a6ba-8ddcf8ac6f4e",
   "metadata": {
    "execution": {
     "iopub.execute_input": "2021-11-08T02:22:51.663651Z",
     "iopub.status.busy": "2021-11-08T02:22:51.663389Z",
     "iopub.status.idle": "2021-11-08T02:22:53.002624Z",
     "shell.execute_reply": "2021-11-08T02:22:53.002132Z",
     "shell.execute_reply.started": "2021-11-08T02:22:51.663596Z"
    },
    "tags": []
   },
   "outputs": [],
   "source": [
    "\n",
    "import numpy as np \n",
    "from astropy.io import fits\n",
    "import matplotlib.pyplot as plt\n",
    "import pandas as pd"
   ]
  },
  {
   "cell_type": "code",
   "execution_count": 2,
   "id": "e2f49caa-c7d7-42ea-85e2-3c6e99672054",
   "metadata": {
    "execution": {
     "iopub.execute_input": "2021-11-08T02:22:55.932320Z",
     "iopub.status.busy": "2021-11-08T02:22:55.932047Z",
     "iopub.status.idle": "2021-11-08T02:22:55.985498Z",
     "shell.execute_reply": "2021-11-08T02:22:55.985016Z",
     "shell.execute_reply.started": "2021-11-08T02:22:55.932298Z"
    },
    "tags": []
   },
   "outputs": [],
   "source": [
    "COSMOS = fits.open('../CLAUDS_HSC_Photoz/COSMOS_v2_v200930.fits')\n",
    "DEEP = fits.open('../CLAUDS_HSC_Photoz/DEEP_2_v2_v200930.fits')\n",
    "ELAIS = fits.open('../CLAUDS_HSC_Photoz/ELAIS_v2_v200930.fits')\n",
    "XMMLSS = fits.open('../CLAUDS_HSC_Photoz/XMM_LSS_v2_v200930.fits')"
   ]
  },
  {
   "cell_type": "code",
   "execution_count": 3,
   "id": "4907f8cd-f8a5-44d2-8d5f-2662f9f81c7a",
   "metadata": {
    "execution": {
     "iopub.execute_input": "2021-11-08T02:22:58.793928Z",
     "iopub.status.busy": "2021-11-08T02:22:58.793645Z",
     "iopub.status.idle": "2021-11-08T02:23:03.762834Z",
     "shell.execute_reply": "2021-11-08T02:23:03.762317Z",
     "shell.execute_reply.started": "2021-11-08T02:22:58.793904Z"
    },
    "tags": []
   },
   "outputs": [],
   "source": [
    "cosmos_mask = COSMOS[1].data['MASK']\n",
    "deep_mask = DEEP[1].data['MASK']\n",
    "elais_mask = ELAIS[1].data['MASK']\n",
    "xmmlss_mask = XMMLSS[1].data['MASK']\n",
    "\n",
    "\n",
    "cosmos_obj = COSMOS[1].data['OBJ_TYPE']\n",
    "deep_obj = DEEP[1].data['OBJ_TYPE']\n",
    "elais_obj = ELAIS[1].data['OBJ_TYPE']\n",
    "xmmlss_obj = XMMLSS[1].data['OBJ_TYPE']\n",
    "\n",
    "cosmos_phoz0 = COSMOS[1].data['Z_BEST']\n",
    "deep_phoz0 = DEEP[1].data['Z_BEST']\n",
    "elais_phoz0 = ELAIS[1].data['Z_BEST']\n",
    "xmmlss_phoz0 = XMMLSS[1].data['Z_BEST']\n",
    "\n",
    "cosmos_magy0 = COSMOS[1].data['y']\n",
    "deep_magy0 = DEEP[1].data['y']\n",
    "elais_magy0 = ELAIS[1].data['y']\n",
    "xmmlss_magy0 = XMMLSS[1].data['y']\n",
    "\n",
    "cosmos_magg0 = COSMOS[1].data['g']\n",
    "deep_magg0 = DEEP[1].data['g']\n",
    "elais_magg0 = ELAIS[1].data['g']\n",
    "xmmlss_magg0 = XMMLSS[1].data['g']\n",
    "\n",
    "cosmos_magr0 = COSMOS[1].data['r']\n",
    "deep_magr0 = DEEP[1].data['r']\n",
    "elais_magr0 = ELAIS[1].data['r']\n",
    "xmmlss_magr0 = XMMLSS[1].data['r']\n",
    "\n",
    "cosmos_magi0 = COSMOS[1].data['i']\n",
    "deep_magi0 = DEEP[1].data['i']\n",
    "elais_magi0 = ELAIS[1].data['i']\n",
    "xmmlss_magi0 = XMMLSS[1].data['i']\n",
    "\n",
    "cosmos_magz0 = COSMOS[1].data['z']\n",
    "deep_magz0 = DEEP[1].data['z']\n",
    "elais_magz0 = ELAIS[1].data['z']\n",
    "xmmlss_magz0 = XMMLSS[1].data['z']\n",
    "\n",
    "cosmos_magierr = COSMOS[1].data['i_err']\n",
    "deep_magierr = DEEP[1].data['i_err']\n",
    "elais_magierr = ELAIS[1].data['i_err']\n",
    "xmmlss_magierr = XMMLSS[1].data['i_err']\n",
    "\n",
    "elais_ra0 = ELAIS[1].data['RA']\n",
    "xmmlss_ra0 = XMMLSS[1].data['RA']\n",
    "elais_dec0 = ELAIS[1].data['DEC']\n",
    "xmmlss_dec0 = XMMLSS[1].data['DEC']"
   ]
  },
  {
   "cell_type": "code",
   "execution_count": 4,
   "id": "2db600a4-5b11-46f1-8d6f-ac7102b138ed",
   "metadata": {
    "execution": {
     "iopub.execute_input": "2021-10-21T05:53:42.345813Z",
     "iopub.status.busy": "2021-10-21T05:53:42.345391Z",
     "iopub.status.idle": "2021-10-21T05:53:44.705352Z",
     "shell.execute_reply": "2021-10-21T05:53:44.704698Z",
     "shell.execute_reply.started": "2021-10-21T05:53:42.345781Z"
    },
    "tags": []
   },
   "outputs": [],
   "source": [
    "cosmos_ra = COSMOS[1].data['RA']\n",
    "deep_ra = DEEP[1].data['RA']\n",
    "elais_ra = ELAIS[1].data['RA']\n",
    "xmmlss_ra = XMMLSS[1].data['RA']\n",
    "ra = np.hstack((cosmos_ra, deep_ra, elais_ra, xmmlss_ra))\n",
    "\n",
    "cosmos_dec = COSMOS[1].data['DEC']\n",
    "deep_dec = DEEP[1].data['DEC']\n",
    "elais_dec = ELAIS[1].data['DEC']\n",
    "xmmlss_dec = XMMLSS[1].data['DEC']\n",
    "dec = np.hstack((cosmos_dec, deep_dec, elais_dec, xmmlss_dec))"
   ]
  },
  {
   "cell_type": "code",
   "execution_count": 5,
   "id": "385fd920-9efc-4266-ab0d-cca220a9a5eb",
   "metadata": {
    "execution": {
     "iopub.execute_input": "2021-11-08T02:24:32.894953Z",
     "iopub.status.busy": "2021-11-08T02:24:32.894665Z",
     "iopub.status.idle": "2021-11-08T02:24:37.681899Z",
     "shell.execute_reply": "2021-11-08T02:24:37.681399Z",
     "shell.execute_reply.started": "2021-11-08T02:24:32.894930Z"
    },
    "tags": []
   },
   "outputs": [],
   "source": [
    "cosmos_0 = np.where((cosmos_mask == 0) & (cosmos_obj == 0) & (cosmos_phoz0 > 0)\n",
    "                   & (cosmos_magg0 > 0) & (cosmos_magr0 > 0) & (cosmos_magi0 > 0) & (cosmos_magz0 > 0) & (cosmos_magy0 > 0) \n",
    "                    & (cosmos_magierr < 1) & (cosmos_magi0 < 26))[0]\n",
    "deep_0 = np.where((deep_mask == 0) & (deep_obj == 0) & (deep_phoz0 > 0) \n",
    "                  & (deep_magg0 > 0) & (deep_magr0 > 0) & (deep_magi0 > 0) & (deep_magz0 > 0) & (deep_magy0 > 0) \n",
    "                 & (deep_magierr < 1) & (deep_magi0 < 26))[0]\n",
    "elais_0 = np.where((elais_mask == 0) & (elais_obj == 0) & (elais_phoz0 > 0) \n",
    "                  & (elais_magg0 > 0) & (elais_magr0 > 0) & (elais_magi0 > 0) & (elais_magz0 > 0) & (elais_magy0 > 0) \n",
    "                  & (elais_magierr < 1) & (elais_magi0 < 26)\n",
    "                  & ((elais_ra0 < 244.2) | (elais_ra0 > 244.4) | (elais_dec0 < 54.0) | (elais_dec0 > 54.2)))[0]\n",
    "xmmlss_0 = np.where((xmmlss_mask == 0) & (xmmlss_obj == 0) & (xmmlss_phoz0 > 0) \n",
    "                   & (xmmlss_magg0 > 0) & (xmmlss_magr0 > 0) & (xmmlss_magi0 > 0) & (xmmlss_magz0 > 0) & (xmmlss_magy0 > 0) \n",
    "                   & (xmmlss_magierr < 1) & (xmmlss_magi0 < 26)\n",
    "                   & ((xmmlss_ra0 < 37.1) | (xmmlss_ra0 > 37.3) | (xmmlss_dec0 < -5.3) | (xmmlss_dec0 > -5.1)))[0]"
   ]
  },
  {
   "cell_type": "code",
   "execution_count": 6,
   "id": "50009d95-2aae-473d-8571-6efb1f76a471",
   "metadata": {
    "execution": {
     "iopub.execute_input": "2021-11-08T02:24:54.632534Z",
     "iopub.status.busy": "2021-11-08T02:24:54.632246Z",
     "iopub.status.idle": "2021-11-08T02:24:55.545915Z",
     "shell.execute_reply": "2021-11-08T02:24:55.545418Z",
     "shell.execute_reply.started": "2021-11-08T02:24:54.632511Z"
    },
    "tags": []
   },
   "outputs": [],
   "source": [
    "cosmos_zML = COSMOS[1].data['Z_ML'][cosmos_0]\n",
    "deep_zML = DEEP[1].data['Z_ML'][deep_0]\n",
    "elais_zML = ELAIS[1].data['Z_ML'][elais_0]\n",
    "xmmlss_zML = XMMLSS[1].data['Z_ML'][xmmlss_0]\n",
    "zML = np.hstack((cosmos_zML, deep_zML, elais_zML, xmmlss_zML))\n",
    "\n",
    "cosmos_phoz = COSMOS[1].data['Z_BEST'][cosmos_0]\n",
    "deep_phoz = DEEP[1].data['Z_BEST'][deep_0]\n",
    "elais_phoz = ELAIS[1].data['Z_BEST'][elais_0]\n",
    "xmmlss_phoz = XMMLSS[1].data['Z_BEST'][xmmlss_0]\n",
    "phoz = np.hstack((cosmos_phoz, deep_phoz, elais_phoz, xmmlss_phoz))\n",
    "\n",
    "cosmos_spez = COSMOS[1].data['Z_SPEC'][cosmos_0]\n",
    "deep_spez = DEEP[1].data['Z_SPEC'][deep_0]\n",
    "elais_spez = ELAIS[1].data['Z_SPEC'][elais_0]\n",
    "xmmlss_spez = XMMLSS[1].data['Z_SPEC'][xmmlss_0]\n",
    "spez = np.hstack((cosmos_spez, deep_spez, elais_spez, xmmlss_spez))"
   ]
  },
  {
   "cell_type": "code",
   "execution_count": 7,
   "id": "48b132dc-8428-48fe-81bb-06135b4dc00a",
   "metadata": {
    "execution": {
     "iopub.execute_input": "2021-11-08T02:25:11.632617Z",
     "iopub.status.busy": "2021-11-08T02:25:11.632333Z",
     "iopub.status.idle": "2021-11-08T02:25:12.065313Z",
     "shell.execute_reply": "2021-11-08T02:25:12.064874Z",
     "shell.execute_reply.started": "2021-11-08T02:25:11.632594Z"
    },
    "tags": []
   },
   "outputs": [
    {
     "name": "stdout",
     "output_type": "stream",
     "text": [
      "The selected object number at photometry z < 6 is 65135\n",
      "[0.15 0.45 0.75 1.05 1.35 1.65 1.95 2.25 2.55 2.85 3.15 3.45 3.75 4.05\n",
      " 4.35 4.65 4.95 5.25 5.55 5.85]\n"
     ]
    },
    {
     "data": {
      "application/vnd.jupyter.widget-view+json": {
       "model_id": "1bc05d0538c141678cab78fe6bc30b41",
       "version_major": 2,
       "version_minor": 0
      },
      "text/plain": [
       "Canvas(toolbar=Toolbar(toolitems=[('Home', 'Reset original view', 'home', 'home'), ('Back', 'Back to previous …"
      ]
     },
     "metadata": {},
     "output_type": "display_data"
    }
   ],
   "source": [
    "import sys\n",
    "sys.path.append('/home/qyli/clu_finder/CLAUDS_HSC/prod_catlg_iband1')\n",
    "import check_redz\n",
    "import imp\n",
    "imp.reload(check_redz)\n",
    "%matplotlib ipympl\n",
    "\n",
    "idxspez = np.where((spez > 0))[0]\n",
    "xx, rate_sca = check_redz.plot_evalz_phoz(spez[idxspez], zML[idxspez], 6, 20)\n",
    "from scipy.interpolate import interp1d\n",
    "f_zerr = interp1d(xx, rate_sca, kind= 'quadratic', fill_value = 'extrapolate')"
   ]
  },
  {
   "cell_type": "code",
   "execution_count": 8,
   "id": "21cadb9c-e19e-4433-b009-58f93eb33cd7",
   "metadata": {
    "execution": {
     "iopub.execute_input": "2021-10-21T05:54:45.504923Z",
     "iopub.status.busy": "2021-10-21T05:54:45.504216Z",
     "iopub.status.idle": "2021-10-21T05:54:45.869878Z",
     "shell.execute_reply": "2021-10-21T05:54:45.869259Z",
     "shell.execute_reply.started": "2021-10-21T05:54:45.504892Z"
    },
    "tags": []
   },
   "outputs": [],
   "source": [
    "#produce z_err\n",
    "z_err = f_zerr(phoz)\n",
    "\n",
    "#update photoz with specz\n",
    "idxspez = np.where((spez > 0))[0]\n",
    "phoz[idxspez] = spez[idxspez]\n",
    "z_err[idxspez] = 0.0001\n"
   ]
  },
  {
   "cell_type": "code",
   "execution_count": 9,
   "id": "e54badcd-42b8-479b-a0fc-ba50a9a84aa9",
   "metadata": {
    "execution": {
     "iopub.execute_input": "2021-10-21T05:54:54.369877Z",
     "iopub.status.busy": "2021-10-21T05:54:54.369578Z",
     "iopub.status.idle": "2021-10-21T05:54:57.611251Z",
     "shell.execute_reply": "2021-10-21T05:54:57.610212Z",
     "shell.execute_reply.started": "2021-10-21T05:54:54.369852Z"
    },
    "tags": []
   },
   "outputs": [],
   "source": [
    "\n",
    "#select galaxy properties\n",
    "cosmos_ra = COSMOS[1].data['RA'][cosmos_0]\n",
    "deep_ra = DEEP[1].data['RA'][deep_0]\n",
    "elais_ra = ELAIS[1].data['RA'][elais_0]\n",
    "xmmlss_ra = XMMLSS[1].data['RA'][xmmlss_0]\n",
    "ra = np.hstack((cosmos_ra, deep_ra, elais_ra, xmmlss_ra))\n",
    "\n",
    "cosmos_dec = COSMOS[1].data['DEC'][cosmos_0]\n",
    "deep_dec = DEEP[1].data['DEC'][deep_0]\n",
    "elais_dec = ELAIS[1].data['DEC'][elais_0]\n",
    "xmmlss_dec = XMMLSS[1].data['DEC'][xmmlss_0]\n",
    "dec = np.hstack((cosmos_dec, deep_dec, elais_dec, xmmlss_dec))\n",
    "\n",
    "# cosmos_Magg = COSMOS[1].data['MAG_ABS_g'][cosmos_0]\n",
    "# deep_Magg = DEEP[1].data['MAG_ABS_g'][deep_0]\n",
    "# elais_Magg = ELAIS[1].data['MAG_ABS_g'][elais_0]\n",
    "# xmmlss_Magg = XMMLSS[1].data['MAG_ABS_g'][xmmlss_0]\n",
    "# Magg = np.hstack((cosmos_Magg, deep_Magg, elais_Magg, xmmlss_Magg))\n",
    "\n",
    "# cosmos_Magr = COSMOS[1].data['MAG_ABS_r'][cosmos_0]\n",
    "# deep_Magr = DEEP[1].data['MAG_ABS_r'][deep_0]\n",
    "# elais_Magr = ELAIS[1].data['MAG_ABS_r'][elais_0]\n",
    "# xmmlss_Magr = XMMLSS[1].data['MAG_ABS_r'][xmmlss_0]\n",
    "# Magr = np.hstack((cosmos_Magr, deep_Magr, elais_Magr, xmmlss_Magr))\n",
    "\n",
    "magg = np.hstack((cosmos_magg0[cosmos_0], deep_magg0[deep_0], elais_magg0[elais_0], xmmlss_magg0[xmmlss_0]))\n",
    "magr = np.hstack((cosmos_magr0[cosmos_0], deep_magr0[deep_0], elais_magr0[elais_0], xmmlss_magr0[xmmlss_0]))\n",
    "magi = np.hstack((cosmos_magi0[cosmos_0], deep_magi0[deep_0], elais_magi0[elais_0], xmmlss_magi0[xmmlss_0]))\n",
    "magz = np.hstack((cosmos_magz0[cosmos_0], deep_magz0[deep_0], elais_magz0[elais_0], xmmlss_magz0[xmmlss_0]))\n",
    "magy = np.hstack((cosmos_magy0[cosmos_0], deep_magy0[deep_0], elais_magy0[elais_0], xmmlss_magy0[xmmlss_0]))\n"
   ]
  },
  {
   "cell_type": "code",
   "execution_count": 10,
   "id": "eb6cc3ce-6326-43bc-9f51-01538cc8cdc5",
   "metadata": {
    "execution": {
     "iopub.execute_input": "2021-10-21T05:55:16.348062Z",
     "iopub.status.busy": "2021-10-21T05:55:16.347615Z",
     "iopub.status.idle": "2021-10-21T05:55:17.062804Z",
     "shell.execute_reply": "2021-10-21T05:55:17.062122Z",
     "shell.execute_reply.started": "2021-10-21T05:55:16.348032Z"
    },
    "tags": []
   },
   "outputs": [],
   "source": [
    "# cosmos_Magi = COSMOS[1].data['MAG_ABS_i'][cosmos_0]\n",
    "# deep_Magi = DEEP[1].data['MAG_ABS_i'][deep_0]\n",
    "# elais_Magi = ELAIS[1].data['MAG_ABS_i'][elais_0]\n",
    "# xmmlss_Magi = XMMLSS[1].data['MAG_ABS_i'][xmmlss_0]\n",
    "# Magi = np.hstack((cosmos_Magi, deep_Magi, elais_Magi, xmmlss_Magi))\n",
    "\n",
    "\n",
    "cosmos_Mstar = COSMOS[1].data['MASS_BEST'][cosmos_0]\n",
    "deep_Mstar = DEEP[1].data['MASS_BEST'][deep_0]\n",
    "elais_Mstar = ELAIS[1].data['MASS_BEST'][elais_0]\n",
    "xmmlss_Mstar = XMMLSS[1].data['MASS_BEST'][xmmlss_0]\n",
    "Mstar = np.hstack((cosmos_Mstar, deep_Mstar, elais_Mstar, xmmlss_Mstar))\n",
    "\n",
    "\n",
    "cosmos_sfr = COSMOS[1].data['SFR_BEST'][cosmos_0]\n",
    "deep_sfr = DEEP[1].data['SFR_BEST'][deep_0]\n",
    "elais_sfr = ELAIS[1].data['SFR_BEST'][elais_0]\n",
    "xmmlss_sfr = XMMLSS[1].data['SFR_BEST'][xmmlss_0]\n",
    "sfrall = np.hstack((cosmos_sfr, deep_sfr, elais_sfr, xmmlss_sfr))"
   ]
  },
  {
   "cell_type": "code",
   "execution_count": 11,
   "id": "752355d5-1e9c-4708-b0e4-5581205e1299",
   "metadata": {
    "execution": {
     "iopub.execute_input": "2021-10-21T05:55:25.346474Z",
     "iopub.status.busy": "2021-10-21T05:55:25.346086Z",
     "iopub.status.idle": "2021-10-21T05:56:15.969754Z",
     "shell.execute_reply": "2021-10-21T05:56:15.969045Z",
     "shell.execute_reply.started": "2021-10-21T05:55:25.346445Z"
    },
    "tags": []
   },
   "outputs": [],
   "source": [
    "matchdata = pd.read_csv('./HSC_CLAUDS_match_sample')\n",
    "matchid = np.array(matchdata['galid'][:], dtype = np.int64)\n",
    "\n",
    "digal0 = np.loadtxt('./odata3/CLAUDS_HSC_iband_igal0')\n",
    "originid = np.int64(digal0[:,1])"
   ]
  },
  {
   "cell_type": "code",
   "execution_count": 15,
   "id": "6edb2b38-e499-49db-a706-a0c2363e9ed4",
   "metadata": {
    "execution": {
     "iopub.execute_input": "2021-10-21T06:09:48.344989Z",
     "iopub.status.busy": "2021-10-21T06:09:48.344690Z",
     "iopub.status.idle": "2021-10-21T06:09:48.359967Z",
     "shell.execute_reply": "2021-10-21T06:09:48.359527Z",
     "shell.execute_reply.started": "2021-10-21T06:09:48.344967Z"
    },
    "tags": []
   },
   "outputs": [],
   "source": [
    "from astropy.io import fits\n",
    "Kcort = fits.open('/home/hemin/work/kcorrect/clauds/clauds_total_flux_kcorrect_0.fits')\n",
    "K_i = Kcort[1].data['KCORRECT_I']\n",
    "K_g = Kcort[1].data['KCORRECT_G']\n",
    "K_r = Kcort[1].data['KCORRECT_R']\n",
    "Kcort.close()"
   ]
  },
  {
   "cell_type": "code",
   "execution_count": 13,
   "id": "529a6776-4d66-4514-ad4a-f0fd6fb135f2",
   "metadata": {
    "execution": {
     "iopub.execute_input": "2021-10-21T06:05:19.418863Z",
     "iopub.status.busy": "2021-10-21T06:05:19.418490Z",
     "iopub.status.idle": "2021-10-21T06:05:26.153182Z",
     "shell.execute_reply": "2021-10-21T06:05:26.152358Z",
     "shell.execute_reply.started": "2021-10-21T06:05:19.418835Z"
    }
   },
   "outputs": [],
   "source": [
    "from astropy.cosmology import FlatLambdaCDM\n",
    "cosmo = FlatLambdaCDM(H0 = 67.4, Om0 = 0.315)\n",
    "lum_dis = cosmo.luminosity_distance(phoz).value * 0.674 #Mpc/h"
   ]
  },
  {
   "cell_type": "code",
   "execution_count": 20,
   "id": "d17e0ac1-bf8e-4ce6-8102-da271b767635",
   "metadata": {
    "execution": {
     "iopub.execute_input": "2021-10-21T06:12:57.345487Z",
     "iopub.status.busy": "2021-10-21T06:12:57.345157Z",
     "iopub.status.idle": "2021-10-21T06:12:58.502513Z",
     "shell.execute_reply": "2021-10-21T06:12:58.501984Z",
     "shell.execute_reply.started": "2021-10-21T06:12:57.345462Z"
    },
    "tags": []
   },
   "outputs": [],
   "source": [
    "Magg = magg[matchid-1] - 5*np.log10(lum_dis[matchid-1]) - 25 - K_g\n",
    "Magr = magr[matchid-1] - 5*np.log10(lum_dis[matchid-1]) - 25 - K_r\n",
    "Magi = magi[matchid-1] - 5*np.log10(lum_dis[matchid-1]) - 25 - K_i"
   ]
  },
  {
   "cell_type": "code",
   "execution_count": 23,
   "id": "95cbd371-bea8-4a76-8166-93bfbf7b8041",
   "metadata": {
    "execution": {
     "iopub.execute_input": "2021-10-21T06:21:53.349951Z",
     "iopub.status.busy": "2021-10-21T06:21:53.349587Z",
     "iopub.status.idle": "2021-10-21T06:22:26.664917Z",
     "shell.execute_reply": "2021-10-21T06:22:26.663944Z",
     "shell.execute_reply.started": "2021-10-21T06:21:53.349924Z"
    },
    "tags": []
   },
   "outputs": [
    {
     "name": "stdout",
     "output_type": "stream",
     "text": [
      "(5605392, 16)\n"
     ]
    }
   ],
   "source": [
    "'''\n",
    "contain all input galaxy information\n",
    "1.id\n",
    "2.ra\n",
    "3.dec\n",
    "4.photoz (some instand with spectropic redshift)\n",
    "5.specz\n",
    "6.phtoz_err\n",
    "7.magg\n",
    "8.magr\n",
    "9.magi\n",
    "10.magz\n",
    "11.magy\n",
    "12.Magg\n",
    "13.Magr\n",
    "14.Magi\n",
    "15.Mstar\n",
    "16.SFR\n",
    "'''\n",
    "\n",
    "#save as hdf5 file\n",
    "idgal = np.arange(1,ra.shape[0]+1,1)\n",
    "seldata = np.array([idgal[matchid-1],ra[matchid-1],dec[matchid-1],phoz[matchid-1],spez[matchid-1],z_err[matchid-1],\n",
    "                    magg[matchid-1],magr[matchid-1],magi[matchid-1],magz[matchid-1],magy[matchid-1],\n",
    "                    Magg,Magr,Magi,\n",
    "                    Mstar[matchid-1],sfrall[matchid-1]]).T\n",
    "# seldata = seldata[matchid-1] #matched data\n",
    "nonan = np.where(np.isnan(K_i) == False)[0]\n",
    "seldata = seldata[nonan]\n",
    "seldata = seldata[originid-1] #actual search galaxy\n",
    "print(seldata.shape)\n",
    "\n",
    "seldata[:,0] = np.arange(1,seldata.shape[0]+1,1)\n",
    "np.savetxt('/home/qyli/clu_finder/CLAUDS_HSC/catalogue/gal_properties_Kcort', seldata,\n",
    "           fmt = '%d %.4f %.4f %.4f %.4f %.4f %.4f %.4f %.4f %.4f %.4f %.4f %.4f %.4f %.4f %.4f', delimiter = ',')"
   ]
  },
  {
   "cell_type": "code",
   "execution_count": null,
   "id": "e69e39a8-af09-43b9-8889-31b9a0a71c65",
   "metadata": {},
   "outputs": [],
   "source": []
  }
 ],
 "metadata": {
  "kernelspec": {
   "display_name": "mamba-python3",
   "language": "python",
   "name": "mamba-python3"
  },
  "language_info": {
   "codemirror_mode": {
    "name": "ipython",
    "version": 3
   },
   "file_extension": ".py",
   "mimetype": "text/x-python",
   "name": "python",
   "nbconvert_exporter": "python",
   "pygments_lexer": "ipython3",
   "version": "3.7.10"
  }
 },
 "nbformat": 4,
 "nbformat_minor": 5
}
