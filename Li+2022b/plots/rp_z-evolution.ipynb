{
 "cells": [
  {
   "cell_type": "code",
   "execution_count": 1,
   "id": "5415e751-d2ff-4423-9829-fb9636e38c3c",
   "metadata": {
    "execution": {
     "iopub.execute_input": "2022-02-23T11:52:52.134515Z",
     "iopub.status.busy": "2022-02-23T11:52:52.134195Z",
     "iopub.status.idle": "2022-02-23T11:52:53.204856Z",
     "shell.execute_reply": "2022-02-23T11:52:53.204356Z",
     "shell.execute_reply.started": "2022-02-23T11:52:52.134445Z"
    },
    "tags": []
   },
   "outputs": [],
   "source": [
    "import numpy as np \n",
    "from astropy.io import fits\n",
    "import matplotlib.pyplot as plt\n",
    "import pandas as pd\n",
    "%matplotlib ipympl"
   ]
  },
  {
   "cell_type": "code",
   "execution_count": 3,
   "id": "0009d4cc-8e05-409e-adba-3ffe873987a8",
   "metadata": {
    "execution": {
     "iopub.execute_input": "2022-02-23T11:53:06.033580Z",
     "iopub.status.busy": "2022-02-23T11:53:06.033295Z",
     "iopub.status.idle": "2022-02-23T11:54:20.211493Z",
     "shell.execute_reply": "2022-02-23T11:54:20.210824Z",
     "shell.execute_reply.started": "2022-02-23T11:53:06.033557Z"
    },
    "tags": []
   },
   "outputs": [],
   "source": [
    "'''\n",
    "column 1: group ID\n",
    "column 2: richness\n",
    "column 3: ra\n",
    "column 4: dec\n",
    "column 5: redshift\n",
    "column 6: log M_h/(M_sun/h)\n",
    "column 7: L_group (10^10Lsun/h/h)\n",
    "'''\n",
    "\n",
    "dgroup = np.loadtxt('../odata/CLAUDS_HSC_iband_group')\n",
    "digal = np.loadtxt('../odata/CLAUDS_HSC_iband_igal')\n",
    "d2 = np.loadtxt('../odata/iCLAUDS_HSC_iband_2')"
   ]
  },
  {
   "cell_type": "code",
   "execution_count": 144,
   "id": "525917f4-5b51-4324-9d2b-44f7601461aa",
   "metadata": {
    "execution": {
     "iopub.execute_input": "2022-01-07T10:56:29.374888Z",
     "iopub.status.busy": "2022-01-07T10:56:29.374616Z",
     "iopub.status.idle": "2022-01-07T10:56:29.418661Z",
     "shell.execute_reply": "2022-01-07T10:56:29.418255Z",
     "shell.execute_reply.started": "2022-01-07T10:56:29.374865Z"
    },
    "tags": []
   },
   "outputs": [
    {
     "data": {
      "text/plain": [
       "(4765,)"
      ]
     },
     "execution_count": 144,
     "metadata": {},
     "output_type": "execute_result"
    }
   ],
   "source": [
    "np.where((dgroup[:,4] > 0 ) & (dgroup[:,4] < 1) & (dgroup[:,1] > 50))[0].shape"
   ]
  },
  {
   "cell_type": "code",
   "execution_count": 4,
   "id": "d4080a39-cc2a-4a11-92af-14019c8c3102",
   "metadata": {
    "execution": {
     "iopub.execute_input": "2022-02-23T11:55:27.642726Z",
     "iopub.status.busy": "2022-02-23T11:55:27.642343Z",
     "iopub.status.idle": "2022-02-23T11:55:27.648912Z",
     "shell.execute_reply": "2022-02-23T11:55:27.648376Z",
     "shell.execute_reply.started": "2022-02-23T11:55:27.642697Z"
    },
    "tags": []
   },
   "outputs": [],
   "source": [
    "def cal_galdr(zbin):  \n",
    "    from astropy.coordinates import SkyCoord\n",
    "    from astropy.cosmology import FlatLambdaCDM\n",
    "    from astropy import units as u\n",
    "    cosmo = FlatLambdaCDM(H0=67.4, Om0=0.315)\n",
    "    \n",
    "    rac = 150 #deg\n",
    "    dec = 2 #deg\n",
    "\n",
    "    dra = 1\n",
    "    ddec = 1\n",
    "    idx_Gal = np.where((np.abs(digal[:,1] - rac) < dra) & (np.abs(digal[:,2] - dec) < ddec) & \n",
    "                       (digal[:,3] > zbin[0]) & (digal[:,3] <= zbin[1]))[0]\n",
    "\n",
    "    ra_Gal = digal[idx_Gal, 1]\n",
    "    dec_Gal = digal[idx_Gal, 2]\n",
    "    redz_Gal = digal[idx_Gal, 3]\n",
    "    sep = (ra_Gal - 352)*u.deg\n",
    "    d_A = cosmo.comoving_distance(z=redz_Gal) #Mpc\n",
    "    d_r = (sep * d_A).to(u.Mpc, u.dimensionless_angles()) #to be a comoving distance\n",
    "    \n",
    "    return idx_Gal, d_r"
   ]
  },
  {
   "cell_type": "code",
   "execution_count": 5,
   "id": "e748d20f-e91d-4b65-98da-754b77624747",
   "metadata": {
    "execution": {
     "iopub.execute_input": "2022-02-23T11:55:28.149429Z",
     "iopub.status.busy": "2022-02-23T11:55:28.149067Z",
     "iopub.status.idle": "2022-02-23T11:55:28.154075Z",
     "shell.execute_reply": "2022-02-23T11:55:28.153539Z",
     "shell.execute_reply.started": "2022-02-23T11:55:28.149402Z"
    },
    "tags": []
   },
   "outputs": [],
   "source": [
    "def cal_rtheta(clu_ra,clu_dec,clu_redz):\n",
    "    from astropy.coordinates import SkyCoord\n",
    "    from astropy.cosmology import FlatLambdaCDM\n",
    "    from astropy import units as u\n",
    "    cosmo = FlatLambdaCDM(H0=67.4, Om0=0.315)\n",
    "    \n",
    "    d_A = cosmo.comoving_distance(z=clu_redz)  #Mpc\n",
    "    \n",
    "    cclu = SkyCoord(clu_ra, clu_dec, unit=\"deg\")\n",
    "    cc = SkyCoord(150, 2.0, unit=\"deg\")\n",
    "#     sep = cc.separation(cclu)\n",
    "    sep = (clu_ra - 150)*u.deg\n",
    "    d_r = (sep * d_A).to(u.Mpc, u.dimensionless_angles()) #to be a comoving distance\n",
    "\n",
    "    return d_r"
   ]
  },
  {
   "cell_type": "code",
   "execution_count": 6,
   "id": "57fcb9f1-5238-4162-b2bc-e467c5ce526f",
   "metadata": {
    "execution": {
     "iopub.execute_input": "2022-02-23T11:55:28.659607Z",
     "iopub.status.busy": "2022-02-23T11:55:28.659254Z",
     "iopub.status.idle": "2022-02-23T11:55:28.664766Z",
     "shell.execute_reply": "2022-02-23T11:55:28.664203Z",
     "shell.execute_reply.started": "2022-02-23T11:55:28.659580Z"
    },
    "tags": []
   },
   "outputs": [],
   "source": [
    "def cal_zbin_Ng(zbin, Ng):\n",
    "    rac = 150 #deg\n",
    "    dec = 2.0 #deg\n",
    "\n",
    "    dra = 1.0\n",
    "    ddec = 1.0\n",
    "\n",
    "    idx_Clu = np.where((np.abs(dgroup[:,2] - rac) < dra) & (np.abs(dgroup[:,3] - dec) < ddec) & \n",
    "                       (dgroup[:,4] > zbin[0]) & (dgroup[:,4] <= zbin[1])\n",
    "                       & (dgroup[:,1] >= Ng))[0]\n",
    "    ra_Clu = dgroup[idx_Clu, 2]\n",
    "    dec_Clu = dgroup[idx_Clu, 3]\n",
    "    redz_Clu = dgroup[idx_Clu, 4]\n",
    "    mass_Clu = dgroup[idx_Clu, 5]\n",
    "\n",
    "    d_r = cal_rtheta(ra_Clu,dec_Clu,redz_Clu)\n",
    "    print(d_r.shape)\n",
    "    return idx_Clu, d_r"
   ]
  },
  {
   "cell_type": "code",
   "execution_count": 19,
   "id": "202d5446-5f1a-428f-8c0e-84d969799d13",
   "metadata": {
    "execution": {
     "iopub.execute_input": "2022-02-23T12:16:42.539487Z",
     "iopub.status.busy": "2022-02-23T12:16:42.539218Z",
     "iopub.status.idle": "2022-02-23T12:16:51.188816Z",
     "shell.execute_reply": "2022-02-23T12:16:51.188360Z",
     "shell.execute_reply.started": "2022-02-23T12:16:42.539464Z"
    },
    "tags": []
   },
   "outputs": [
    {
     "data": {
      "application/vnd.jupyter.widget-view+json": {
       "model_id": "bba867db8f8346ce8f6f59323c9efde2",
       "version_major": 2,
       "version_minor": 0
      },
      "text/plain": [
       "Canvas(toolbar=Toolbar(toolitems=[('Home', 'Reset original view', 'home', 'home'), ('Back', 'Back to previous …"
      ]
     },
     "metadata": {},
     "output_type": "display_data"
    },
    {
     "name": "stdout",
     "output_type": "stream",
     "text": [
      "(11619,)\n",
      "(8221,)\n"
     ]
    },
    {
     "name": "stderr",
     "output_type": "stream",
     "text": [
      "/opt/anaconda-mamba/envs/mamba-python3/lib/python3.7/site-packages/ipykernel_launcher.py:115: UserWarning: This figure includes Axes that are not compatible with tight_layout, so results might be incorrect.\n"
     ]
    }
   ],
   "source": [
    "from astropy.cosmology import FlatLambdaCDM\n",
    "cosmo = FlatLambdaCDM(H0=67.4, Om0=0.315)\n",
    "import matplotlib as mpl\n",
    "mpl.rcParams['axes.linewidth'] = 1.2 #set the value globally\n",
    "\n",
    "# plt.figure(figsize = (12,7), dpi = 500)\n",
    "plt.figure(figsize = (12,3.5))\n",
    "\n",
    "#===========================================================\n",
    "#plot galaxy distribution\n",
    "#===========================================================\n",
    "# plt.subplot(211)\n",
    "# zbin = [0.1, 1]\n",
    "# idx_Gal, d_r = cal_galdr(zbin)\n",
    "# redz_Gal = digal[idx_Gal, 3]\n",
    "# d_r = d_r * 0.674 #Mpc/h\n",
    "# for i in range(d_r.shape[0]):\n",
    "#     limz = (redz_Gal[i]*6 + 1) #rlim = z + 5\n",
    "#     if np.abs(d_r.value[i]) <= limz:\n",
    "#         plt.plot(redz_Gal[i], d_r[i], '.', c = 'k', alpha= 0.6, mec = 'none', ms = 1) \n",
    "\n",
    "# plt.xlim(0.1,1)\n",
    "# ax = plt.gca()\n",
    "# ax.set_xticks([0.5,1,1.5,2,2.0,2.5,3,3.5,4,4.5,5])\n",
    "# ax.set_xticks([0.1], minor = True)\n",
    "# ax.set_xticklabels(['0.1'], minor = True)\n",
    "        \n",
    "# plt.xlim(0.1,5.0)\n",
    "# plt.ylim(-14, 14)\n",
    "# plt.xlabel('Redshift', fontsize = 12)\n",
    "# plt.ylabel('Seperation [Mpc/$h]$', fontsize = 12)\n",
    "# plt.tick_params(top = 'on', right = 'on', which='both',direction = 'in',labelsize = 11)\n",
    "# plt.text(0.2, 10, 'Galaxies', color = 'k', fontsize = 12)\n",
    "\n",
    "# ax2 = ax.twiny()\n",
    "# ax2.set_xlim(ax.get_xlim())\n",
    "# RedzD = [0.1742, 0.3666, 0.5837, 0.834, 1.1289, 1.4838, 1.9206, 2.4699, 3.1802, 4.1237]\n",
    "# ax2.set_xticks(RedzD)\n",
    "# ax2.set_xticklabels([500,1000,1500,2000,2500,3000,3500,4000,4500,5000])\n",
    "# ax2.set_xticks([2.1783, 2.8012, 3.6168, 4.7173], minor = True)\n",
    "# ax2.set_xticklabels([3750, 4250, 4750, 5250], minor = True)\n",
    "# ax2.set_xlabel('Comoving distance [Mpc/$h]$', fontsize = 12)\n",
    "# plt.tick_params(top = 'on', right = 'on', which='both',direction = 'in',labelsize = 11)\n",
    "\n",
    "# plt.tight_layout()\n",
    "\n",
    "\n",
    "# #===========================================================\n",
    "# #plot group distribution\n",
    "# #===========================================================\n",
    "# plt.subplot(212)\n",
    "import matplotlib as mpl\n",
    "mpl.rcParams['axes.linewidth'] = 1.2 #set the value globally\n",
    "\n",
    "import matplotlib.cm as cm\n",
    "from matplotlib.colors import Normalize\n",
    "cmap = cm.jet\n",
    "norm = Normalize(vmin=2, vmax=7)\n",
    "\n",
    "#0 < z < 2.5\n",
    "zbin = [0,2.5]; Ng = 10;\n",
    "idx_Clu, d_r = cal_zbin_Ng(zbin, Ng)\n",
    "redz_Clu = dgroup[idx_Clu, 4]\n",
    "mass_Clu = dgroup[idx_Clu, 5]\n",
    "d_r = d_r * 0.674\n",
    "for i in range(d_r.shape[0]):\n",
    "    limz = (redz_Clu[i]*1.5 + 5) #rlim = z + 5\n",
    "    if np.abs(d_r.value[i]) <= limz:\n",
    "        plt.plot(redz_Clu[i], d_r[i], 'o', c = 'grey', ms = 1.1*(mass_Clu[i] - 10), mec = 'none', alpha = 0.6)     \n",
    "plt.text(0.5, -11, r'$0.1 < z \\leq 2.5:\\ N_{\\rm g} \\geq 10$', color = 'grey', fontsize = 13)\n",
    "\n",
    "\n",
    "#2 < z < 6\n",
    "zbin = [2.5,6]; Ng = 2;\n",
    "idx_Clu, d_r = cal_zbin_Ng(zbin, Ng)\n",
    "redz_Clu = dgroup[idx_Clu, 4]\n",
    "mass_Clu = dgroup[idx_Clu, 5]\n",
    "Ng_Clu = dgroup[idx_Clu, 1]\n",
    "d_r = d_r * 0.674\n",
    "for i in range(d_r.shape[0]):\n",
    "    limz = redz_Clu[i]*1.5 + 5 #rlim = z + 5\n",
    "    if np.abs(d_r.value[i]) <= limz:\n",
    "        plt.plot(redz_Clu[i], d_r[i], 'o', c = cmap(norm(Ng_Clu[i])), ms = 1.1*(mass_Clu[i] - 10), mec = 'none', alpha = 0.8)\n",
    "plt.text(3.5, -11, r'$2.5 < z \\leq 5:\\ N_{\\rm g} \\geq 2$', color = 'b', fontsize = 13)\n",
    "\n",
    "ax = plt.gca()\n",
    "\n",
    "ax.set_xticks([0.5,1,1.5,2,2.0,2.5,3,3.5,4,4.5,5])\n",
    "ax.set_xticks([0.1], minor = True)\n",
    "ax.set_xticklabels(['0.1'], minor = True)\n",
    "# ax.set_yticks([-20,-15,-10,-5,0,5,10,15,20])\n",
    "plt.xlabel('Redshift', fontsize = 12)\n",
    "plt.ylabel('Separation [$h^{-1}$Mpc]', fontsize = 14)\n",
    "plt.xlim(0.1,5)\n",
    "plt.ylim(-14,14)\n",
    "plt.tick_params(top = 'on', right = 'on', which='both',direction = 'in',labelsize = 12)\n",
    "# plt.text(0.2, 10, 'Groups and Protocluster candidates', color = 'k', fontsize = 12)\n",
    "\n",
    "ax2 = ax.twiny()\n",
    "ax2.set_xlim(ax.get_xlim())\n",
    "RedzD = [0.1742, 0.3666, 0.5837, 0.834, 1.1289, 1.4838, 1.9206, 2.4699, 3.1802, 4.1237]\n",
    "ax2.set_xticks(RedzD)\n",
    "ax2.set_xticklabels([500,1000,1500,2000,2500,3000,3500,4000,4500,5000])\n",
    "\n",
    "ax2.set_xticks([2.1783, 2.8012, 3.6168, 4.7173], minor = True)\n",
    "ax2.set_xticklabels([3750, 4250, 4750, 5250], minor = True)\n",
    "ax2.set_xlabel('Comoving distance [$h^{-1}$Mpc]', fontsize = 14)\n",
    "plt.tick_params(top = 'on', right = 'on', which='both',direction = 'in',labelsize = 12)\n",
    "\n",
    "cax = plt.axes([0.94, 0.16, 0.012, 0.673])\n",
    "cbar = plt.colorbar(mpl.cm.ScalarMappable(norm=norm, cmap=cmap), cax = cax, pad = 0.007)\n",
    "cbar.set_label(r'$N_{\\rm g}$', fontsize = 13)\n",
    "cbar.ax.tick_params(labelsize=12) \n",
    "\n",
    "plt.tight_layout(rect = (0, 0, 0.95, 1))\n",
    "\n",
    "plt.savefig('./z-map.pdf')"
   ]
  },
  {
   "cell_type": "code",
   "execution_count": 7,
   "id": "363922e4-5cdb-434f-a36a-9726020e33b5",
   "metadata": {
    "execution": {
     "iopub.execute_input": "2022-01-08T04:35:34.346437Z",
     "iopub.status.busy": "2022-01-08T04:35:34.346239Z",
     "iopub.status.idle": "2022-01-08T04:35:34.351165Z",
     "shell.execute_reply": "2022-01-08T04:35:34.350729Z",
     "shell.execute_reply.started": "2022-01-08T04:35:34.346412Z"
    },
    "tags": []
   },
   "outputs": [],
   "source": [
    "def drive_comovD_from_z(comovD):\n",
    "    from astropy.cosmology import FlatLambdaCDM\n",
    "    cosmo = FlatLambdaCDM(H0=67.4, Om0=0.315)\n",
    "    \n",
    "    zinitial = 2.01\n",
    "    Dini = cosmo.comoving_distance(zinitial).value\n",
    "    DeltaD = comovD - Dini\n",
    "    while np.abs(DeltaD) > 0.5:\n",
    "        if DeltaD > 0:\n",
    "            zinitial += 0.00001\n",
    "        else:\n",
    "            zinitial -= 0.00001\n",
    "        Dini = cosmo.comoving_distance(zinitial).value\n",
    "        DeltaD = comovD - Dini\n",
    "    return zinitial"
   ]
  },
  {
   "cell_type": "code",
   "execution_count": 55,
   "id": "f15bbe5e-5aa6-4a70-b06a-97e6a2ead578",
   "metadata": {
    "execution": {
     "iopub.execute_input": "2022-01-08T06:16:27.477198Z",
     "iopub.status.busy": "2022-01-08T06:16:27.476928Z",
     "iopub.status.idle": "2022-01-08T06:16:55.577448Z",
     "shell.execute_reply": "2022-01-08T06:16:55.576683Z",
     "shell.execute_reply.started": "2022-01-08T06:16:27.477176Z"
    },
    "tags": []
   },
   "outputs": [],
   "source": [
    "# Dv = np.array([500,1000,1500,2000,2500,3000,3500,4000,4500,5000,5500]) / 0.674\n",
    "Dv = np.array([3750, 4250, 4750, 5250]) / 0.674\n",
    "z0 = []\n",
    "for i in range(Dv.shape[0]):\n",
    "    z0.extend([drive_comovD_from_z(Dv[i])])"
   ]
  },
  {
   "cell_type": "code",
   "execution_count": 56,
   "id": "7edd4076-1950-430e-a3c5-575f64fb701b",
   "metadata": {
    "execution": {
     "iopub.execute_input": "2022-01-08T06:16:58.539757Z",
     "iopub.status.busy": "2022-01-08T06:16:58.539467Z",
     "iopub.status.idle": "2022-01-08T06:16:58.546916Z",
     "shell.execute_reply": "2022-01-08T06:16:58.546509Z",
     "shell.execute_reply.started": "2022-01-08T06:16:58.539731Z"
    },
    "tags": []
   },
   "outputs": [
    {
     "name": "stdout",
     "output_type": "stream",
     "text": [
      "[2.1783 2.8012 3.6168 4.7173]\n"
     ]
    },
    {
     "data": {
      "text/latex": [
       "$[5563.338,~6305.1208,~7046.9934,~7788.8068] \\; \\mathrm{Mpc}$"
      ],
      "text/plain": [
       "<Quantity [5563.33798978, 6305.12078077, 7046.99337048, 7788.80675429] Mpc>"
      ]
     },
     "execution_count": 56,
     "metadata": {},
     "output_type": "execute_result"
    }
   ],
   "source": [
    "RedzD = np.round(z0, 4)\n",
    "print(RedzD)\n",
    "cosmo.comoving_distance(RedzD)"
   ]
  },
  {
   "cell_type": "code",
   "execution_count": 229,
   "id": "6aff214f-75ae-4b25-b1ec-932b3f2a2ee6",
   "metadata": {
    "execution": {
     "iopub.execute_input": "2022-01-07T12:29:53.578601Z",
     "iopub.status.busy": "2022-01-07T12:29:53.578311Z",
     "iopub.status.idle": "2022-01-07T12:30:08.838067Z",
     "shell.execute_reply": "2022-01-07T12:30:08.837429Z",
     "shell.execute_reply.started": "2022-01-07T12:29:53.578577Z"
    }
   },
   "outputs": [
    {
     "data": {
      "text/plain": [
       "4.735899999985177"
      ]
     },
     "execution_count": 229,
     "metadata": {},
     "output_type": "execute_result"
    }
   ],
   "source": [
    "drive_comovD_from_z(7800)"
   ]
  },
  {
   "cell_type": "code",
   "execution_count": null,
   "id": "a15f30f0-60c2-4065-9ea3-ff7a8cce292d",
   "metadata": {},
   "outputs": [],
   "source": []
  },
  {
   "cell_type": "code",
   "execution_count": null,
   "id": "2ec44817-921b-482c-8629-e08826a96944",
   "metadata": {},
   "outputs": [],
   "source": []
  },
  {
   "cell_type": "code",
   "execution_count": null,
   "id": "1afb87d5-3f3d-4248-b0dc-7188d61fdfba",
   "metadata": {},
   "outputs": [],
   "source": []
  },
  {
   "cell_type": "code",
   "execution_count": 44,
   "id": "f6d79afa-62ec-4e7b-8f83-1a7161b46835",
   "metadata": {
    "execution": {
     "iopub.execute_input": "2022-01-07T07:52:43.766752Z",
     "iopub.status.busy": "2022-01-07T07:52:43.766461Z",
     "iopub.status.idle": "2022-01-07T07:52:43.783182Z",
     "shell.execute_reply": "2022-01-07T07:52:43.782578Z",
     "shell.execute_reply.started": "2022-01-07T07:52:43.766729Z"
    },
    "tags": []
   },
   "outputs": [
    {
     "ename": "TypeError",
     "evalue": "ICRS() missing 1 required positional argument: 'dec' (or first argument should be an instance of UnitSphericalRepresentation).",
     "output_type": "error",
     "traceback": [
      "\u001b[0;31m---------------------------------------------------------------------------\u001b[0m",
      "\u001b[0;31mAttributeError\u001b[0m                            Traceback (most recent call last)",
      "\u001b[0;32m/opt/anaconda-mamba/envs/mamba-python3/lib/python3.7/site-packages/astropy/coordinates/baseframe.py\u001b[0m in \u001b[0;36m__init__\u001b[0;34m(self, copy, representation_type, differential_type, *args, **kwargs)\u001b[0m\n\u001b[1;32m    512\u001b[0m                         representation_data = (\n\u001b[0;32m--> 513\u001b[0;31m                             representation_cls._unit_representation(\n\u001b[0m\u001b[1;32m    514\u001b[0m                                 copy=copy, **repr_kwargs))\n",
      "\u001b[0;31mAttributeError\u001b[0m: type object 'UnitSphericalRepresentation' has no attribute '_unit_representation'",
      "\nDuring handling of the above exception, another exception occurred:\n",
      "\u001b[0;31mTypeError\u001b[0m                                 Traceback (most recent call last)",
      "\u001b[0;32m/tmp/ipykernel_382634/3139681813.py\u001b[0m in \u001b[0;36m<module>\u001b[0;34m\u001b[0m\n\u001b[1;32m      1\u001b[0m \u001b[0;32mfrom\u001b[0m \u001b[0mastropy\u001b[0m \u001b[0;32mimport\u001b[0m \u001b[0munits\u001b[0m \u001b[0;32mas\u001b[0m \u001b[0mu\u001b[0m\u001b[0;34m\u001b[0m\u001b[0;34m\u001b[0m\u001b[0m\n\u001b[1;32m      2\u001b[0m \u001b[0;32mfrom\u001b[0m \u001b[0mastropy\u001b[0m\u001b[0;34m.\u001b[0m\u001b[0mcoordinates\u001b[0m \u001b[0;32mimport\u001b[0m \u001b[0mSkyCoord\u001b[0m\u001b[0;34m\u001b[0m\u001b[0;34m\u001b[0m\u001b[0m\n\u001b[0;32m----> 3\u001b[0;31m \u001b[0mc1\u001b[0m \u001b[0;34m=\u001b[0m \u001b[0mSkyCoord\u001b[0m\u001b[0;34m(\u001b[0m\u001b[0mra\u001b[0m \u001b[0;34m=\u001b[0m \u001b[0;36m150\u001b[0m\u001b[0;34m,\u001b[0m \u001b[0munit\u001b[0m\u001b[0;34m=\u001b[0m\u001b[0;34m\"deg\"\u001b[0m\u001b[0;34m)\u001b[0m\u001b[0;34m\u001b[0m\u001b[0;34m\u001b[0m\u001b[0m\n\u001b[0m\u001b[1;32m      4\u001b[0m \u001b[0mc2\u001b[0m \u001b[0;34m=\u001b[0m \u001b[0mSkyCoord\u001b[0m\u001b[0;34m(\u001b[0m\u001b[0mra\u001b[0m \u001b[0;34m=\u001b[0m \u001b[0;36m151\u001b[0m\u001b[0;34m,\u001b[0m \u001b[0munit\u001b[0m\u001b[0;34m=\u001b[0m\u001b[0;34m\"deg\"\u001b[0m\u001b[0;34m)\u001b[0m\u001b[0;34m\u001b[0m\u001b[0;34m\u001b[0m\u001b[0m\n\u001b[1;32m      5\u001b[0m \u001b[0mc1\u001b[0m\u001b[0;34m.\u001b[0m\u001b[0mseparation\u001b[0m\u001b[0;34m(\u001b[0m\u001b[0mc2\u001b[0m\u001b[0;34m)\u001b[0m\u001b[0;34m\u001b[0m\u001b[0;34m\u001b[0m\u001b[0m\n",
      "\u001b[0;32m/opt/anaconda-mamba/envs/mamba-python3/lib/python3.7/site-packages/astropy/coordinates/sky_coordinate.py\u001b[0m in \u001b[0;36m__init__\u001b[0;34m(self, copy, *args, **kwargs)\u001b[0m\n\u001b[1;32m    328\u001b[0m             \u001b[0;31m# Finally make the internal coordinate object.\u001b[0m\u001b[0;34m\u001b[0m\u001b[0;34m\u001b[0m\u001b[0;34m\u001b[0m\u001b[0m\n\u001b[1;32m    329\u001b[0m             \u001b[0mframe_kwargs\u001b[0m\u001b[0;34m.\u001b[0m\u001b[0mupdate\u001b[0m\u001b[0;34m(\u001b[0m\u001b[0mcomponents\u001b[0m\u001b[0;34m)\u001b[0m\u001b[0;34m\u001b[0m\u001b[0;34m\u001b[0m\u001b[0m\n\u001b[0;32m--> 330\u001b[0;31m             \u001b[0mself\u001b[0m\u001b[0;34m.\u001b[0m\u001b[0m_sky_coord_frame\u001b[0m \u001b[0;34m=\u001b[0m \u001b[0mframe_cls\u001b[0m\u001b[0;34m(\u001b[0m\u001b[0mcopy\u001b[0m\u001b[0;34m=\u001b[0m\u001b[0mcopy\u001b[0m\u001b[0;34m,\u001b[0m \u001b[0;34m**\u001b[0m\u001b[0mframe_kwargs\u001b[0m\u001b[0;34m)\u001b[0m\u001b[0;34m\u001b[0m\u001b[0;34m\u001b[0m\u001b[0m\n\u001b[0m\u001b[1;32m    331\u001b[0m \u001b[0;34m\u001b[0m\u001b[0m\n\u001b[1;32m    332\u001b[0m             \u001b[0;32mif\u001b[0m \u001b[0;32mnot\u001b[0m \u001b[0mself\u001b[0m\u001b[0;34m.\u001b[0m\u001b[0m_sky_coord_frame\u001b[0m\u001b[0;34m.\u001b[0m\u001b[0mhas_data\u001b[0m\u001b[0;34m:\u001b[0m\u001b[0;34m\u001b[0m\u001b[0;34m\u001b[0m\u001b[0m\n",
      "\u001b[0;32m/opt/anaconda-mamba/envs/mamba-python3/lib/python3.7/site-packages/astropy/coordinates/baseframe.py\u001b[0m in \u001b[0;36m__init__\u001b[0;34m(self, copy, representation_type, differential_type, *args, **kwargs)\u001b[0m\n\u001b[1;32m    521\u001b[0m                                           f'{self.__class__.__name__}()')\n\u001b[1;32m    522\u001b[0m                         \u001b[0me\u001b[0m\u001b[0;34m.\u001b[0m\u001b[0margs\u001b[0m \u001b[0;34m=\u001b[0m \u001b[0;34m(\u001b[0m\u001b[0mmsg\u001b[0m\u001b[0;34m,\u001b[0m\u001b[0;34m)\u001b[0m\u001b[0;34m\u001b[0m\u001b[0;34m\u001b[0m\u001b[0m\n\u001b[0;32m--> 523\u001b[0;31m                         \u001b[0;32mraise\u001b[0m \u001b[0me\u001b[0m\u001b[0;34m\u001b[0m\u001b[0;34m\u001b[0m\u001b[0m\n\u001b[0m\u001b[1;32m    524\u001b[0m \u001b[0;34m\u001b[0m\u001b[0m\n\u001b[1;32m    525\u001b[0m             \u001b[0;31m# Now we handle the Differential data:\u001b[0m\u001b[0;34m\u001b[0m\u001b[0;34m\u001b[0m\u001b[0;34m\u001b[0m\u001b[0m\n",
      "\u001b[0;32m/opt/anaconda-mamba/envs/mamba-python3/lib/python3.7/site-packages/astropy/coordinates/baseframe.py\u001b[0m in \u001b[0;36m__init__\u001b[0;34m(self, copy, representation_type, differential_type, *args, **kwargs)\u001b[0m\n\u001b[1;32m    503\u001b[0m                 \u001b[0;32mtry\u001b[0m\u001b[0;34m:\u001b[0m\u001b[0;34m\u001b[0m\u001b[0;34m\u001b[0m\u001b[0m\n\u001b[1;32m    504\u001b[0m                     representation_data = representation_cls(copy=copy,\n\u001b[0;32m--> 505\u001b[0;31m                                                              **repr_kwargs)\n\u001b[0m\u001b[1;32m    506\u001b[0m                 \u001b[0;32mexcept\u001b[0m \u001b[0mTypeError\u001b[0m \u001b[0;32mas\u001b[0m \u001b[0me\u001b[0m\u001b[0;34m:\u001b[0m\u001b[0;34m\u001b[0m\u001b[0;34m\u001b[0m\u001b[0m\n\u001b[1;32m    507\u001b[0m                     \u001b[0;31m# this except clause is here to make the names of the\u001b[0m\u001b[0;34m\u001b[0m\u001b[0;34m\u001b[0m\u001b[0;34m\u001b[0m\u001b[0m\n",
      "\u001b[0;32m/opt/anaconda-mamba/envs/mamba-python3/lib/python3.7/site-packages/astropy/coordinates/representation.py\u001b[0m in \u001b[0;36m__init__\u001b[0;34m(self, lon, lat, differentials, copy)\u001b[0m\n\u001b[1;32m   1559\u001b[0m \u001b[0;34m\u001b[0m\u001b[0m\n\u001b[1;32m   1560\u001b[0m     \u001b[0;32mdef\u001b[0m \u001b[0m__init__\u001b[0m\u001b[0;34m(\u001b[0m\u001b[0mself\u001b[0m\u001b[0;34m,\u001b[0m \u001b[0mlon\u001b[0m\u001b[0;34m,\u001b[0m \u001b[0mlat\u001b[0m\u001b[0;34m=\u001b[0m\u001b[0;32mNone\u001b[0m\u001b[0;34m,\u001b[0m \u001b[0mdifferentials\u001b[0m\u001b[0;34m=\u001b[0m\u001b[0;32mNone\u001b[0m\u001b[0;34m,\u001b[0m \u001b[0mcopy\u001b[0m\u001b[0;34m=\u001b[0m\u001b[0;32mTrue\u001b[0m\u001b[0;34m)\u001b[0m\u001b[0;34m:\u001b[0m\u001b[0;34m\u001b[0m\u001b[0;34m\u001b[0m\u001b[0m\n\u001b[0;32m-> 1561\u001b[0;31m         \u001b[0msuper\u001b[0m\u001b[0;34m(\u001b[0m\u001b[0;34m)\u001b[0m\u001b[0;34m.\u001b[0m\u001b[0m__init__\u001b[0m\u001b[0;34m(\u001b[0m\u001b[0mlon\u001b[0m\u001b[0;34m,\u001b[0m \u001b[0mlat\u001b[0m\u001b[0;34m,\u001b[0m \u001b[0mdifferentials\u001b[0m\u001b[0;34m=\u001b[0m\u001b[0mdifferentials\u001b[0m\u001b[0;34m,\u001b[0m \u001b[0mcopy\u001b[0m\u001b[0;34m=\u001b[0m\u001b[0mcopy\u001b[0m\u001b[0;34m)\u001b[0m\u001b[0;34m\u001b[0m\u001b[0;34m\u001b[0m\u001b[0m\n\u001b[0m\u001b[1;32m   1562\u001b[0m \u001b[0;34m\u001b[0m\u001b[0m\n\u001b[1;32m   1563\u001b[0m     \u001b[0;34m@\u001b[0m\u001b[0mproperty\u001b[0m\u001b[0;34m\u001b[0m\u001b[0;34m\u001b[0m\u001b[0m\n",
      "\u001b[0;32m/opt/anaconda-mamba/envs/mamba-python3/lib/python3.7/site-packages/astropy/coordinates/representation.py\u001b[0m in \u001b[0;36m__init__\u001b[0;34m(self, differentials, *args, **kwargs)\u001b[0m\n\u001b[1;32m    695\u001b[0m     \u001b[0;32mdef\u001b[0m \u001b[0m__init__\u001b[0m\u001b[0;34m(\u001b[0m\u001b[0mself\u001b[0m\u001b[0;34m,\u001b[0m \u001b[0;34m*\u001b[0m\u001b[0margs\u001b[0m\u001b[0;34m,\u001b[0m \u001b[0mdifferentials\u001b[0m\u001b[0;34m=\u001b[0m\u001b[0;32mNone\u001b[0m\u001b[0;34m,\u001b[0m \u001b[0;34m**\u001b[0m\u001b[0mkwargs\u001b[0m\u001b[0;34m)\u001b[0m\u001b[0;34m:\u001b[0m\u001b[0;34m\u001b[0m\u001b[0;34m\u001b[0m\u001b[0m\n\u001b[1;32m    696\u001b[0m         \u001b[0;31m# Handle any differentials passed in.\u001b[0m\u001b[0;34m\u001b[0m\u001b[0;34m\u001b[0m\u001b[0;34m\u001b[0m\u001b[0m\n\u001b[0;32m--> 697\u001b[0;31m         \u001b[0msuper\u001b[0m\u001b[0;34m(\u001b[0m\u001b[0;34m)\u001b[0m\u001b[0;34m.\u001b[0m\u001b[0m__init__\u001b[0m\u001b[0;34m(\u001b[0m\u001b[0;34m*\u001b[0m\u001b[0margs\u001b[0m\u001b[0;34m,\u001b[0m \u001b[0;34m**\u001b[0m\u001b[0mkwargs\u001b[0m\u001b[0;34m)\u001b[0m\u001b[0;34m\u001b[0m\u001b[0;34m\u001b[0m\u001b[0m\n\u001b[0m\u001b[1;32m    698\u001b[0m         if (differentials is None\n\u001b[1;32m    699\u001b[0m                 and args and isinstance(args[0], self.__class__)):\n",
      "\u001b[0;32m/opt/anaconda-mamba/envs/mamba-python3/lib/python3.7/site-packages/astropy/coordinates/representation.py\u001b[0m in \u001b[0;36m__init__\u001b[0;34m(self, *args, **kwargs)\u001b[0m\n\u001b[1;32m    237\u001b[0m \u001b[0;34m\u001b[0m\u001b[0m\n\u001b[1;32m    238\u001b[0m                 \u001b[0;32mif\u001b[0m \u001b[0mattr\u001b[0m \u001b[0;32mis\u001b[0m \u001b[0;32mNone\u001b[0m\u001b[0;34m:\u001b[0m\u001b[0;34m\u001b[0m\u001b[0;34m\u001b[0m\u001b[0m\n\u001b[0;32m--> 239\u001b[0;31m                     raise TypeError(f'__init__() missing 1 required positional '\n\u001b[0m\u001b[1;32m    240\u001b[0m                                     \u001b[0;34mf'argument: {component!r} (or first '\u001b[0m\u001b[0;34m\u001b[0m\u001b[0;34m\u001b[0m\u001b[0m\n\u001b[1;32m    241\u001b[0m                                     \u001b[0;34mf'argument should be an instance of '\u001b[0m\u001b[0;34m\u001b[0m\u001b[0;34m\u001b[0m\u001b[0m\n",
      "\u001b[0;31mTypeError\u001b[0m: ICRS() missing 1 required positional argument: 'dec' (or first argument should be an instance of UnitSphericalRepresentation)."
     ]
    }
   ],
   "source": [
    "from astropy import units as u\n",
    "from astropy.coordinates import SkyCoord\n",
    "c1 = SkyCoord(ra = 150, unit=\"deg\")\n",
    "c2 = SkyCoord(ra = 151, unit=\"deg\")\n",
    "c1.separation(c2)"
   ]
  },
  {
   "cell_type": "code",
   "execution_count": null,
   "id": "ae04a12d-6f0a-4ff0-be80-5008591bfded",
   "metadata": {},
   "outputs": [],
   "source": []
  },
  {
   "cell_type": "markdown",
   "id": "b79cf9d8-9ed4-4eef-b110-29d341dbd73e",
   "metadata": {},
   "source": [
    "## test region size"
   ]
  },
  {
   "cell_type": "code",
   "execution_count": 10,
   "id": "917bf01c-69a5-4378-a86d-64188de7e3d9",
   "metadata": {
    "execution": {
     "iopub.execute_input": "2022-01-08T07:14:43.591781Z",
     "iopub.status.busy": "2022-01-08T07:14:43.591482Z",
     "iopub.status.idle": "2022-01-08T07:14:43.596249Z",
     "shell.execute_reply": "2022-01-08T07:14:43.595809Z",
     "shell.execute_reply.started": "2022-01-08T07:14:43.591758Z"
    },
    "tags": []
   },
   "outputs": [],
   "source": [
    "def cal_rtheta0(clu_ra,clu_dec,clu_redz):\n",
    "    from astropy.coordinates import SkyCoord\n",
    "    from astropy.cosmology import FlatLambdaCDM\n",
    "    from astropy import units as u\n",
    "    cosmo = FlatLambdaCDM(H0=67.4, Om0=0.315)\n",
    "    \n",
    "    d_A = cosmo.comoving_distance(z=clu_redz) * 0.674\n",
    "    \n",
    "    cclu = SkyCoord(clu_ra, clu_dec, unit=\"deg\")\n",
    "    cc = SkyCoord(150, 2.0, unit=\"deg\")\n",
    "    sep = cc.separation(cclu)\n",
    "    sep = (clu_ra - 150)*u.deg\n",
    "    d_r = (sep * d_A).to(u.Mpc, u.dimensionless_angles()) #to be a comoving distance\n",
    "\n",
    "    return d_r"
   ]
  },
  {
   "cell_type": "code",
   "execution_count": 11,
   "id": "7093dca8-d36c-4eee-bbbb-d01663ea15d7",
   "metadata": {
    "execution": {
     "iopub.execute_input": "2022-01-08T07:14:44.426928Z",
     "iopub.status.busy": "2022-01-08T07:14:44.426647Z",
     "iopub.status.idle": "2022-01-08T07:14:44.847702Z",
     "shell.execute_reply": "2022-01-08T07:14:44.847283Z",
     "shell.execute_reply.started": "2022-01-08T07:14:44.426907Z"
    },
    "tags": []
   },
   "outputs": [
    {
     "data": {
      "application/vnd.jupyter.widget-view+json": {
       "model_id": "e12b002fc1a84dbfbc0bf482fddd792b",
       "version_major": 2,
       "version_minor": 0
      },
      "text/plain": [
       "Canvas(toolbar=Toolbar(toolitems=[('Home', 'Reset original view', 'home', 'home'), ('Back', 'Back to previous …"
      ]
     },
     "metadata": {},
     "output_type": "display_data"
    },
    {
     "data": {
      "text/plain": [
       "<matplotlib.colorbar.Colorbar at 0x7fb7766303d0>"
      ]
     },
     "execution_count": 11,
     "metadata": {},
     "output_type": "execute_result"
    }
   ],
   "source": [
    "#COSMOS galaxies\n",
    "ztest = 0.05\n",
    "idx_gal = np.where((digal[:,1] > 148) & (digal[:,1] < 152) &\n",
    "                  (digal[:,2] > 0.5) & (digal[:,2] < 4.0) & \n",
    "                  (np.abs(ztest - digal[:,3]) < 0.2))[0]\n",
    "ra_gal = digal[idx_gal, 1]\n",
    "dec_gal = digal[idx_gal, 2]\n",
    "redz_gal = digal[idx_gal, 3]\n",
    "\n",
    "d_r = cal_rtheta0(ra_gal, dec_gal, redz_gal) \n",
    "plt.figure()\n",
    "\n",
    "plt.scatter(ra_gal, dec_gal, c = np.abs(d_r), cmap = 'jet', s = 0.5)\n",
    "plt.colorbar()\n",
    "\n"
   ]
  },
  {
   "cell_type": "code",
   "execution_count": 327,
   "id": "c1a3b0a7-c33e-4bde-9c58-13fba06b3f5a",
   "metadata": {
    "execution": {
     "iopub.execute_input": "2022-01-08T03:10:39.176561Z",
     "iopub.status.busy": "2022-01-08T03:10:39.176256Z",
     "iopub.status.idle": "2022-01-08T03:10:39.334068Z",
     "shell.execute_reply": "2022-01-08T03:10:39.333656Z",
     "shell.execute_reply.started": "2022-01-08T03:10:39.176523Z"
    },
    "tags": []
   },
   "outputs": [
    {
     "data": {
      "application/vnd.jupyter.widget-view+json": {
       "model_id": "fc13aed0fb5c43c18d73feacaa16585e",
       "version_major": 2,
       "version_minor": 0
      },
      "text/plain": [
       "Canvas(toolbar=Toolbar(toolitems=[('Home', 'Reset original view', 'home', 'home'), ('Back', 'Back to previous …"
      ]
     },
     "metadata": {},
     "output_type": "display_data"
    },
    {
     "data": {
      "text/plain": [
       "<matplotlib.colorbar.Colorbar at 0x7fb914099c90>"
      ]
     },
     "execution_count": 327,
     "metadata": {},
     "output_type": "execute_result"
    }
   ],
   "source": [
    "#COSMOS cluster\n",
    "ztest = 0.05\n",
    "idx_grp = np.where((dgroup[:,2] > 148) & (dgroup[:,2] < 152) &\n",
    "                  (dgroup[:,3] > 0.5) & (dgroup[:,3] < 4.0) & \n",
    "                  (np.abs(ztest - dgroup[:,4]) < 0.01))[0]\n",
    "ra_grp = dgroup[idx_grp, 2]\n",
    "dec_grp = dgroup[idx_grp, 3]\n",
    "redz_grp = dgroup[idx_grp, 4]\n",
    "\n",
    "d_r = cal_rtheta0(ra_grp, dec_grp, redz_grp) \n",
    "plt.figure()\n",
    "\n",
    "plt.scatter(ra_grp, dec_grp, c = np.abs(d_r), cmap = 'jet', s = 0.5)\n",
    "plt.colorbar()"
   ]
  },
  {
   "cell_type": "code",
   "execution_count": 29,
   "id": "3fe9379a-c01c-488b-a69f-6842518e0341",
   "metadata": {
    "execution": {
     "iopub.execute_input": "2022-01-08T08:52:34.613809Z",
     "iopub.status.busy": "2022-01-08T08:52:34.613522Z",
     "iopub.status.idle": "2022-01-08T08:52:34.920413Z",
     "shell.execute_reply": "2022-01-08T08:52:34.920022Z",
     "shell.execute_reply.started": "2022-01-08T08:52:34.613787Z"
    },
    "tags": []
   },
   "outputs": [
    {
     "data": {
      "application/vnd.jupyter.widget-view+json": {
       "model_id": "df4cecc322e4493e9f4116dbe4493b7d",
       "version_major": 2,
       "version_minor": 0
      },
      "text/plain": [
       "Canvas(toolbar=Toolbar(toolitems=[('Home', 'Reset original view', 'home', 'home'), ('Back', 'Back to previous …"
      ]
     },
     "metadata": {},
     "output_type": "display_data"
    },
    {
     "data": {
      "text/plain": [
       "(array([ 3783.,  5959.,  7989.,  8039.,  7502.,  7477.,  6226., 10081.,\n",
       "         7631., 16043., 10661.,  7348.,  8461., 13082., 11446., 10784.,\n",
       "         6441.,  6928.,  8902., 10482.,  9920.,  8695.,  8870.,  8638.,\n",
       "        11221., 10254.,  8376., 14313., 17493., 21191., 17089., 11355.,\n",
       "        15177., 10736.,  7397.,  7585., 10912., 14502., 11280., 10692.]),\n",
       " array([0.1001   , 0.1225975, 0.145095 , 0.1675925, 0.19009  , 0.2125875,\n",
       "        0.235085 , 0.2575825, 0.28008  , 0.3025775, 0.325075 , 0.3475725,\n",
       "        0.37007  , 0.3925675, 0.415065 , 0.4375625, 0.46006  , 0.4825575,\n",
       "        0.505055 , 0.5275525, 0.55005  , 0.5725475, 0.595045 , 0.6175425,\n",
       "        0.64004  , 0.6625375, 0.685035 , 0.7075325, 0.73003  , 0.7525275,\n",
       "        0.775025 , 0.7975225, 0.82002  , 0.8425175, 0.865015 , 0.8875125,\n",
       "        0.91001  , 0.9325075, 0.955005 , 0.9775025, 1.       ]),\n",
       " <BarContainer object of 40 artists>)"
      ]
     },
     "execution_count": 29,
     "metadata": {},
     "output_type": "execute_result"
    }
   ],
   "source": [
    "zbin = [0.1,1]\n",
    "\n",
    "rac = 150 #deg\n",
    "dec = 2 #deg\n",
    "\n",
    "dra = 1\n",
    "ddec = 1\n",
    "idx_Gal = np.where((np.abs(digal[:,1] - rac) < dra) & (np.abs(digal[:,2] - dec) < ddec) & \n",
    "                   (digal[:,3] > zbin[0]) & (digal[:,3] <= zbin[1]) & \n",
    "                  (digal[:,4] < 26))[0]\n",
    "\n",
    "redz_Gal = digal[idx_Gal, 3]\n",
    "\n",
    "plt.figure()\n",
    "plt.hist(redz_Gal, bins = 40)"
   ]
  },
  {
   "cell_type": "code",
   "execution_count": null,
   "id": "56f7139c-2abc-481c-b171-c885ad9a5ed7",
   "metadata": {},
   "outputs": [],
   "source": []
  }
 ],
 "metadata": {
  "kernelspec": {
   "display_name": "mamba-python3",
   "language": "python",
   "name": "mamba-python3"
  },
  "language_info": {
   "codemirror_mode": {
    "name": "ipython",
    "version": 3
   },
   "file_extension": ".py",
   "mimetype": "text/x-python",
   "name": "python",
   "nbconvert_exporter": "python",
   "pygments_lexer": "ipython3",
   "version": "3.7.10"
  }
 },
 "nbformat": 4,
 "nbformat_minor": 5
}
