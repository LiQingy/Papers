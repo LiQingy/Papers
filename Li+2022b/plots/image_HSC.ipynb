{
 "cells": [
  {
   "cell_type": "code",
   "execution_count": 1,
   "id": "f6187fa4",
   "metadata": {
    "execution": {
     "iopub.execute_input": "2022-03-02T11:15:47.575311Z",
     "iopub.status.busy": "2022-03-02T11:15:47.574934Z",
     "iopub.status.idle": "2022-03-02T11:15:48.762501Z",
     "shell.execute_reply": "2022-03-02T11:15:48.761960Z",
     "shell.execute_reply.started": "2022-03-02T11:15:47.575234Z"
    },
    "tags": []
   },
   "outputs": [],
   "source": [
    "import numpy as np \n",
    "import h5py\n",
    "import matplotlib.pyplot as plt\n",
    "import pandas as pd\n",
    "from astropy.io import fits\n",
    "from astropy.utils.data import get_pkg_data_filename\n",
    "# %pylab notebook"
   ]
  },
  {
   "cell_type": "code",
   "execution_count": 2,
   "id": "1c4fd941",
   "metadata": {
    "execution": {
     "iopub.execute_input": "2022-03-02T11:15:59.728821Z",
     "iopub.status.busy": "2022-03-02T11:15:59.728483Z",
     "iopub.status.idle": "2022-03-02T11:16:14.626035Z",
     "shell.execute_reply": "2022-03-02T11:16:14.625387Z",
     "shell.execute_reply.started": "2022-03-02T11:15:59.728798Z"
    },
    "tags": []
   },
   "outputs": [],
   "source": [
    "'''\n",
    "column 1: group ID\n",
    "column 2: richness\n",
    "column 3: ra\n",
    "column 4: dec\n",
    "column 5: redshift\n",
    "column 6: log M_h/(M_sun/h)\n",
    "column 7: L_group (10^10Lsun/h/h)\n",
    "'''\n",
    "dgroup = np.loadtxt('../odata/CLAUDS_HSC_iband_group')"
   ]
  },
  {
   "cell_type": "code",
   "execution_count": 3,
   "id": "1d61060b",
   "metadata": {
    "execution": {
     "iopub.execute_input": "2022-03-02T11:16:31.632840Z",
     "iopub.status.busy": "2022-03-02T11:16:31.632476Z",
     "iopub.status.idle": "2022-03-02T11:16:38.604262Z",
     "shell.execute_reply": "2022-03-02T11:16:38.603525Z",
     "shell.execute_reply.started": "2022-03-02T11:16:31.632816Z"
    },
    "tags": []
   },
   "outputs": [
    {
     "ename": "KeyboardInterrupt",
     "evalue": "",
     "output_type": "error",
     "traceback": [
      "\u001b[0;31m---------------------------------------------------------------------------\u001b[0m",
      "\u001b[0;31mKeyboardInterrupt\u001b[0m                         Traceback (most recent call last)",
      "\u001b[0;32m/tmp/ipykernel_428066/3062482678.py\u001b[0m in \u001b[0;36m<module>\u001b[0;34m\u001b[0m\n\u001b[0;32m----> 1\u001b[0;31m \u001b[0md2\u001b[0m \u001b[0;34m=\u001b[0m \u001b[0mnp\u001b[0m\u001b[0;34m.\u001b[0m\u001b[0mloadtxt\u001b[0m\u001b[0;34m(\u001b[0m\u001b[0;34m'../odata/iCLAUDS_HSC_iband_2'\u001b[0m\u001b[0;34m)\u001b[0m\u001b[0;34m\u001b[0m\u001b[0;34m\u001b[0m\u001b[0m\n\u001b[0m\u001b[1;32m      2\u001b[0m \u001b[0mdigal\u001b[0m \u001b[0;34m=\u001b[0m \u001b[0mnp\u001b[0m\u001b[0;34m.\u001b[0m\u001b[0mloadtxt\u001b[0m\u001b[0;34m(\u001b[0m\u001b[0;34m'../odata/CLAUDS_HSC_iband_igal'\u001b[0m\u001b[0;34m)\u001b[0m\u001b[0;34m\u001b[0m\u001b[0;34m\u001b[0m\u001b[0m\n",
      "\u001b[0;32m/opt/anaconda-mamba/envs/mamba-python3/lib/python3.7/site-packages/numpy/lib/npyio.py\u001b[0m in \u001b[0;36mloadtxt\u001b[0;34m(fname, dtype, comments, delimiter, converters, skiprows, usecols, unpack, ndmin, encoding, max_rows, like)\u001b[0m\n\u001b[1;32m   1146\u001b[0m         \u001b[0;31m# converting the data\u001b[0m\u001b[0;34m\u001b[0m\u001b[0;34m\u001b[0m\u001b[0;34m\u001b[0m\u001b[0m\n\u001b[1;32m   1147\u001b[0m         \u001b[0mX\u001b[0m \u001b[0;34m=\u001b[0m \u001b[0;32mNone\u001b[0m\u001b[0;34m\u001b[0m\u001b[0;34m\u001b[0m\u001b[0m\n\u001b[0;32m-> 1148\u001b[0;31m         \u001b[0;32mfor\u001b[0m \u001b[0mx\u001b[0m \u001b[0;32min\u001b[0m \u001b[0mread_data\u001b[0m\u001b[0;34m(\u001b[0m\u001b[0m_loadtxt_chunksize\u001b[0m\u001b[0;34m)\u001b[0m\u001b[0;34m:\u001b[0m\u001b[0;34m\u001b[0m\u001b[0;34m\u001b[0m\u001b[0m\n\u001b[0m\u001b[1;32m   1149\u001b[0m             \u001b[0;32mif\u001b[0m \u001b[0mX\u001b[0m \u001b[0;32mis\u001b[0m \u001b[0;32mNone\u001b[0m\u001b[0;34m:\u001b[0m\u001b[0;34m\u001b[0m\u001b[0;34m\u001b[0m\u001b[0m\n\u001b[1;32m   1150\u001b[0m                 \u001b[0mX\u001b[0m \u001b[0;34m=\u001b[0m \u001b[0mnp\u001b[0m\u001b[0;34m.\u001b[0m\u001b[0marray\u001b[0m\u001b[0;34m(\u001b[0m\u001b[0mx\u001b[0m\u001b[0;34m,\u001b[0m \u001b[0mdtype\u001b[0m\u001b[0;34m)\u001b[0m\u001b[0;34m\u001b[0m\u001b[0;34m\u001b[0m\u001b[0m\n",
      "\u001b[0;32m/opt/anaconda-mamba/envs/mamba-python3/lib/python3.7/site-packages/numpy/lib/npyio.py\u001b[0m in \u001b[0;36mread_data\u001b[0;34m(chunk_size)\u001b[0m\n\u001b[1;32m   1002\u001b[0m             \u001b[0mitems\u001b[0m \u001b[0;34m=\u001b[0m \u001b[0mpack_items\u001b[0m\u001b[0;34m(\u001b[0m\u001b[0mitems\u001b[0m\u001b[0;34m,\u001b[0m \u001b[0mpacking\u001b[0m\u001b[0;34m)\u001b[0m\u001b[0;34m\u001b[0m\u001b[0;34m\u001b[0m\u001b[0m\n\u001b[1;32m   1003\u001b[0m             \u001b[0mX\u001b[0m\u001b[0;34m.\u001b[0m\u001b[0mappend\u001b[0m\u001b[0;34m(\u001b[0m\u001b[0mitems\u001b[0m\u001b[0;34m)\u001b[0m\u001b[0;34m\u001b[0m\u001b[0;34m\u001b[0m\u001b[0m\n\u001b[0;32m-> 1004\u001b[0;31m             \u001b[0;32mif\u001b[0m \u001b[0mlen\u001b[0m\u001b[0;34m(\u001b[0m\u001b[0mX\u001b[0m\u001b[0;34m)\u001b[0m \u001b[0;34m>\u001b[0m \u001b[0mchunk_size\u001b[0m\u001b[0;34m:\u001b[0m\u001b[0;34m\u001b[0m\u001b[0;34m\u001b[0m\u001b[0m\n\u001b[0m\u001b[1;32m   1005\u001b[0m                 \u001b[0;32myield\u001b[0m \u001b[0mX\u001b[0m\u001b[0;34m\u001b[0m\u001b[0;34m\u001b[0m\u001b[0m\n\u001b[1;32m   1006\u001b[0m                 \u001b[0mX\u001b[0m \u001b[0;34m=\u001b[0m \u001b[0;34m[\u001b[0m\u001b[0;34m]\u001b[0m\u001b[0;34m\u001b[0m\u001b[0;34m\u001b[0m\u001b[0m\n",
      "\u001b[0;31mKeyboardInterrupt\u001b[0m: "
     ]
    }
   ],
   "source": [
    "d2 = np.loadtxt('../odata/iCLAUDS_HSC_iband_2')\n",
    "digal = np.loadtxt('../odata/CLAUDS_HSC_iband_igal')"
   ]
  },
  {
   "cell_type": "code",
   "execution_count": 4,
   "id": "99b1ab5d",
   "metadata": {
    "execution": {
     "iopub.execute_input": "2022-02-15T07:51:23.545754Z",
     "iopub.status.busy": "2022-02-15T07:51:23.545529Z",
     "iopub.status.idle": "2022-02-15T07:51:23.566763Z",
     "shell.execute_reply": "2022-02-15T07:51:23.560792Z",
     "shell.execute_reply.started": "2022-02-15T07:51:23.545725Z"
    },
    "tags": []
   },
   "outputs": [],
   "source": [
    "def prod_HSC_file(zregion, nm):\n",
    "    #produce_HSC_image_text_file\n",
    "    idx_group = np.where((dgroup[:,4] > zregion[0]) & (dgroup[:,4] <= zregion[1]) & (dgroup[:,1] >= nm))[0]\n",
    "    print(idx_group.shape)\n",
    "    prod_file = '../data/images/prod_HSC_images_z%s-%s.txt' %(zregion[0],zregion[1])\n",
    "    with open(prod_file,'w') as f:\n",
    "        f.write('#? rerun  ra  dec  sw  sh  filter  image  mask  variance  type\\n')\n",
    "        for i in range(idx_group.shape[0]):\n",
    "            if i == idx_group.shape[0] - 1:\n",
    "                f.write('  pdr2_dud  '+ str(format(dgroup[idx_group[i],2],'.4f')) + '  ' + str(format(dgroup[idx_group[i],3],'.4f')) + '  0.04  0.04  HSC-I  true   true   false   coadd')\n",
    "            else:\n",
    "                f.write('  pdr2_dud  '+ str(format(dgroup[idx_group[i],2],'.4f')) + '  ' + str(format(dgroup[idx_group[i],3],'.4f')) + '  0.04  0.04  HSC-I  true   true   false   coadd\\n')"
   ]
  },
  {
   "cell_type": "code",
   "execution_count": 15,
   "id": "8c15741b",
   "metadata": {
    "execution": {
     "iopub.execute_input": "2021-11-17T11:42:54.781495Z",
     "iopub.status.busy": "2021-11-17T11:42:54.781138Z",
     "iopub.status.idle": "2021-11-17T11:42:55.069349Z",
     "shell.execute_reply": "2021-11-17T11:42:55.068704Z",
     "shell.execute_reply.started": "2021-11-17T11:42:54.781470Z"
    },
    "tags": []
   },
   "outputs": [
    {
     "name": "stdout",
     "output_type": "stream",
     "text": [
      "(36,)\n"
     ]
    }
   ],
   "source": [
    "# zregion = [5.6,6.0]; nm = 2;\n",
    "# prod_HSC_file(zregion, nm)\n",
    "# zregion = [5.2,5.6]; nm = 2;\n",
    "# prod_HSC_file(zregion, nm)\n",
    "# zregion = [4.8,5.2]; nm = 2;\n",
    "# prod_HSC_file(zregion, nm)\n",
    "# zregion = [4.4,4.8]; nm = 3;\n",
    "# prod_HSC_file(zregion, nm)\n",
    "# zregion = [4.0,4.4]; nm = 3;\n",
    "# prod_HSC_file(zregion, nm)\n",
    "# zregion = [3.6,4.0]; nm = 4;\n",
    "# prod_HSC_file(zregion, nm)\n",
    "# zregion = [3.2,3.6]; nm = 5;\n",
    "# prod_HSC_file(zregion, nm)"
   ]
  },
  {
   "cell_type": "code",
   "execution_count": 4,
   "id": "359e35bb",
   "metadata": {
    "execution": {
     "iopub.execute_input": "2022-03-02T11:16:42.574912Z",
     "iopub.status.busy": "2022-03-02T11:16:42.574607Z",
     "iopub.status.idle": "2022-03-02T11:16:42.580306Z",
     "shell.execute_reply": "2022-03-02T11:16:42.579796Z",
     "shell.execute_reply.started": "2022-03-02T11:16:42.574890Z"
    },
    "tags": []
   },
   "outputs": [],
   "source": [
    "def prod_HSC_protocluster_file(z, Ng, idx_group):\n",
    "    #produce_HSC_image_text_file\n",
    "    print(idx_group.shape)\n",
    "    prod_file = '../data/Pc_z%s_Ng%s/HSC_images_z%s-Ng%s.txt' %(z,Ng,z,Ng)\n",
    "    with open(prod_file,'w') as f:\n",
    "        f.write('#? rerun  ra  dec  sw  sh  filter  image  mask  variance  type\\n')\n",
    "        for i in range(idx_group.shape[0]):\n",
    "            if i == idx_group.shape[0] - 1:\n",
    "                f.write('  pdr2_dud  '+ str(format(dgroup[idx_group[i],2],'.4f')) + '  ' + str(format(dgroup[idx_group[i],3],'.4f')) + '  0.1  0.1  HSC-I  true   true   false   coadd')\n",
    "            else:\n",
    "                f.write('  pdr2_dud  '+ str(format(dgroup[idx_group[i],2],'.4f')) + '  ' + str(format(dgroup[idx_group[i],3],'.4f')) + '  0.1  0.1  HSC-I  true   true   false   coadd\\n')"
   ]
  },
  {
   "cell_type": "code",
   "execution_count": 5,
   "id": "fb181e98-76ab-46ee-80a1-3a249e3d860c",
   "metadata": {
    "execution": {
     "iopub.execute_input": "2022-03-02T11:16:43.576159Z",
     "iopub.status.busy": "2022-03-02T11:16:43.575869Z",
     "iopub.status.idle": "2022-03-02T11:16:43.597841Z",
     "shell.execute_reply": "2022-03-02T11:16:43.597310Z",
     "shell.execute_reply.started": "2022-03-02T11:16:43.576138Z"
    },
    "tags": []
   },
   "outputs": [
    {
     "name": "stdout",
     "output_type": "stream",
     "text": [
      "(3,)\n"
     ]
    }
   ],
   "source": [
    "z = 2; Ng = 10; \n",
    "idx_group = np.int64([47826, 61254, 68057]) - 1\n",
    "prod_HSC_protocluster_file(z, Ng, idx_group)\n",
    "\n",
    "# z = 3; Ng = 5; \n",
    "# idx_group = np.int64([192242, 104820, 186417]) - 1\n",
    "# prod_HSC_protocluster_file(z, Ng, idx_group)\n",
    "\n",
    "# z = 4; Ng = 3; \n",
    "# idx_group = np.int64([321925, 354967, 297062]) - 1\n",
    "# prod_HSC_protocluster_file(z, Ng, idx_group)\n"
   ]
  },
  {
   "cell_type": "code",
   "execution_count": null,
   "id": "b699ca49-f5dc-40d4-a6e9-1dcaea47e3c1",
   "metadata": {},
   "outputs": [],
   "source": []
  }
 ],
 "metadata": {
  "kernelspec": {
   "display_name": "mamba-python3",
   "language": "python",
   "name": "mamba-python3"
  },
  "language_info": {
   "codemirror_mode": {
    "name": "ipython",
    "version": 3
   },
   "file_extension": ".py",
   "mimetype": "text/x-python",
   "name": "python",
   "nbconvert_exporter": "python",
   "pygments_lexer": "ipython3",
   "version": "3.7.10"
  }
 },
 "nbformat": 4,
 "nbformat_minor": 5
}
