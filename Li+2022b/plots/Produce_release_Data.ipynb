{
 "cells": [
  {
   "cell_type": "code",
   "execution_count": 1,
   "id": "04b3ce1e-11a2-48f8-ba94-99df79169119",
   "metadata": {
    "execution": {
     "iopub.execute_input": "2022-05-02T11:58:00.954712Z",
     "iopub.status.busy": "2022-05-02T11:58:00.954324Z",
     "iopub.status.idle": "2022-05-02T11:58:02.337493Z",
     "shell.execute_reply": "2022-05-02T11:58:02.336997Z",
     "shell.execute_reply.started": "2022-05-02T11:58:00.954630Z"
    }
   },
   "outputs": [],
   "source": [
    "import numpy as np \n",
    "from astropy.io import fits\n",
    "import matplotlib.pyplot as plt\n",
    "import pandas as pd\n",
    "%matplotlib ipympl"
   ]
  },
  {
   "cell_type": "code",
   "execution_count": 2,
   "id": "28ac4d0a-79cd-4771-b1d4-572d9244f75f",
   "metadata": {
    "execution": {
     "iopub.execute_input": "2022-05-02T12:00:40.809805Z",
     "iopub.status.busy": "2022-05-02T12:00:40.809456Z",
     "iopub.status.idle": "2022-05-02T12:01:55.022866Z",
     "shell.execute_reply": "2022-05-02T12:01:55.022285Z",
     "shell.execute_reply.started": "2022-05-02T12:00:40.809781Z"
    }
   },
   "outputs": [],
   "source": [
    "digal = np.loadtxt('../odata/CLAUDS_HSC_iband_igal')\n",
    "digal0 = np.loadtxt('../odata/CLAUDS_HSC_iband_igal0')"
   ]
  },
  {
   "cell_type": "code",
   "execution_count": 5,
   "id": "2850c84c-afb4-4023-926b-59ceacd3bf23",
   "metadata": {
    "execution": {
     "iopub.execute_input": "2022-05-02T12:14:18.261896Z",
     "iopub.status.busy": "2022-05-02T12:14:18.261561Z",
     "iopub.status.idle": "2022-05-02T12:15:17.161751Z",
     "shell.execute_reply": "2022-05-02T12:15:17.161061Z",
     "shell.execute_reply.started": "2022-05-02T12:14:18.261872Z"
    }
   },
   "outputs": [],
   "source": [
    "dgal_properties = np.loadtxt('../gal_properties')"
   ]
  },
  {
   "cell_type": "code",
   "execution_count": 6,
   "id": "95bb84fa-aa24-4c2d-b191-e571274a486f",
   "metadata": {
    "execution": {
     "iopub.execute_input": "2022-05-02T12:32:43.861233Z",
     "iopub.status.busy": "2022-05-02T12:32:43.860867Z",
     "iopub.status.idle": "2022-05-02T12:32:43.865707Z",
     "shell.execute_reply": "2022-05-02T12:32:43.865292Z",
     "shell.execute_reply.started": "2022-05-02T12:32:43.861207Z"
    },
    "tags": []
   },
   "outputs": [
    {
     "data": {
      "text/plain": [
       "((5607052, 6), (5607052, 8), (5607052, 16))"
      ]
     },
     "execution_count": 6,
     "metadata": {},
     "output_type": "execute_result"
    }
   ],
   "source": [
    "digal.shape, digal0.shape,dgal_properties.shape"
   ]
  },
  {
   "cell_type": "code",
   "execution_count": 11,
   "id": "40085d52-003a-483b-b647-e3ac8d368183",
   "metadata": {
    "execution": {
     "iopub.execute_input": "2022-05-02T12:35:09.857336Z",
     "iopub.status.busy": "2022-05-02T12:35:09.857050Z",
     "iopub.status.idle": "2022-05-02T12:35:09.861791Z",
     "shell.execute_reply": "2022-05-02T12:35:09.861339Z",
     "shell.execute_reply.started": "2022-05-02T12:35:09.857296Z"
    },
    "tags": []
   },
   "outputs": [
    {
     "name": "stdout",
     "output_type": "stream",
     "text": [
      "[  3.     149.4327   2.879    1.7347  25.003  -19.7761]\n",
      "#\n",
      "[ 5.607048e+06  5.631447e+06  3.652520e+01 -3.759800e+00  2.897800e+00\n",
      "  2.431800e+01 -2.181340e+01  4.627500e+00]\n",
      "#\n",
      "[ 5.607048e+06  3.652520e+01 -3.759800e+00  2.897800e+00 -9.900000e+01\n",
      "  3.660000e-02  2.480400e+01  2.460100e+01  2.431800e+01  2.442700e+01\n",
      "  2.463900e+01 -2.126600e+01 -2.137200e+01 -2.146000e+01  9.179200e+00\n",
      "  2.199900e+00]\n"
     ]
    }
   ],
   "source": [
    "print(digal[2])\n",
    "print('#')\n",
    "print(digal0[-5])\n",
    "print('#')\n",
    "print(dgal_properties[-5])"
   ]
  },
  {
   "cell_type": "markdown",
   "id": "7c8e45d4-a3da-4f9f-8671-7aaa69937a29",
   "metadata": {},
   "source": [
    "# Galaxy sample"
   ]
  },
  {
   "cell_type": "code",
   "execution_count": 33,
   "id": "6fdca9b2-f3a7-4db2-8448-dd6bfd14373e",
   "metadata": {
    "execution": {
     "iopub.execute_input": "2022-05-03T13:15:31.910973Z",
     "iopub.status.busy": "2022-05-03T13:15:31.910484Z",
     "iopub.status.idle": "2022-05-03T13:15:32.343976Z",
     "shell.execute_reply": "2022-05-03T13:15:32.343251Z",
     "shell.execute_reply.started": "2022-05-03T13:15:31.910941Z"
    },
    "tags": []
   },
   "outputs": [],
   "source": [
    "'''\n",
    "column 1: ra\n",
    "column 2: dec\n",
    "column 3: redshift\n",
    "column 4: luminosity\n",
    "column 5: i-band absolute magnitude\n",
    "column 6: redshift error\n",
    "'''\n",
    "ngal = np.int64(np.arange(5607052)+1)\n",
    "dgalaxy = np.vstack((ngal, digal[:,1],digal[:,2],digal[:,3],digal0[:,7],digal[:,5],dgal_properties[:,5])).T"
   ]
  },
  {
   "cell_type": "code",
   "execution_count": 26,
   "id": "b67f17cd-a15e-430d-b777-1b5c9dfcb228",
   "metadata": {
    "execution": {
     "iopub.execute_input": "2022-05-02T12:37:59.858722Z",
     "iopub.status.busy": "2022-05-02T12:37:59.858460Z",
     "iopub.status.idle": "2022-05-02T12:37:59.862266Z",
     "shell.execute_reply": "2022-05-02T12:37:59.861793Z",
     "shell.execute_reply.started": "2022-05-02T12:37:59.858700Z"
    },
    "tags": []
   },
   "outputs": [
    {
     "data": {
      "text/plain": [
       "(5607052, 6)"
      ]
     },
     "execution_count": 26,
     "metadata": {},
     "output_type": "execute_result"
    }
   ],
   "source": [
    "dgalaxy.shape"
   ]
  },
  {
   "cell_type": "code",
   "execution_count": 36,
   "id": "621cf2e7-de5a-46f2-9c82-7e3f828cf3cd",
   "metadata": {
    "execution": {
     "iopub.execute_input": "2022-05-03T13:16:18.927222Z",
     "iopub.status.busy": "2022-05-03T13:16:18.926706Z",
     "iopub.status.idle": "2022-05-03T13:16:36.056804Z",
     "shell.execute_reply": "2022-05-03T13:16:36.055851Z",
     "shell.execute_reply.started": "2022-05-03T13:16:18.927192Z"
    },
    "tags": []
   },
   "outputs": [],
   "source": [
    "np.savetxt('/home/qyli/clu_finder/CLAUDS_HSC/catalogue/ReleaseSample/Galaxy', dgalaxy,\n",
    "           fmt = '%-8d  %.4f  %.4f  %.4f  %.4f  %.4f  %.4f')"
   ]
  },
  {
   "cell_type": "markdown",
   "id": "146d03c3-ba7f-4183-83ce-768e7a0fd125",
   "metadata": {},
   "source": [
    "# Group sample"
   ]
  },
  {
   "cell_type": "code",
   "execution_count": 32,
   "id": "e9a4980f-6e72-4066-8f8f-9a93b3516181",
   "metadata": {
    "execution": {
     "iopub.execute_input": "2022-05-03T13:06:53.918167Z",
     "iopub.status.busy": "2022-05-03T13:06:53.917442Z",
     "iopub.status.idle": "2022-05-03T13:07:09.433851Z",
     "shell.execute_reply": "2022-05-03T13:07:09.433204Z",
     "shell.execute_reply.started": "2022-05-03T13:06:53.918134Z"
    }
   },
   "outputs": [],
   "source": [
    "#This is identical with /home/qyli/clu_finder/CLAUDS_HSC/catalogue/odata/CLAUDS_HSC_iband_group"
   ]
  },
  {
   "cell_type": "code",
   "execution_count": 37,
   "id": "cad22a75-5c2b-4270-883b-e37625b162d2",
   "metadata": {
    "execution": {
     "iopub.execute_input": "2022-05-03T13:17:58.913627Z",
     "iopub.status.busy": "2022-05-03T13:17:58.913239Z",
     "iopub.status.idle": "2022-05-03T13:18:14.375619Z",
     "shell.execute_reply": "2022-05-03T13:18:14.374876Z",
     "shell.execute_reply.started": "2022-05-03T13:17:58.913598Z"
    }
   },
   "outputs": [],
   "source": [
    "dgroup = np.loadtxt('../odata/CLAUDS_HSC_iband_group')"
   ]
  },
  {
   "cell_type": "code",
   "execution_count": 41,
   "id": "13c469d0-77ef-4188-8c68-4920ee6815f7",
   "metadata": {
    "execution": {
     "iopub.execute_input": "2022-05-03T13:25:49.036229Z",
     "iopub.status.busy": "2022-05-03T13:25:49.035943Z",
     "iopub.status.idle": "2022-05-03T13:25:59.428807Z",
     "shell.execute_reply": "2022-05-03T13:25:59.427852Z",
     "shell.execute_reply.started": "2022-05-03T13:25:49.036202Z"
    },
    "tags": []
   },
   "outputs": [],
   "source": [
    "dfedge = np.loadtxt('../edges/CLAUDS_HSC_iband_grpfedge')"
   ]
  },
  {
   "cell_type": "code",
   "execution_count": 48,
   "id": "db9020a2-ab75-4b5d-a4b4-59226f53125a",
   "metadata": {
    "execution": {
     "iopub.execute_input": "2022-05-03T13:30:22.102108Z",
     "iopub.status.busy": "2022-05-03T13:30:22.100194Z",
     "iopub.status.idle": "2022-05-03T13:30:22.289393Z",
     "shell.execute_reply": "2022-05-03T13:30:22.288786Z",
     "shell.execute_reply.started": "2022-05-03T13:30:22.101927Z"
    },
    "tags": []
   },
   "outputs": [],
   "source": [
    "'''\n",
    "column 1: group ID\n",
    "column 2: richness\n",
    "column 3: ra\n",
    "column 4: dec\n",
    "column 5: redshift\n",
    "column 6: log M_h/(M_sun/h)\n",
    "column 7: L_group (10^10Lsun/h/h) \n",
    "column 8: f_edge\n",
    "'''\n",
    "\n",
    "dgrp = np.append(dgroup, dfedge[:,1].reshape(dfedge.shape[0],1), axis = 1)"
   ]
  },
  {
   "cell_type": "code",
   "execution_count": 52,
   "id": "7cde78b9-a377-4937-93b2-475eb58cbe0d",
   "metadata": {
    "execution": {
     "iopub.execute_input": "2022-05-03T13:48:35.013570Z",
     "iopub.status.busy": "2022-05-03T13:48:35.013267Z",
     "iopub.status.idle": "2022-05-03T13:48:35.017469Z",
     "shell.execute_reply": "2022-05-03T13:48:35.017010Z",
     "shell.execute_reply.started": "2022-05-03T13:48:35.013546Z"
    }
   },
   "outputs": [
    {
     "data": {
      "text/plain": [
       "(2232134, 8)"
      ]
     },
     "execution_count": 52,
     "metadata": {},
     "output_type": "execute_result"
    }
   ],
   "source": [
    "dgrp.shape"
   ]
  },
  {
   "cell_type": "code",
   "execution_count": 58,
   "id": "2188bb36-7cd5-42c4-8161-ffea5a6cf476",
   "metadata": {
    "execution": {
     "iopub.execute_input": "2022-05-03T13:55:03.041276Z",
     "iopub.status.busy": "2022-05-03T13:55:03.040974Z",
     "iopub.status.idle": "2022-05-03T13:55:10.409004Z",
     "shell.execute_reply": "2022-05-03T13:55:10.408212Z",
     "shell.execute_reply.started": "2022-05-03T13:55:03.041252Z"
    },
    "tags": []
   },
   "outputs": [],
   "source": [
    "np.savetxt('/home/qyli/clu_finder/CLAUDS_HSC/catalogue/ReleaseSample/Group', dgrp,\n",
    "           fmt = '%-8d  %-5d  %8.4f  %8.4f  %8.4f  %8.4f  %8.4f  %5.3f')"
   ]
  },
  {
   "cell_type": "code",
   "execution_count": 50,
   "id": "057b8305-5507-4201-8ea7-51abd08e5821",
   "metadata": {
    "execution": {
     "iopub.execute_input": "2022-05-03T13:30:37.027805Z",
     "iopub.status.busy": "2022-05-03T13:30:37.027503Z",
     "iopub.status.idle": "2022-05-03T13:30:37.032763Z",
     "shell.execute_reply": "2022-05-03T13:30:37.032266Z",
     "shell.execute_reply.started": "2022-05-03T13:30:37.027780Z"
    },
    "tags": []
   },
   "outputs": [
    {
     "data": {
      "text/plain": [
       "(array([ 2.232134e+06,  1.000000e+00,  3.634920e+01, -3.754300e+00,\n",
       "         3.512500e+00,  1.175150e+01,  2.833800e+00]),\n",
       " array([2.232134e+06, 1.000000e+00]),\n",
       " array([ 2.232134e+06,  1.000000e+00,  3.634920e+01, -3.754300e+00,\n",
       "         3.512500e+00,  1.175150e+01,  2.833800e+00,  1.000000e+00]))"
      ]
     },
     "execution_count": 50,
     "metadata": {},
     "output_type": "execute_result"
    }
   ],
   "source": [
    "dgroup[-1], dfedge[-1], dgrp[-1]"
   ]
  },
  {
   "cell_type": "markdown",
   "id": "ff919005-637e-4339-9568-868684cb02a4",
   "metadata": {},
   "source": [
    "# Member galaxies id"
   ]
  },
  {
   "cell_type": "code",
   "execution_count": null,
   "id": "5a369110-b75f-4f84-8c4a-0b3cbf414be2",
   "metadata": {},
   "outputs": [],
   "source": [
    "#This is identical with /home/qyli/clu_finder/CLAUDS_HSC/catalogue/odata/iCLAUDS_HSC_iband_1, iCLAUDS_HSC_iband_2\n",
    "'''\n",
    "_1:\n",
    "1. Ngal\n",
    "2. belong to which group id\n",
    "3. lum (1: brightest one; 2: not)\n",
    "4. xM (1: most massive one; 2: not)\n",
    "\n",
    "_2:\n",
    "1. group id\n",
    "2. galaxy id belong to this group\n",
    "'''"
   ]
  },
  {
   "cell_type": "markdown",
   "id": "d59a00a8-c3ce-4e52-a2da-405e91c07409",
   "metadata": {},
   "source": [
    "# Protocluster candidates catalog"
   ]
  },
  {
   "cell_type": "code",
   "execution_count": null,
   "id": "3ad639ca-a377-4e70-aff6-dfbb2cc1501a",
   "metadata": {},
   "outputs": [],
   "source": []
  }
 ],
 "metadata": {
  "kernelspec": {
   "display_name": "mamba-python3",
   "language": "python",
   "name": "mamba-python3"
  },
  "language_info": {
   "codemirror_mode": {
    "name": "ipython",
    "version": 3
   },
   "file_extension": ".py",
   "mimetype": "text/x-python",
   "name": "python",
   "nbconvert_exporter": "python",
   "pygments_lexer": "ipython3",
   "version": "3.7.10"
  }
 },
 "nbformat": 4,
 "nbformat_minor": 5
}
