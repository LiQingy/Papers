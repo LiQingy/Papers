{
 "cells": [
  {
   "cell_type": "code",
   "execution_count": 1,
   "id": "be54a605-cfba-4990-96d9-db32ebc23edd",
   "metadata": {
    "execution": {
     "iopub.execute_input": "2022-05-02T02:46:56.705701Z",
     "iopub.status.busy": "2022-05-02T02:46:56.705005Z",
     "iopub.status.idle": "2022-05-02T02:46:57.918768Z",
     "shell.execute_reply": "2022-05-02T02:46:57.918181Z",
     "shell.execute_reply.started": "2022-05-02T02:46:56.705621Z"
    },
    "tags": []
   },
   "outputs": [],
   "source": [
    "import numpy as np \n",
    "from astropy.io import fits\n",
    "import matplotlib.pyplot as plt\n",
    "import pandas as pd\n",
    "%matplotlib ipympl"
   ]
  },
  {
   "cell_type": "code",
   "execution_count": 2,
   "id": "c02d25f8-ed15-42dc-b919-0117fa2fde6b",
   "metadata": {
    "execution": {
     "iopub.execute_input": "2022-05-02T02:46:59.705002Z",
     "iopub.status.busy": "2022-05-02T02:46:59.704666Z",
     "iopub.status.idle": "2022-05-02T02:47:34.809995Z",
     "shell.execute_reply": "2022-05-02T02:47:34.809368Z",
     "shell.execute_reply.started": "2022-05-02T02:46:59.704976Z"
    },
    "tags": []
   },
   "outputs": [],
   "source": [
    "matchdata = np.loadtxt('../odata/CLAUDS_HSC_iband_igal')"
   ]
  },
  {
   "cell_type": "code",
   "execution_count": 4,
   "id": "0a102dbd-62c1-4c8f-9f6d-c0b4043580fa",
   "metadata": {
    "execution": {
     "iopub.execute_input": "2022-05-02T02:49:02.235907Z",
     "iopub.status.busy": "2022-05-02T02:49:02.235542Z",
     "iopub.status.idle": "2022-05-02T02:49:02.239280Z",
     "shell.execute_reply": "2022-05-02T02:49:02.238714Z",
     "shell.execute_reply.started": "2022-05-02T02:49:02.235881Z"
    },
    "tags": []
   },
   "outputs": [],
   "source": [
    "claudsredz = matchdata[:,3]"
   ]
  },
  {
   "cell_type": "code",
   "execution_count": 15,
   "id": "6d444a4f-b4cd-4c2e-89e6-7a54b6bf972b",
   "metadata": {
    "execution": {
     "iopub.execute_input": "2022-05-02T02:57:50.755552Z",
     "iopub.status.busy": "2022-05-02T02:57:50.755269Z",
     "iopub.status.idle": "2022-05-02T02:57:50.804950Z",
     "shell.execute_reply": "2022-05-02T02:57:50.804534Z",
     "shell.execute_reply.started": "2022-05-02T02:57:50.755530Z"
    },
    "tags": []
   },
   "outputs": [
    {
     "data": {
      "text/plain": [
       "(2549143,)"
      ]
     },
     "execution_count": 15,
     "metadata": {},
     "output_type": "execute_result"
    }
   ],
   "source": [
    "np.where(claudsredz >= 1)[0].shape"
   ]
  },
  {
   "cell_type": "code",
   "execution_count": 18,
   "id": "118ece3a-23fb-46f4-a0e3-47e2a8421a63",
   "metadata": {
    "execution": {
     "iopub.execute_input": "2022-05-02T07:56:28.942374Z",
     "iopub.status.busy": "2022-05-02T07:56:28.942101Z",
     "iopub.status.idle": "2022-05-02T07:56:28.945094Z",
     "shell.execute_reply": "2022-05-02T07:56:28.944664Z",
     "shell.execute_reply.started": "2022-05-02T07:56:28.942352Z"
    },
    "tags": []
   },
   "outputs": [],
   "source": [
    "claudsra = matchdata[:,1]\n",
    "claudsdec = matchdata[:,2]"
   ]
  },
  {
   "cell_type": "code",
   "execution_count": 19,
   "id": "a18a5f58-9a57-4737-b12e-2c4e225f3074",
   "metadata": {
    "execution": {
     "iopub.execute_input": "2022-05-02T07:56:29.756927Z",
     "iopub.status.busy": "2022-05-02T07:56:29.756672Z",
     "iopub.status.idle": "2022-05-02T07:56:29.760233Z",
     "shell.execute_reply": "2022-05-02T07:56:29.759805Z",
     "shell.execute_reply.started": "2022-05-02T07:56:29.756906Z"
    },
    "tags": []
   },
   "outputs": [],
   "source": [
    "def sky_coverage(ra1, ra2, dec1, dec2):\n",
    "    import numpy as np\n",
    "\n",
    "    degs_rads = np.pi / 180\n",
    "\n",
    "    #ra1, ra2, deg1, deg2 in unit of degree\n",
    "    #total sky:4*pi\n",
    "    area = (ra1 - ra2)*degs_rads *(np.sin(dec1 * degs_rads) - np.sin(dec2 * degs_rads))\n",
    "\n",
    "    print('sky coverage is',area)"
   ]
  },
  {
   "cell_type": "code",
   "execution_count": 70,
   "id": "7b61a788-ded9-42b1-a1ea-102e7ab3cab9",
   "metadata": {
    "execution": {
     "iopub.execute_input": "2022-05-02T09:12:12.760934Z",
     "iopub.status.busy": "2022-05-02T09:12:12.760676Z",
     "iopub.status.idle": "2022-05-02T09:12:12.767021Z",
     "shell.execute_reply": "2022-05-02T09:12:12.766619Z",
     "shell.execute_reply.started": "2022-05-02T09:12:12.760913Z"
    },
    "jupyter": {
     "source_hidden": true
    },
    "tags": []
   },
   "outputs": [
    {
     "name": "stdout",
     "output_type": "stream",
     "text": [
      "0.00014375560192356166\n",
      "0.0001428375789739444\n",
      "0.00014092822753868106\n",
      "0.0001428350411742213\n"
     ]
    },
    {
     "data": {
      "text/plain": [
       "0.00014"
      ]
     },
     "execution_count": 70,
     "metadata": {},
     "output_type": "execute_result"
    }
   ],
   "source": [
    "# print(((152-148) * (4-0.5) / 300 / 300)**0.5,\n",
    "# ((354.2-350) * (1.2+1.7) / 300 / 300)**0.5,\n",
    "# ((245.7-239.7) * (57-53.3) / 300 / 300)**0.5,\n",
    "# ((37.8-33.5) * (6.2-3.2) / 300 / 300)**0.5,)\n",
    "\n",
    "print(sky_area(152,148.3,4,0.5) / 4 / np.pi * 41252.96124 / 300**2)\n",
    "print(sky_area(354.3,350,1.21,-1.78) / 4 / np.pi * 41252.96124 / 300**2)\n",
    "print(sky_area(245.7,239.7,57,53.3) / 4 / np.pi * 41252.96124 / 300**2 )\n",
    "print(sky_area(37.8,33.5,6.2,3.2) / 4 / np.pi * 41252.96124 / 300**2)\n",
    "1.4e-4"
   ]
  },
  {
   "cell_type": "code",
   "execution_count": 45,
   "id": "960a8028-aba6-4b7f-aa69-bb53aa24d2c2",
   "metadata": {
    "execution": {
     "iopub.execute_input": "2022-05-02T08:30:30.797627Z",
     "iopub.status.busy": "2022-05-02T08:30:30.797381Z",
     "iopub.status.idle": "2022-05-02T08:30:31.920334Z",
     "shell.execute_reply": "2022-05-02T08:30:31.919881Z",
     "shell.execute_reply.started": "2022-05-02T08:30:30.797607Z"
    },
    "tags": []
   },
   "outputs": [
    {
     "data": {
      "application/vnd.jupyter.widget-view+json": {
       "model_id": "",
       "version_major": 2,
       "version_minor": 0
      },
      "text/plain": [
       "Canvas(toolbar=Toolbar(toolitems=[('Home', 'Reset original view', 'home', 'home'), ('Back', 'Back to previous …"
      ]
     },
     "metadata": {},
     "output_type": "display_data"
    },
    {
     "name": "stdout",
     "output_type": "stream",
     "text": [
      "(5607052,)\n",
      "sky coverage is 0.00394114144930553\n",
      "sky coverage is 0.0039159733289002175\n",
      "sky coverage is 0.003863627375197428\n",
      "sky coverage is 0.003915903753679878\n"
     ]
    },
    {
     "name": "stderr",
     "output_type": "stream",
     "text": [
      "/opt/anaconda-mamba/envs/mamba-python3/lib/python3.7/site-packages/ipykernel_launcher.py:73: UserWarning: This figure includes Axes that are not compatible with tight_layout, so results might be incorrect.\n"
     ]
    }
   ],
   "source": [
    "# plt.figure(figsize = (9,7.6), dpi = 500)\n",
    "plt.figure(figsize = (9,7.6))\n",
    "print(claudsra.shape)\n",
    "nhist = 80\n",
    "nbin = 300\n",
    "\n",
    "#COSMOS\n",
    "plt.subplot(221)\n",
    "id_clauds = np.where((claudsra > 148.2) & (claudsra < 152) & (claudsdec > 0.5) & (claudsdec < 4))[0]\n",
    "\n",
    "h = plt.hist2d(claudsra[id_clauds], claudsdec[id_clauds],bins = nbin, range = ((148.3,152),(0.5,4)), \n",
    "           vmin = 0, vmax = nhist, rasterized=True)\n",
    "sky_coverage(152, 148.3, 4, 0.5)\n",
    "# plt.colorbar()\n",
    "ax = plt.gca()\n",
    "ax.invert_xaxis()\n",
    "plt.text(151.8,3.8,'E-COSMOS',color = 'r',weight = 'bold')\n",
    "plt.xlabel('RA [deg]',fontsize = 12)\n",
    "plt.ylabel('Dec [deg]',fontsize = 12)\n",
    "\n",
    "#DEEP\n",
    "plt.subplot(222)\n",
    "id_clauds = np.where((claudsra > 350) & (claudsra < 354.2) & (claudsdec > -1.7) & (claudsdec < 1.2))[0]\n",
    "h = plt.hist2d(claudsra[id_clauds], claudsdec[id_clauds], bins = nbin,range = ((350,354.3),(-1.78,1.21)),\n",
    "          vmin = 0, vmax = nhist,rasterized=True)\n",
    "sky_coverage(354.3, 350, 1.21, -1.78)\n",
    "# plt.colorbar()\n",
    "ax = plt.gca()\n",
    "ax.invert_xaxis()\n",
    "plt.text(354,1.04,'DEEP2-3',color = 'r',weight = 'bold')\n",
    "plt.xlabel('RA [deg]',fontsize = 12)\n",
    "plt.ylabel('Dec [deg]',fontsize = 12)\n",
    "\n",
    "#ELAIS\n",
    "plt.subplot(223)\n",
    "id_clauds = np.where((claudsra > 239.7) & (claudsra < 245.7) & (claudsdec > 53.3) & (claudsdec < 57))[0]\n",
    "h = plt.hist2d(claudsra[id_clauds], claudsdec[id_clauds], bins = nbin, range = ((239.7,245.7),(53.3,57)),\n",
    "          vmin = 0, vmax = nhist,rasterized=True)\n",
    "sky_coverage(245.7, 239.7, 57, 53.3)\n",
    "# plt.colorbar()\n",
    "ax = plt.gca()\n",
    "ax.invert_xaxis()\n",
    "plt.text(245.3,56.7,'ELAIS-N1',color = 'r',weight = 'bold')\n",
    "plt.xlabel('RA [deg]',fontsize = 12)\n",
    "plt.ylabel('Dec [deg]',fontsize = 12)\n",
    "\n",
    "#XMM-LSS\n",
    "plt.subplot(224)\n",
    "id_clauds = np.where((claudsra > 33.5) & (claudsra < 37.8) & (claudsdec > -6.2) & (claudsdec < -3.2))[0]\n",
    "h = plt.hist2d(claudsra[id_clauds], claudsdec[id_clauds], bins = nbin, range = ((33.5,37.8),(-6.2,-3.2)),\n",
    "          vmin = 0, vmax = nhist,rasterized=True)\n",
    "sky_coverage(37.8, 33.5, -3.2, -6.2)\n",
    "# plt.colorbar()\n",
    "\n",
    "ax = plt.gca()\n",
    "ax.invert_xaxis()\n",
    "plt.text(37.5,-3.45,'XMM-LSS',color = 'r',weight = 'bold')\n",
    "plt.xlabel('RA [deg]',fontsize = 12)\n",
    "plt.ylabel('Dec [deg]',fontsize = 12)\n",
    "\n",
    "#Colorbar\n",
    "# plt.subplots_adjust(wspace =0.3,hspace = 0.2)\n",
    "plt.subplots_adjust(bottom=0.1, right=0.8, top=0.9)\n",
    "cax = plt.axes([0.91, 0.2, 0.025, 0.6])\n",
    "plt.colorbar(cax=cax,label = 'N')\n",
    "# import matplotlib as mpl\n",
    "# cmap = mpl.cm.viridis\n",
    "# norm = mpl.colors.Normalize(vmin=0, vmax=80)\n",
    "# # ax00,axis('off')\n",
    "# plt.colorbar(mpl.cm.ScalarMappable(norm=norm, cmap=cmap),cax = ax00, shrink = 0.5, pad = 0.005,\n",
    "#              aspect = 0.5,label='N')\n",
    "\n",
    "plt.tight_layout(rect = (0,0,0.9,1))\n",
    "\n",
    "# plt.savefig('../figs/dis2D.pdf')"
   ]
  },
  {
   "cell_type": "code",
   "execution_count": null,
   "id": "365859b9-f1f7-47c6-a14d-0828ee23bb1c",
   "metadata": {},
   "outputs": [],
   "source": []
  },
  {
   "cell_type": "code",
   "execution_count": 33,
   "id": "8611592d-0de6-4bb8-978a-44c82c556c5e",
   "metadata": {
    "execution": {
     "iopub.execute_input": "2021-12-09T07:52:10.609872Z",
     "iopub.status.busy": "2021-12-09T07:52:10.609616Z",
     "iopub.status.idle": "2021-12-09T07:52:10.613605Z",
     "shell.execute_reply": "2021-12-09T07:52:10.613182Z",
     "shell.execute_reply.started": "2021-12-09T07:52:10.609851Z"
    },
    "tags": []
   },
   "outputs": [
    {
     "data": {
      "text/plain": [
       "12.802944765045801"
      ]
     },
     "execution_count": 33,
     "metadata": {},
     "output_type": "execute_result"
    }
   ],
   "source": [
    "4*np.pi / (np.pi/ 180)**2 * (0.0039 / np.pi / 4)"
   ]
  },
  {
   "cell_type": "code",
   "execution_count": 10,
   "id": "1a2e0f55-bf82-4668-9604-3072de331c08",
   "metadata": {
    "execution": {
     "iopub.execute_input": "2021-12-09T07:33:47.521445Z",
     "iopub.status.busy": "2021-12-09T07:33:47.521221Z",
     "iopub.status.idle": "2021-12-09T07:33:47.525332Z",
     "shell.execute_reply": "2021-12-09T07:33:47.524910Z",
     "shell.execute_reply.started": "2021-12-09T07:33:47.521423Z"
    },
    "tags": []
   },
   "outputs": [
    {
     "name": "stdout",
     "output_type": "stream",
     "text": [
      "12.566370614359172 12.566370614359172\n"
     ]
    }
   ],
   "source": []
  },
  {
   "cell_type": "markdown",
   "id": "78970f93-2771-4cb9-be19-81e2b7054842",
   "metadata": {},
   "source": [
    "## Tests"
   ]
  },
  {
   "cell_type": "code",
   "execution_count": null,
   "id": "7757af12-2cc9-4f1a-b62d-6be789f09f72",
   "metadata": {},
   "outputs": [],
   "source": [
    "# matchdata = pd.read_csv('../HSC_CLAUDS_match_sample')"
   ]
  },
  {
   "cell_type": "code",
   "execution_count": null,
   "id": "c2f53486-3b3e-4954-8eca-fb36a09b5d37",
   "metadata": {},
   "outputs": [],
   "source": [
    "# claudsra = np.array(matchdata['ra_1'][:])\n",
    "# claudsdec = np.array(matchdata['dec_1'][:])\n",
    "# hscmagi = np.array(matchdata['mag_i'][:])\n",
    "\n",
    "# claudsra.shape"
   ]
  },
  {
   "cell_type": "code",
   "execution_count": 85,
   "id": "49130740-d532-4f88-b76d-ff8158b7b893",
   "metadata": {
    "execution": {
     "iopub.execute_input": "2021-08-03T04:44:53.817744Z",
     "iopub.status.busy": "2021-08-03T04:44:53.817179Z",
     "iopub.status.idle": "2021-08-03T04:44:54.639011Z",
     "shell.execute_reply": "2021-08-03T04:44:54.638266Z",
     "shell.execute_reply.started": "2021-08-03T04:44:53.817714Z"
    },
    "tags": []
   },
   "outputs": [
    {
     "data": {
      "application/vnd.jupyter.widget-view+json": {
       "model_id": "9446666d1d814c07a2ad6f623e5918b4",
       "version_major": 2,
       "version_minor": 0
      },
      "text/plain": [
       "Canvas(toolbar=Toolbar(toolitems=[('Home', 'Reset original view', 'home', 'home'), ('Back', 'Back to previous …"
      ]
     },
     "metadata": {},
     "output_type": "display_data"
    },
    {
     "name": "stdout",
     "output_type": "stream",
     "text": [
      "(5631451,)\n"
     ]
    },
    {
     "ename": "AttributeError",
     "evalue": "'tuple' object has no attribute 'get_array'",
     "output_type": "error",
     "traceback": [
      "\u001b[0;31m---------------------------------------------------------------------------\u001b[0m",
      "\u001b[0;31mAttributeError\u001b[0m                            Traceback (most recent call last)",
      "\u001b[0;32m/tmp/ipykernel_14456/3728901636.py\u001b[0m in \u001b[0;36m<module>\u001b[0;34m\u001b[0m\n\u001b[1;32m     57\u001b[0m \u001b[0mplt\u001b[0m\u001b[0;34m.\u001b[0m\u001b[0msubplots_adjust\u001b[0m\u001b[0;34m(\u001b[0m\u001b[0mbottom\u001b[0m\u001b[0;34m=\u001b[0m\u001b[0;36m0.1\u001b[0m\u001b[0;34m,\u001b[0m \u001b[0mright\u001b[0m\u001b[0;34m=\u001b[0m\u001b[0;36m0.8\u001b[0m\u001b[0;34m,\u001b[0m \u001b[0mtop\u001b[0m\u001b[0;34m=\u001b[0m\u001b[0;36m0.9\u001b[0m\u001b[0;34m)\u001b[0m\u001b[0;34m\u001b[0m\u001b[0;34m\u001b[0m\u001b[0m\n\u001b[1;32m     58\u001b[0m \u001b[0mcax\u001b[0m \u001b[0;34m=\u001b[0m \u001b[0mplt\u001b[0m\u001b[0;34m.\u001b[0m\u001b[0maxes\u001b[0m\u001b[0;34m(\u001b[0m\u001b[0;34m[\u001b[0m\u001b[0;36m0.85\u001b[0m\u001b[0;34m,\u001b[0m \u001b[0;36m0.1\u001b[0m\u001b[0;34m,\u001b[0m \u001b[0;36m0.075\u001b[0m\u001b[0;34m,\u001b[0m \u001b[0;36m0.8\u001b[0m\u001b[0;34m]\u001b[0m\u001b[0;34m)\u001b[0m\u001b[0;34m\u001b[0m\u001b[0;34m\u001b[0m\u001b[0m\n\u001b[0;32m---> 59\u001b[0;31m \u001b[0mplt\u001b[0m\u001b[0;34m.\u001b[0m\u001b[0mcolorbar\u001b[0m\u001b[0;34m(\u001b[0m\u001b[0mh\u001b[0m\u001b[0;34m,\u001b[0m \u001b[0mcax\u001b[0m\u001b[0;34m=\u001b[0m\u001b[0mcax\u001b[0m\u001b[0;34m)\u001b[0m\u001b[0;34m\u001b[0m\u001b[0;34m\u001b[0m\u001b[0m\n\u001b[0m\u001b[1;32m     60\u001b[0m \u001b[0;34m\u001b[0m\u001b[0m\n\u001b[1;32m     61\u001b[0m \u001b[0;31m# import matplotlib as mpl\u001b[0m\u001b[0;34m\u001b[0m\u001b[0;34m\u001b[0m\u001b[0;34m\u001b[0m\u001b[0m\n",
      "\u001b[0;32m/opt/anaconda-mamba/envs/mamba-python3/lib/python3.7/site-packages/matplotlib/pyplot.py\u001b[0m in \u001b[0;36mcolorbar\u001b[0;34m(mappable, cax, ax, **kw)\u001b[0m\n\u001b[1;32m   2354\u001b[0m                                \u001b[0;34m'an image (with imshow) or a contour set ('\u001b[0m\u001b[0;34m\u001b[0m\u001b[0;34m\u001b[0m\u001b[0m\n\u001b[1;32m   2355\u001b[0m                                'with contourf).')\n\u001b[0;32m-> 2356\u001b[0;31m     \u001b[0mret\u001b[0m \u001b[0;34m=\u001b[0m \u001b[0mgcf\u001b[0m\u001b[0;34m(\u001b[0m\u001b[0;34m)\u001b[0m\u001b[0;34m.\u001b[0m\u001b[0mcolorbar\u001b[0m\u001b[0;34m(\u001b[0m\u001b[0mmappable\u001b[0m\u001b[0;34m,\u001b[0m \u001b[0mcax\u001b[0m\u001b[0;34m=\u001b[0m\u001b[0mcax\u001b[0m\u001b[0;34m,\u001b[0m \u001b[0max\u001b[0m\u001b[0;34m=\u001b[0m\u001b[0max\u001b[0m\u001b[0;34m,\u001b[0m \u001b[0;34m**\u001b[0m\u001b[0mkw\u001b[0m\u001b[0;34m)\u001b[0m\u001b[0;34m\u001b[0m\u001b[0;34m\u001b[0m\u001b[0m\n\u001b[0m\u001b[1;32m   2357\u001b[0m     \u001b[0;32mreturn\u001b[0m \u001b[0mret\u001b[0m\u001b[0;34m\u001b[0m\u001b[0;34m\u001b[0m\u001b[0m\n\u001b[1;32m   2358\u001b[0m \u001b[0;34m\u001b[0m\u001b[0m\n",
      "\u001b[0;32m/opt/anaconda-mamba/envs/mamba-python3/lib/python3.7/site-packages/matplotlib/figure.py\u001b[0m in \u001b[0;36mcolorbar\u001b[0;34m(self, mappable, cax, ax, use_gridspec, **kw)\u001b[0m\n\u001b[1;32m   1171\u001b[0m                              'panchor']\n\u001b[1;32m   1172\u001b[0m         \u001b[0mcb_kw\u001b[0m \u001b[0;34m=\u001b[0m \u001b[0;34m{\u001b[0m\u001b[0mk\u001b[0m\u001b[0;34m:\u001b[0m \u001b[0mv\u001b[0m \u001b[0;32mfor\u001b[0m \u001b[0mk\u001b[0m\u001b[0;34m,\u001b[0m \u001b[0mv\u001b[0m \u001b[0;32min\u001b[0m \u001b[0mkw\u001b[0m\u001b[0;34m.\u001b[0m\u001b[0mitems\u001b[0m\u001b[0;34m(\u001b[0m\u001b[0;34m)\u001b[0m \u001b[0;32mif\u001b[0m \u001b[0mk\u001b[0m \u001b[0;32mnot\u001b[0m \u001b[0;32min\u001b[0m \u001b[0mNON_COLORBAR_KEYS\u001b[0m\u001b[0;34m}\u001b[0m\u001b[0;34m\u001b[0m\u001b[0;34m\u001b[0m\u001b[0m\n\u001b[0;32m-> 1173\u001b[0;31m         \u001b[0mcb\u001b[0m \u001b[0;34m=\u001b[0m \u001b[0mcbar\u001b[0m\u001b[0;34m.\u001b[0m\u001b[0mColorbar\u001b[0m\u001b[0;34m(\u001b[0m\u001b[0mcax\u001b[0m\u001b[0;34m,\u001b[0m \u001b[0mmappable\u001b[0m\u001b[0;34m,\u001b[0m \u001b[0;34m**\u001b[0m\u001b[0mcb_kw\u001b[0m\u001b[0;34m)\u001b[0m\u001b[0;34m\u001b[0m\u001b[0;34m\u001b[0m\u001b[0m\n\u001b[0m\u001b[1;32m   1174\u001b[0m \u001b[0;34m\u001b[0m\u001b[0m\n\u001b[1;32m   1175\u001b[0m         \u001b[0mself\u001b[0m\u001b[0;34m.\u001b[0m\u001b[0msca\u001b[0m\u001b[0;34m(\u001b[0m\u001b[0mcurrent_ax\u001b[0m\u001b[0;34m)\u001b[0m\u001b[0;34m\u001b[0m\u001b[0;34m\u001b[0m\u001b[0m\n",
      "\u001b[0;32m/opt/anaconda-mamba/envs/mamba-python3/lib/python3.7/site-packages/matplotlib/colorbar.py\u001b[0m in \u001b[0;36m__init__\u001b[0;34m(self, ax, mappable, **kwargs)\u001b[0m\n\u001b[1;32m   1169\u001b[0m         \u001b[0;31m# Ensure the given mappable's norm has appropriate vmin and vmax set\u001b[0m\u001b[0;34m\u001b[0m\u001b[0;34m\u001b[0m\u001b[0;34m\u001b[0m\u001b[0m\n\u001b[1;32m   1170\u001b[0m         \u001b[0;31m# even if mappable.draw has not yet been called.\u001b[0m\u001b[0;34m\u001b[0m\u001b[0;34m\u001b[0m\u001b[0;34m\u001b[0m\u001b[0m\n\u001b[0;32m-> 1171\u001b[0;31m         \u001b[0;32mif\u001b[0m \u001b[0mmappable\u001b[0m\u001b[0;34m.\u001b[0m\u001b[0mget_array\u001b[0m\u001b[0;34m(\u001b[0m\u001b[0;34m)\u001b[0m \u001b[0;32mis\u001b[0m \u001b[0;32mnot\u001b[0m \u001b[0;32mNone\u001b[0m\u001b[0;34m:\u001b[0m\u001b[0;34m\u001b[0m\u001b[0;34m\u001b[0m\u001b[0m\n\u001b[0m\u001b[1;32m   1172\u001b[0m             \u001b[0mmappable\u001b[0m\u001b[0;34m.\u001b[0m\u001b[0mautoscale_None\u001b[0m\u001b[0;34m(\u001b[0m\u001b[0;34m)\u001b[0m\u001b[0;34m\u001b[0m\u001b[0;34m\u001b[0m\u001b[0m\n\u001b[1;32m   1173\u001b[0m \u001b[0;34m\u001b[0m\u001b[0m\n",
      "\u001b[0;31mAttributeError\u001b[0m: 'tuple' object has no attribute 'get_array'"
     ]
    }
   ],
   "source": [
    "# plt.figure(figsize = (9,8.5))\n",
    "# print(claudsra.shape)\n",
    "# nhist = 80\n",
    "# nbin = 300\n",
    "\n",
    "# ax1 = plt.subplot2grid((8,9),(0,0),colspan = 4,rowspan = 4)\n",
    "# ax2 = plt.subplot2grid((8,9),(0,4),colspan = 4,rowspan = 4)\n",
    "# ax3 = plt.subplot2grid((8,9),(4,0),colspan = 4,rowspan = 4)\n",
    "# ax4 = plt.subplot2grid((8,9),(4,4),colspan = 4,rowspan = 4)\n",
    "# ax00 = plt.subplot2grid((8,9),(1,8),colspan = 1,rowspan = 6)\n",
    "\n",
    "# #COSMOS\n",
    "# id_clauds = np.where((claudsra > 148.2) & (claudsra < 152) & (claudsdec > 0.5) & (claudsdec < 4))[0]\n",
    "\n",
    "# h = ax1.hist2d(claudsra[id_clauds], claudsdec[id_clauds],bins = nbin, range = ((148.2,152),(0.5,4)), \n",
    "#            vmin = 0, vmax = nhist)\n",
    "\n",
    "# # plt.colorbar()\n",
    "# ax1.invert_xaxis()\n",
    "# ax1.text(151.8,3.8,'COSMOS',color = 'r',weight = 'bold')\n",
    "# ax1.set_xlabel('RA[deg]')\n",
    "# ax1.set_ylabel('Dec[deg]')\n",
    "\n",
    "# #DEEP\n",
    "# id_clauds = np.where((claudsra > 350) & (claudsra < 354.2) & (claudsdec > -1.7) & (claudsdec < 1.2))[0]\n",
    "# h = ax2.hist2d(claudsra[id_clauds], claudsdec[id_clauds], bins = nbin,range = ((350,354.2),(-1.7,1.2)),\n",
    "#           vmin = 0, vmax = nhist)\n",
    "# # plt.colorbar()\n",
    "# ax2.invert_xaxis()\n",
    "# ax2.text(354,1.0,'DEEP',color = 'r',weight = 'bold')\n",
    "# ax2.set_xlabel('RA[deg]')\n",
    "# ax2.set_ylabel('Dec[deg]')\n",
    "\n",
    "# #ELAIS\n",
    "# id_clauds = np.where((claudsra > 239.7) & (claudsra < 245.7) & (claudsdec > 53.3) & (claudsdec < 57))[0]\n",
    "# h = ax3.hist2d(claudsra[id_clauds], claudsdec[id_clauds], bins = nbin, range = ((239.7,245.7),(53.3,57)),\n",
    "#           vmin = 0, vmax = nhist)\n",
    "# # plt.colorbar()\n",
    "# ax3.invert_xaxis()\n",
    "# ax3.text(245,56.8,'ELAIS',color = 'r',weight = 'bold')\n",
    "# ax3.set_xlabel('RA[deg]')\n",
    "# ax3.set_ylabel('Dec[deg]')\n",
    "\n",
    "# #XMM-LSS\n",
    "# id_clauds = np.where((claudsra > 33.5) & (claudsra < 37.8) & (claudsdec > -6.2) & (claudsdec < -3.2))[0]\n",
    "# h = ax4.hist2d(claudsra[id_clauds], claudsdec[id_clauds], bins = nbin, range = ((33.5,37.8),(-6.2,-3.2)),\n",
    "#           vmin = 0, vmax = nhist,cmap = 'viridis')\n",
    "# # plt.colorbar()\n",
    "# ax4.invert_xaxis()\n",
    "# ax4.text(37.2,-3.5,'XMM-LSS',color = 'r',weight = 'bold')\n",
    "# ax4.set_xlabel('RA[deg]')\n",
    "# ax4.set_ylabel('Dec[deg]')\n",
    "\n",
    "# #Colorbar\n",
    "\n",
    "# ax00.axis('off')\n",
    "# plt.subplots_adjust(bottom=0.1, right=0.8, top=0.9)\n",
    "# cax = plt.axes([0.85, 0.1, 0.075, 0.8])\n",
    "# plt.colorbar(h, cax=cax)\n",
    "\n",
    "# # import matplotlib as mpl\n",
    "# # cmap = mpl.cm.viridis\n",
    "# # norm = mpl.colors.Normalize(vmin=0, vmax=80)\n",
    "# # plt.colorbar(mpl.cm.ScalarMappable(norm=norm, cmap=cmap),cax = ax00, shrink = 0.5, pad = 0.005,\n",
    "# #              aspect = 0.5,label='N')\n",
    "\n",
    "# plt.tight_layout()"
   ]
  },
  {
   "cell_type": "code",
   "execution_count": 27,
   "id": "e74a991b-ef35-4b43-a573-5322a56475a5",
   "metadata": {
    "execution": {
     "iopub.execute_input": "2021-08-01T14:00:08.274054Z",
     "iopub.status.busy": "2021-08-01T14:00:08.273774Z",
     "iopub.status.idle": "2021-08-01T14:00:08.279338Z",
     "shell.execute_reply": "2021-08-01T14:00:08.278919Z",
     "shell.execute_reply.started": "2021-08-01T14:00:08.274033Z"
    },
    "tags": []
   },
   "outputs": [],
   "source": [
    "# def pix_gal( ra, dec, nside=512, autoplot=False ):\n",
    "\n",
    "#     from pandas import value_counts\n",
    "#     import healpy as hp\n",
    "#     import numpy as np\n",
    "\n",
    "#     print('===> size of pixel in unit of arcmin = ',np.sqrt( 41253.*60.*60./hp.nside2npix(nside) ))\n",
    "\n",
    "#     pxl = hp.ang2pix(nside, np.pi/2.-np.deg2rad(dec), np.deg2rad(ra) )\n",
    "#     pxlc = value_counts(pxl)\n",
    "#     #meanfield = np.mean(pxlc.values)\n",
    "#     #pxlc = pxlc - meanfield\n",
    "\n",
    "#     [pxl_dec, pxl_ra] = np.rad2deg(hp.pix2ang(nside, pxlc.index))\n",
    "#     pxl_dec = 90.-pxl_dec\n",
    "\n",
    "#     g_mask = np.zeros(hp.nside2npix(nside))\n",
    "#     g_mask[pxlc.index] = 1\n",
    "\n",
    "#     if autoplot: # plot the galaxy number over density per pixel\n",
    "#         #colorpix = np.ones(hp.nside2npix(nside)) * (-meanfield)\n",
    "#         colorpix = np.zeros(hp.nside2npix(nside))\n",
    "#         colorpix[pxlc.index] = pxlc.values\n",
    "#         hp.mollview(colorpix, title='Galaxy Number Counts',rot=(180.,0.),xsize =1000)\n",
    "# #         hp.mollview(colorpix,rot=(270.,0.,0.),xsize =200)\n",
    "#         hp.graticule(dpar=30)\n",
    "\n",
    "#     return g_mask"
   ]
  },
  {
   "cell_type": "code",
   "execution_count": 131,
   "id": "e4912157-2f49-42f1-94f8-eb40a66cd6fc",
   "metadata": {
    "execution": {
     "iopub.execute_input": "2021-08-03T06:31:05.349003Z",
     "iopub.status.busy": "2021-08-03T06:31:05.348714Z",
     "iopub.status.idle": "2021-08-03T06:31:11.759059Z",
     "shell.execute_reply": "2021-08-03T06:31:11.758615Z",
     "shell.execute_reply.started": "2021-08-03T06:31:05.348975Z"
    },
    "tags": []
   },
   "outputs": [
    {
     "data": {
      "application/vnd.jupyter.widget-view+json": {
       "model_id": "161ec1f8583448e689f92bd671c65020",
       "version_major": 2,
       "version_minor": 0
      },
      "text/plain": [
       "Canvas(toolbar=Toolbar(toolitems=[('Home', 'Reset original view', 'home', 'home'), ('Back', 'Back to previous …"
      ]
     },
     "metadata": {},
     "output_type": "display_data"
    },
    {
     "name": "stderr",
     "output_type": "stream",
     "text": [
      "/opt/anaconda-mamba/envs/mamba-python3/lib/python3.7/site-packages/ipykernel_launcher.py:19: UserWarning: This figure includes Axes that are not compatible with tight_layout, so results might be incorrect.\n"
     ]
    }
   ],
   "source": [
    "# pix_gal(claudsra,claudsdec,autoplot=True)\n",
    "\n",
    "# from pandas import value_counts\n",
    "# import healpy as hp\n",
    "# import matplotlib\n",
    "\n",
    "# nside = 4096\n",
    "# pxl = hp.ang2pix(nside, np.pi/2.-np.deg2rad(claudsdec), np.deg2rad(claudsra) )\n",
    "# pxlc = value_counts(pxl)\n",
    "# colorpix = np.zeros(hp.nside2npix(nside))\n",
    "# colorpix[pxlc.index] = pxlc.values\n",
    "        \n",
    "# cmap = plt.get_cmap('vir'); \n",
    "# # (148.2,152),(0.5,4)\n",
    "# axis = [240, 246, 53, 57]\n",
    "# norm = matplotlib.colors.Normalize(vmin=min(colorpix), vmax=max(colorpix))\n",
    "# hp.cartview(colorpix, lonra = [axis[0], axis[1]], latra =[axis[2], axis[3]], cmap = cmap, norm = norm)\n",
    "\n",
    "# plt.tight_layout()"
   ]
  },
  {
   "cell_type": "code",
   "execution_count": 51,
   "id": "3b404072-bad8-4749-b9b3-24f440a313fc",
   "metadata": {
    "execution": {
     "iopub.execute_input": "2022-05-02T08:54:16.939363Z",
     "iopub.status.busy": "2022-05-02T08:54:16.939094Z",
     "iopub.status.idle": "2022-05-02T08:54:16.942713Z",
     "shell.execute_reply": "2022-05-02T08:54:16.942279Z",
     "shell.execute_reply.started": "2022-05-02T08:54:16.939341Z"
    },
    "tags": []
   },
   "outputs": [],
   "source": [
    "import numpy as np\n",
    "\n",
    "def sky_area(ra1,ra2,dec1,dec2):\n",
    "    degs_rads = np.pi / 180\n",
    "\n",
    "    #ra1, ra2, deg1, deg2 in unit of degree\n",
    "    #total sky:4*pi\n",
    "    area = (ra1 - ra2)*degs_rads *(np.sin(dec1 * degs_rads) - np.sin(dec2 * degs_rads))\n",
    "    \n",
    "    return area"
   ]
  },
  {
   "cell_type": "code",
   "execution_count": 58,
   "id": "41020498-ad4f-45e3-87de-5acc7feeb093",
   "metadata": {
    "execution": {
     "iopub.execute_input": "2022-05-02T08:58:46.760184Z",
     "iopub.status.busy": "2022-05-02T08:58:46.759875Z",
     "iopub.status.idle": "2022-05-02T08:58:46.763489Z",
     "shell.execute_reply": "2022-05-02T08:58:46.763037Z",
     "shell.execute_reply.started": "2022-05-02T08:58:46.760153Z"
    },
    "tags": []
   },
   "outputs": [
    {
     "name": "stdout",
     "output_type": "stream",
     "text": [
      "41252.96124\n"
     ]
    }
   ],
   "source": []
  },
  {
   "cell_type": "code",
   "execution_count": null,
   "id": "442873b4-71ca-4a48-9836-a4c89c522d8f",
   "metadata": {},
   "outputs": [],
   "source": []
  }
 ],
 "metadata": {
  "kernelspec": {
   "display_name": "mamba-python3",
   "language": "python",
   "name": "mamba-python3"
  },
  "language_info": {
   "codemirror_mode": {
    "name": "ipython",
    "version": 3
   },
   "file_extension": ".py",
   "mimetype": "text/x-python",
   "name": "python",
   "nbconvert_exporter": "python",
   "pygments_lexer": "ipython3",
   "version": "3.7.10"
  }
 },
 "nbformat": 4,
 "nbformat_minor": 5
}
