{
 "cells": [
  {
   "cell_type": "code",
   "execution_count": 1,
   "id": "6d2d0a56-9ab9-4c66-bb49-62ca239bb145",
   "metadata": {
    "execution": {
     "iopub.execute_input": "2022-03-19T12:40:03.440551Z",
     "iopub.status.busy": "2022-03-19T12:40:03.440177Z",
     "iopub.status.idle": "2022-03-19T12:40:04.721558Z",
     "shell.execute_reply": "2022-03-19T12:40:04.720910Z",
     "shell.execute_reply.started": "2022-03-19T12:40:03.440482Z"
    },
    "tags": []
   },
   "outputs": [],
   "source": [
    "import numpy as np \n",
    "from astropy.io import fits\n",
    "import matplotlib.pyplot as plt\n",
    "import pandas as pd\n",
    "%matplotlib ipympl"
   ]
  },
  {
   "cell_type": "code",
   "execution_count": 3,
   "id": "c2556632-54da-4f43-be6f-b073b922d58d",
   "metadata": {
    "execution": {
     "iopub.execute_input": "2022-02-23T10:56:19.145696Z",
     "iopub.status.busy": "2022-02-23T10:56:19.145384Z",
     "iopub.status.idle": "2022-02-23T10:56:34.281698Z",
     "shell.execute_reply": "2022-02-23T10:56:34.281127Z",
     "shell.execute_reply.started": "2022-02-23T10:56:19.145670Z"
    },
    "tags": []
   },
   "outputs": [],
   "source": [
    "'''\n",
    "column 1: group ID\n",
    "column 2: richness\n",
    "column 3: ra\n",
    "column 4: dec\n",
    "column 5: redshift\n",
    "column 6: log M_h/(M_sun/h)\n",
    "column 7: L_group (10^10Lsun/h/h)\n",
    "'''\n",
    "group = np.loadtxt('../odata/CLAUDS_HSC_iband_group')"
   ]
  },
  {
   "cell_type": "code",
   "execution_count": 7,
   "id": "d17a7c6e-c645-4a44-87ac-11f09996277a",
   "metadata": {
    "execution": {
     "iopub.execute_input": "2022-01-08T12:51:00.807860Z",
     "iopub.status.busy": "2022-01-08T12:51:00.807575Z",
     "iopub.status.idle": "2022-01-08T12:51:00.833152Z",
     "shell.execute_reply": "2022-01-08T12:51:00.832742Z",
     "shell.execute_reply.started": "2022-01-08T12:51:00.807837Z"
    },
    "tags": []
   },
   "outputs": [
    {
     "data": {
      "text/plain": [
       "(13576,)"
      ]
     },
     "execution_count": 7,
     "metadata": {},
     "output_type": "execute_result"
    }
   ],
   "source": [
    "np.where((group[:,4] >= 1) & (group[:,1] >= 10))[0].shape"
   ]
  },
  {
   "cell_type": "code",
   "execution_count": 16,
   "id": "e6e99d84-7186-4474-9450-fe3fc3a539d6",
   "metadata": {
    "execution": {
     "iopub.execute_input": "2021-12-02T06:25:41.204817Z",
     "iopub.status.busy": "2021-12-02T06:25:41.204511Z",
     "iopub.status.idle": "2021-12-02T06:25:41.294060Z",
     "shell.execute_reply": "2021-12-02T06:25:41.293594Z",
     "shell.execute_reply.started": "2021-12-02T06:25:41.204782Z"
    },
    "tags": []
   },
   "outputs": [
    {
     "name": "stdout",
     "output_type": "stream",
     "text": [
      "(59997,)\n",
      "(89,)\n",
      "(4,)\n",
      "(0,)\n"
     ]
    }
   ],
   "source": [
    "print(np.where((group[:,1] >= 1) & (group[:,4] >= 4))[0].shape)\n",
    "print(np.where((group[:,1] >= 3) & (group[:,4] >= 4))[0].shape)\n",
    "print(np.where((group[:,1] >= 5) & (group[:,4] >= 4))[0].shape)\n",
    "print(np.where((group[:,1] >= 10) & (group[:,4] >= 4))[0].shape)\n",
    "# group[:,0].shape"
   ]
  },
  {
   "cell_type": "code",
   "execution_count": 33,
   "id": "8392abd9-00d2-4a2d-8e9d-5545f88f996d",
   "metadata": {
    "execution": {
     "iopub.execute_input": "2022-02-23T11:44:42.983530Z",
     "iopub.status.busy": "2022-02-23T11:44:42.983230Z",
     "iopub.status.idle": "2022-02-23T11:44:43.733205Z",
     "shell.execute_reply": "2022-02-23T11:44:43.732772Z",
     "shell.execute_reply.started": "2022-02-23T11:44:42.983502Z"
    },
    "tags": []
   },
   "outputs": [
    {
     "data": {
      "application/vnd.jupyter.widget-view+json": {
       "model_id": "aba45160757e4581a35ba184c9ed1240",
       "version_major": 2,
       "version_minor": 0
      },
      "text/plain": [
       "Canvas(toolbar=Toolbar(toolitems=[('Home', 'Reset original view', 'home', 'home'), ('Back', 'Back to previous …"
      ]
     },
     "metadata": {},
     "output_type": "display_data"
    }
   ],
   "source": [
    "#the richness distribution of groups\n",
    "richness = group[:,1]\n",
    "redz = group[:,4]\n",
    "\n",
    "plt.figure(figsize = (5.3,4.0))\n",
    "import matplotlib as mpl\n",
    "mpl.rcParams['axes.linewidth'] = 1.2 #set the value globally\n",
    "binn = 20\n",
    "Nbin = np.linspace(0,20,21)\n",
    "\n",
    "redzr = np.array([[2.0,2.4],[2.4,2.8],[2.8,3.2],[3.2,3.6],[3.6,4.0],[4.0,4.4],[4.4,4.8],[4.8,5.2],[5.2,5.6],[5.6,6.0]])\n",
    "# col = ['b','orange','green','r','purple','brown','pink']\n",
    "\n",
    "col = plt.cm.plasma(np.linspace(0,1,redzr.shape[0]))\n",
    "for i in range(redzr.shape[0]):\n",
    "    locz = np.where((redz >= redzr[i,0]) & (redz < redzr[i,1]))[0]\n",
    "    nrich = richness[locz]\n",
    "    galn = np.zeros(20)\n",
    "    \n",
    "    for j in range(20):   \n",
    "        locn = np.where(nrich == Nbin[j+1])[0]\n",
    "        galn[j] = locn.shape[0]\n",
    "       \n",
    "    xx = Nbin[1:]\n",
    "    idx = np.where(galn != 0)[0]\n",
    "    plt.plot(xx[idx], galn[idx], marker = '.', lw = 1.5, color = col[i], ms = 8,\n",
    "             label = r'%s$\\leq$z<%s' %(redzr[i,0],redzr[i,1]))\n",
    "\n",
    "# plt.text(5,4e4,'B1 = 10, B2 = 2.5:', size = 12, weight = 'bold')\n",
    "# from matplotlib.lines import Line2D\n",
    "# lin1 = Line2D([],[],c = 'b',marker='o',lw = 1.5)\n",
    "# legend2 = plt.legend(handles=[lin1],frameon = False, loc = (0.55,0.88))\n",
    "# plt.gca().add_artist(legend2)\n",
    "\n",
    "plt.tick_params(top = 'on', right = 'on', which='both',direction = 'in',labelsize = 12)\n",
    "plt.yscale('log')\n",
    "plt.xlabel(r'$N_{\\rm g}$', fontsize = 14)\n",
    "plt.ylabel(r'$N_{\\rm grp}$', fontsize = 14)\n",
    "plt.grid(color = 'grey', ls = '--', alpha = 0.3)\n",
    "plt.xticks([1,2,3,4,5,6,7,8,9,10])\n",
    "plt.xlim(0.7,10)\n",
    "plt.legend(ncol = 2, fontsize = 'small')\n",
    "plt.tight_layout()\n",
    "plt.savefig('../figs/Ng.pdf')"
   ]
  },
  {
   "cell_type": "code",
   "execution_count": 2,
   "id": "7cd3ab53-6615-4a66-b023-7643e80e8e32",
   "metadata": {
    "execution": {
     "iopub.execute_input": "2022-03-19T12:40:14.437417Z",
     "iopub.status.busy": "2022-03-19T12:40:14.437107Z",
     "iopub.status.idle": "2022-03-19T12:40:50.083455Z",
     "shell.execute_reply": "2022-03-19T12:40:50.082805Z",
     "shell.execute_reply.started": "2022-03-19T12:40:14.437392Z"
    },
    "tags": []
   },
   "outputs": [],
   "source": [
    "digal = np.loadtxt('../odata/CLAUDS_HSC_iband_igal')"
   ]
  },
  {
   "cell_type": "code",
   "execution_count": 4,
   "id": "01dae55c-ea9f-4576-8c51-57c49f84fbb2",
   "metadata": {
    "execution": {
     "iopub.execute_input": "2022-03-19T12:44:25.441238Z",
     "iopub.status.busy": "2022-03-19T12:44:25.440972Z",
     "iopub.status.idle": "2022-03-19T12:44:25.444210Z",
     "shell.execute_reply": "2022-03-19T12:44:25.443673Z",
     "shell.execute_reply.started": "2022-03-19T12:44:25.441217Z"
    },
    "tags": []
   },
   "outputs": [],
   "source": [
    "gal_redz = digal[:, 3]"
   ]
  },
  {
   "cell_type": "code",
   "execution_count": 6,
   "id": "ef4ae968-1224-4c75-95e1-4c50b919e8f5",
   "metadata": {
    "execution": {
     "iopub.execute_input": "2022-03-19T12:44:40.437751Z",
     "iopub.status.busy": "2022-03-19T12:44:40.437465Z",
     "iopub.status.idle": "2022-03-19T12:44:40.777079Z",
     "shell.execute_reply": "2022-03-19T12:44:40.776637Z",
     "shell.execute_reply.started": "2022-03-19T12:44:40.437728Z"
    },
    "tags": []
   },
   "outputs": [
    {
     "data": {
      "application/vnd.jupyter.widget-view+json": {
       "model_id": "bd17357c5a1d4cd786438f47a861d12b",
       "version_major": 2,
       "version_minor": 0
      },
      "text/plain": [
       "Canvas(toolbar=Toolbar(toolitems=[('Home', 'Reset original view', 'home', 'home'), ('Back', 'Back to previous …"
      ]
     },
     "metadata": {},
     "output_type": "display_data"
    }
   ],
   "source": [
    "import matplotlib as mpl\n",
    "mpl.rcParams['axes.linewidth'] = 1.2 #set the value globally\n",
    "plt.figure(figsize = (5.3,4.0))\n",
    "\n",
    "plt.hist(gal_redz, bins = 70, range = (0,6),weights = np.tile(1/10000,gal_redz.shape[0]))\n",
    "# plt.hist(specz, bins = 70, range = (0,6), alpha = 0.5)\n",
    "\n",
    "plt.tick_params(top = 'on', right = 'on', which='both',direction = 'in',labelsize = 12)\n",
    "plt.xlim(0,6)\n",
    "\n",
    "plt.xlabel(r'$z_{\\rm photo}$', fontsize = 14)\n",
    "plt.ylabel(r'$N[10^4]$', fontsize = 14)\n",
    "# plt.yscale('log')\n",
    "\n",
    "plt.tight_layout()\n",
    "# plt.savefig('../figs/Nz.pdf')"
   ]
  },
  {
   "cell_type": "code",
   "execution_count": 77,
   "id": "048a8e2b-1421-4f0a-a04c-825cd50b3993",
   "metadata": {
    "execution": {
     "iopub.execute_input": "2022-03-23T04:04:40.596295Z",
     "iopub.status.busy": "2022-03-23T04:04:40.596105Z",
     "iopub.status.idle": "2022-03-23T04:04:41.481591Z",
     "shell.execute_reply": "2022-03-23T04:04:41.481058Z",
     "shell.execute_reply.started": "2022-03-23T04:04:40.596273Z"
    },
    "tags": []
   },
   "outputs": [
    {
     "data": {
      "application/vnd.jupyter.widget-view+json": {
       "model_id": "360ddd199ad9497cbd8e02b0e4c07097",
       "version_major": 2,
       "version_minor": 0
      },
      "text/plain": [
       "Canvas(toolbar=Toolbar(toolitems=[('Home', 'Reset original view', 'home', 'home'), ('Back', 'Back to previous …"
      ]
     },
     "metadata": {},
     "output_type": "display_data"
    }
   ],
   "source": [
    "import matplotlib as mpl\n",
    "from mpl_toolkits.axes_grid.inset_locator import inset_axes, InsetPosition, mark_inset\n",
    "# mpl.rcParams['axes.linewidth'] = 1.2 #set the value globally\n",
    "fig, ax = plt.subplots(figsize = (5.3,4.0))\n",
    "bwith = 1.2\n",
    "ax.spines['bottom'].set_linewidth(bwith)\n",
    "ax.spines['left'].set_linewidth(bwith)\n",
    "ax.spines['top'].set_linewidth(bwith)\n",
    "ax.spines['right'].set_linewidth(bwith)\n",
    "\n",
    "ax.hist(gal_redz, bins = 70, range = (0,6),weights = np.tile(1/10000,gal_redz.shape[0]))\n",
    "# plt.hist(specz, bins = 70, range = (0,6), alpha = 0.5)\n",
    "\n",
    "plt.tick_params(top = 'on', right = 'on', which='both',direction = 'in',labelsize = 12)\n",
    "plt.xlim(0,6)\n",
    "\n",
    "plt.xlabel(r'$z_{\\rm photo}$', fontsize = 14)\n",
    "plt.ylabel(r'$N[\\times 10^4]$', fontsize = 14)\n",
    "# plt.yscale('log')\n",
    "\n",
    "xx = np.linspace(2.65,4,100)\n",
    "k = -(14.2/(4-2.65))\n",
    "b = -(4*k)\n",
    "yy = k*xx + b \n",
    "ax.plot(xx,yy, c = 'grey', lw = 0.8)\n",
    "\n",
    "xx = np.linspace(5.65,6,100)\n",
    "k = -(14.2/(6-5.65))\n",
    "b = -(6*k)\n",
    "yy = k*xx + b \n",
    "ax.plot(xx,yy, c = 'grey', lw = 0.8)\n",
    "\n",
    "plt.tight_layout()\n",
    "\n",
    "ip = InsetPosition(ax, [0.44,0.35,0.50,0.47]) #(xx,yy,dx,dy)\n",
    "mpl.rcParams['axes.linewidth'] = 1.0 #set the value globally\n",
    "ax2 = plt.axes([1e-1,1e0,1e1,1e3])\n",
    "ax2.set_axes_locator(ip)\n",
    "ax2.hist(gal_redz, bins = 70, range = (0,6))\n",
    "ax2.set_xlim(4,6)\n",
    "ax2.set_ylim(1,2e4)\n",
    "ax2.set_yscale('log')\n",
    "plt.tick_params(top = 'on', right = 'on', which='both',direction = 'in',labelsize = 8)\n",
    "ax2.set_ylabel('$N$', fontsize = 10)\n",
    "bwith = 1.0\n",
    "ax2.spines['bottom'].set_linewidth(bwith)\n",
    "ax2.spines['left'].set_linewidth(bwith)\n",
    "ax2.spines['top'].set_linewidth(bwith)\n",
    "ax2.spines['right'].set_linewidth(bwith)\n",
    "\n",
    "plt.savefig('../figs/Nz.pdf')"
   ]
  },
  {
   "cell_type": "code",
   "execution_count": null,
   "id": "901b74ff-868c-4be4-b9b7-620a8517a6f9",
   "metadata": {},
   "outputs": [],
   "source": []
  },
  {
   "cell_type": "code",
   "execution_count": null,
   "id": "709786f6-f9f8-4764-85e8-3d64c27bb0d3",
   "metadata": {},
   "outputs": [],
   "source": [
    "# digalall = np.loadtxt('../gal_properties')\n",
    "\n",
    "# idx_specz = np.where(digalall[:,5] == 0.0001)[0]\n",
    "# print(idx_specz.shape)\n",
    "\n",
    "# specz = digalall[idx_specz, 4]"
   ]
  }
 ],
 "metadata": {
  "kernelspec": {
   "display_name": "py37",
   "language": "python",
   "name": "python3.7"
  },
  "language_info": {
   "codemirror_mode": {
    "name": "ipython",
    "version": 3
   },
   "file_extension": ".py",
   "mimetype": "text/x-python",
   "name": "python",
   "nbconvert_exporter": "python",
   "pygments_lexer": "ipython3",
   "version": "3.7.10"
  }
 },
 "nbformat": 4,
 "nbformat_minor": 5
}
