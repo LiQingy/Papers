{
 "cells": [
  {
   "cell_type": "code",
   "execution_count": 1,
   "metadata": {
    "execution": {
     "iopub.execute_input": "2022-03-29T11:54:55.280159Z",
     "iopub.status.busy": "2022-03-29T11:54:55.279726Z",
     "iopub.status.idle": "2022-03-29T11:54:55.857878Z",
     "shell.execute_reply": "2022-03-29T11:54:55.857311Z",
     "shell.execute_reply.started": "2022-03-29T11:54:55.280027Z"
    },
    "tags": []
   },
   "outputs": [],
   "source": [
    "# %pylab notebook\n",
    "import numpy as np \n",
    "import h5py\n",
    "import matplotlib.pyplot as plt\n",
    "%matplotlib ipympl"
   ]
  },
  {
   "cell_type": "code",
   "execution_count": 2,
   "metadata": {
    "execution": {
     "iopub.execute_input": "2022-03-29T11:55:07.241590Z",
     "iopub.status.busy": "2022-03-29T11:55:07.241291Z",
     "iopub.status.idle": "2022-03-29T11:56:22.655860Z",
     "shell.execute_reply": "2022-03-29T11:56:22.655312Z",
     "shell.execute_reply.started": "2022-03-29T11:55:07.241566Z"
    },
    "tags": []
   },
   "outputs": [],
   "source": [
    "'''\n",
    "column 1: group ID\n",
    "column 2: richness\n",
    "column 3: ra\n",
    "column 4: dec\n",
    "column 5: redshift\n",
    "column 6: log M_h/(M_sun/h)\n",
    "column 7: L_group (10^10Lsun/h/h)\n",
    "'''\n",
    "\n",
    "dgroup = np.loadtxt('../odata/CLAUDS_HSC_iband_group')\n",
    "d2 = np.loadtxt('../odata/iCLAUDS_HSC_iband_2')\n",
    "digal = np.loadtxt('../odata/CLAUDS_HSC_iband_igal')"
   ]
  },
  {
   "cell_type": "code",
   "execution_count": 3,
   "metadata": {
    "execution": {
     "iopub.execute_input": "2022-03-29T11:57:10.275109Z",
     "iopub.status.busy": "2022-03-29T11:57:10.274828Z",
     "iopub.status.idle": "2022-03-29T11:57:10.286988Z",
     "shell.execute_reply": "2022-03-29T11:57:10.286415Z",
     "shell.execute_reply.started": "2022-03-29T11:57:10.275087Z"
    },
    "tags": []
   },
   "outputs": [],
   "source": [
    "def sigma2dis(m_m0,c_c0,chi2k,prisig):\n",
    "    mave = np.mean(m_m0)\n",
    "    cave = np.mean(c_c0)\n",
    "    msigma = np.std(m_m0,ddof = 1)\n",
    "    csigma = np.std(c_c0,ddof = 1)\n",
    "    pcov = np.cov(m_m0,c_c0)[0][1] / msigma / csigma\n",
    "    if prisig == True:\n",
    "        print(np.cov(m_m0,c_c0),msigma,csigma)\n",
    "        print('The correlation coefficience is %s' %pcov)\n",
    "    # pos = np.zeros(shape = (m_m0.shape[0],2))\n",
    "    # pos[:,0] = datafit[loc,0] / dataCM[:,2] * 1e15\n",
    "    # pos[:,1] = datafit[loc,1] / dataCM[:,6]\n",
    "    # cov=np.cov(np.log10(pos).T)\n",
    "    # l1=plot_cov_ellipse(cov, np.log10(pos).mean(axis=0), color='green', fill=0)\n",
    "    # print(np.log10(pos).mean(axis=0),mave,cave)\n",
    "\n",
    "    def gaussian2(xx,yy):\n",
    "        A = 1 / 2 / np.pi / msigma / csigma / np.sqrt(1 - pcov**2)\n",
    "        B = (xx - mave)**2 / msigma**2 + (yy - cave)**2 / csigma**2 - 2*pcov*(xx - mave)*(yy - cave) / msigma / csigma\n",
    "        return A * np.exp(-1 / 2 / (1 - pcov**2) * B)\n",
    "\n",
    "    xx = np.linspace(mave-0.01,mave+0.01,400)\n",
    "    yy = np.linspace(cave-0.01,cave+0.01,400)\n",
    "    X,Y = np.meshgrid(xx,yy)\n",
    "    Z = gaussian2(X,Y)\n",
    "\n",
    "    k1 = np.exp(-chi2k / 2) / 2 / np.pi / msigma / csigma / np.sqrt(1 - pcov**2)\n",
    "    sigmalevel = [k1]\n",
    "    return X,Y,Z,sigmalevel\n",
    "\n",
    "def plot_elp(m_m0,c_c0,chi2k):\n",
    "    mave = np.mean(m_m0)\n",
    "    cave = np.mean(c_c0)\n",
    "    cov = np.cov(m_m0,c_c0)\n",
    "    \n",
    "    sig2m = cov[0,0]\n",
    "    sig2c = cov[1,1]\n",
    "    sigmc = cov[0,1]\n",
    "    n1 = 1/2*(sig2m+sig2c+((sig2m-sig2c)**2+4*sigmc**2)**0.5) #to large eig\n",
    "    n2 = 1/2*(sig2m+sig2c-((sig2m-sig2c)**2+4*sigmc**2)**0.5) #to samll eig\n",
    "    vals, vecs = np.linalg.eig(cov)\n",
    "    invT = np.linalg.inv(vecs)\n",
    "\n",
    "    a = invT[0,0]\n",
    "    b = invT[0,1]\n",
    "    c = invT[1,0]\n",
    "    d = invT[1,1]\n",
    "    \n",
    "    def elp(xx,yy):\n",
    "        w1 = a*(xx-mave)+b*(yy-cave)\n",
    "        w2 = c*(xx-mave)+d*(yy-cave)\n",
    "        return w1**2/vals[0] + w2**2/vals[1]\n",
    "    \n",
    "    xx = np.linspace(mave-0.01,mave+0.01,400)\n",
    "    yy = np.linspace(cave-0.01,cave+0.01,400)\n",
    "    X,Y = np.meshgrid(xx,yy)\n",
    "    Z = elp(X,Y)\n",
    "    \n",
    "    len1 = 2*(chi2k*n1)**0.5\n",
    "    len2 = 2*(chi2k*n2)**0.5\n",
    "    if len1 > len2:\n",
    "        print('ratio between large and small axis',len2/len1)\n",
    "    else:\n",
    "        print('ratio between large and small axis',len1/len2)\n",
    "    return X,Y,Z"
   ]
  },
  {
   "cell_type": "code",
   "execution_count": 171,
   "metadata": {
    "execution": {
     "iopub.execute_input": "2022-03-21T12:49:24.442773Z",
     "iopub.status.busy": "2022-03-21T12:49:24.442513Z",
     "iopub.status.idle": "2022-03-21T12:49:24.456155Z",
     "shell.execute_reply": "2022-03-21T12:49:24.455727Z",
     "shell.execute_reply.started": "2022-03-21T12:49:24.442752Z"
    },
    "tags": []
   },
   "outputs": [],
   "source": []
  },
  {
   "cell_type": "code",
   "execution_count": 4,
   "metadata": {
    "execution": {
     "iopub.execute_input": "2022-03-29T11:57:12.580962Z",
     "iopub.status.busy": "2022-03-29T11:57:12.580697Z",
     "iopub.status.idle": "2022-03-29T11:57:12.589072Z",
     "shell.execute_reply": "2022-03-29T11:57:12.588603Z",
     "shell.execute_reply.started": "2022-03-29T11:57:12.580941Z"
    },
    "tags": []
   },
   "outputs": [],
   "source": [
    "def cal_axis_ratio(m_m0,c_c0,chi2k):\n",
    "    import numpy as np\n",
    "    cov = np.cov(m_m0,c_c0)\n",
    "    \n",
    "    sig2m = cov[0,0]\n",
    "    sig2c = cov[1,1]\n",
    "    sigmc = cov[0,1]\n",
    "    n1 = 1/2*(sig2m+sig2c+((sig2m-sig2c)**2+4*sigmc**2)**0.5) #to large eig\n",
    "    n2 = 1/2*(sig2m+sig2c-((sig2m-sig2c)**2+4*sigmc**2)**0.5) #to samll eig\n",
    "    \n",
    "    len1 = 2*(chi2k*n1)**0.5\n",
    "    len2 = 2*(chi2k*n2)**0.5\n",
    "    if len1 > len2:\n",
    "        return len2/len1\n",
    "    else:\n",
    "        return len1/len2\n",
    "\n",
    "def sample_group(id_group, redrange):\n",
    "    groupid = np.int64(dgroup[id_group,0])\n",
    "    Ngroup = id_group.shape[0]\n",
    "    print(Ngroup)\n",
    "    ax_ratio = np.zeros(Ngroup)\n",
    "    Nmem = np.zeros(Ngroup)\n",
    "    for i in range(Ngroup):\n",
    "        cluid = groupid[i]\n",
    "        clura = dgroup[cluid-1,2]\n",
    "        cludec = dgroup[cluid-1,3]\n",
    "        memid = np.int64(d2[d2[:,0]==cluid,1])\n",
    "        Nmem[i] = memid.shape[0] \n",
    "        if redrange == 'low' and memid.shape[0] <= 5:\n",
    "            memabmag = digal[memid,5]\n",
    "            sortid = np.argsort(memabmag)[:5]\n",
    "            memid = memid[sortid]\n",
    "\n",
    "        memra = digal[memid-1,1]\n",
    "        memdec = digal[memid-1,2]\n",
    "\n",
    "        memdec0 = memdec - cludec\n",
    "        memra0 = (memra - clura) * np.cos(memdec * np.pi/180)\n",
    "\n",
    "#             plt.figure(figsize = (9,5))\n",
    "#             plt.subplot(121)\n",
    "#             plt.plot(memra, memdec, 'o')\n",
    "\n",
    "#             plt.subplot(122)\n",
    "#             plt.plot(memra0, memdec0, 'o')\n",
    "\n",
    "        ax_ratio[i] = cal_axis_ratio(memra0,memdec0,chi2k = 2.3)\n",
    "            \n",
    "    return ax_ratio,Ngroup,Nmem"
   ]
  },
  {
   "cell_type": "markdown",
   "metadata": {},
   "source": [
    "## Halo mass distribution"
   ]
  },
  {
   "cell_type": "code",
   "execution_count": 5,
   "metadata": {
    "execution": {
     "iopub.execute_input": "2022-03-29T11:57:27.173313Z",
     "iopub.status.busy": "2022-03-29T11:57:27.173038Z",
     "iopub.status.idle": "2022-03-29T11:58:52.123016Z",
     "shell.execute_reply": "2022-03-29T11:58:52.122404Z",
     "shell.execute_reply.started": "2022-03-29T11:57:27.173291Z"
    },
    "tags": []
   },
   "outputs": [
    {
     "name": "stdout",
     "output_type": "stream",
     "text": [
      "95\n",
      "mass range is  12.492024 12.919291999999999\n",
      "4250\n"
     ]
    },
    {
     "name": "stderr",
     "output_type": "stream",
     "text": [
      "/opt/anaconda-mamba/envs/mamba-python3/lib/python3.7/site-packages/ipykernel_launcher.py:12: RuntimeWarning: invalid value encountered in double_scalars\n",
      "  if sys.path[0] == '':\n",
      "/opt/anaconda-mamba/envs/mamba-python3/lib/python3.7/site-packages/ipykernel_launcher.py:3: RuntimeWarning: Degrees of freedom <= 0 for slice\n",
      "  This is separate from the ipykernel package so we can avoid doing imports until\n",
      "/opt/anaconda-mamba/envs/mamba-python3/lib/python3.7/site-packages/numpy/lib/function_base.py:2542: RuntimeWarning: divide by zero encountered in true_divide\n",
      "  c *= np.true_divide(1, fact)\n",
      "/opt/anaconda-mamba/envs/mamba-python3/lib/python3.7/site-packages/numpy/lib/function_base.py:2542: RuntimeWarning: invalid value encountered in multiply\n",
      "  c *= np.true_divide(1, fact)\n"
     ]
    }
   ],
   "source": [
    "redz = [3.2,3.6]\n",
    "nmemdown = 5\n",
    "nmemup = 5\n",
    "id_group0 = np.where((dgroup[:,4] > redz[0]) & (dgroup[:,4] < redz[1])\n",
    "                    & (dgroup[:,1] >= nmemdown) & (dgroup[:,1] <= nmemup))[0]\n",
    "ax_ratio0,Ngrp0,Nmem0 = sample_group(id_group0,'high')\n",
    "\n",
    "redz = [0,0.4]\n",
    "Mherr = np.percentile(dgroup[id_group0,-2], [16,84])\n",
    "Mhdown = Mherr[0]\n",
    "Mhup = Mherr[1]\n",
    "print(\"mass range is \", Mhdown, Mhup)\n",
    "id_group = np.where((dgroup[:,4] > redz[0]) & (dgroup[:,4] < redz[1])\n",
    "                   & (dgroup[:,-2] > Mhdown) & (dgroup[:,-2] < Mhup))[0]\n",
    "ax_ratio,Ngrp,Nmem = sample_group(id_group,'low')"
   ]
  },
  {
   "cell_type": "code",
   "execution_count": 6,
   "metadata": {
    "execution": {
     "iopub.execute_input": "2022-03-29T11:58:59.668495Z",
     "iopub.status.busy": "2022-03-29T11:58:59.668163Z",
     "iopub.status.idle": "2022-03-29T12:03:32.326678Z",
     "shell.execute_reply": "2022-03-29T12:03:32.325984Z",
     "shell.execute_reply.started": "2022-03-29T11:58:59.668461Z"
    },
    "tags": []
   },
   "outputs": [
    {
     "name": "stdout",
     "output_type": "stream",
     "text": [
      "mass range is  12.492024 12.919291999999999\n",
      "14282\n"
     ]
    },
    {
     "name": "stderr",
     "output_type": "stream",
     "text": [
      "/opt/anaconda-mamba/envs/mamba-python3/lib/python3.7/site-packages/ipykernel_launcher.py:12: RuntimeWarning: invalid value encountered in double_scalars\n",
      "  if sys.path[0] == '':\n",
      "/opt/anaconda-mamba/envs/mamba-python3/lib/python3.7/site-packages/ipykernel_launcher.py:16: RuntimeWarning: invalid value encountered in double_scalars\n",
      "  app.launch_new_instance()\n",
      "/opt/anaconda-mamba/envs/mamba-python3/lib/python3.7/site-packages/ipykernel_launcher.py:3: RuntimeWarning: Degrees of freedom <= 0 for slice\n",
      "  This is separate from the ipykernel package so we can avoid doing imports until\n"
     ]
    }
   ],
   "source": [
    "redz = [2.0,2.4]\n",
    "Mherr = np.percentile(dgroup[id_group0,-2], [16,84])\n",
    "Mhdown = Mherr[0]\n",
    "Mhup = Mherr[1]\n",
    "print(\"mass range is \", Mhdown, Mhup)\n",
    "id_group = np.where((dgroup[:,4] > redz[0]) & (dgroup[:,4] < redz[1])\n",
    "                   & (dgroup[:,-2] > Mhdown) & (dgroup[:,-2] < Mhup))[0]\n",
    "ax_ratio2,Ngrp2,Nmem2 = sample_group(id_group,'low')"
   ]
  },
  {
   "cell_type": "code",
   "execution_count": 8,
   "metadata": {
    "execution": {
     "iopub.execute_input": "2022-03-29T12:04:28.042261Z",
     "iopub.status.busy": "2022-03-29T12:04:28.041975Z",
     "iopub.status.idle": "2022-03-29T12:04:28.142149Z",
     "shell.execute_reply": "2022-03-29T12:04:28.141679Z",
     "shell.execute_reply.started": "2022-03-29T12:04:28.042239Z"
    },
    "tags": []
   },
   "outputs": [
    {
     "data": {
      "application/vnd.jupyter.widget-view+json": {
       "model_id": "f10a9683b15c4db2a8b003ab53b9d8a9",
       "version_major": 2,
       "version_minor": 0
      },
      "text/plain": [
       "Canvas(toolbar=Toolbar(toolitems=[('Home', 'Reset original view', 'home', 'home'), ('Back', 'Back to previous …"
      ]
     },
     "metadata": {},
     "output_type": "display_data"
    },
    {
     "name": "stdout",
     "output_type": "stream",
     "text": [
      "(95,) (3983,)\n"
     ]
    }
   ],
   "source": [
    "plt.figure(figsize = (5.3,4.0))\n",
    "import matplotlib as mpl\n",
    "mpl.rcParams['axes.linewidth'] = 1.2 #set the value globally\n",
    "\n",
    "\n",
    "plt.hist(ax_ratio0[Nmem0 > 4], bins = 15, alpha = 0.8, range = (0,1), \n",
    "         label = '%s < $z$ < %s' %(3.2,3.6), density = True)\n",
    "\n",
    "plt.hist(ax_ratio[Nmem > 4], bins = 15, alpha = 1, range = (0,1), histtype = 'step', ls = '--', color = 'r', lw = 2,\n",
    "         label = '%s < $z$ < %s' %(0,0.4), density = True)\n",
    "\n",
    "plt.hist(ax_ratio2[Nmem2 > 4], bins = 15, alpha = 1, range = (0,1), histtype = 'step', ls = '--', color = 'k', lw = 2,\n",
    "         label = '%s < $z$ < %s' %(2.0,2.4), density = True)\n",
    "\n",
    "print(np.where(Nmem0 > 4)[0].shape, np.where(Nmem > 4)[0].shape)\n",
    "\n",
    "plt.legend(loc = (0.02,0.7))\n",
    "plt.xlim(0,1)\n",
    "plt.xlabel(r'$\\gamma_{\\rm ab}$', fontsize = 14)\n",
    "plt.tick_params(top = 'on', right = 'on', which='both', direction = 'in', labelsize = 12)\n",
    "plt.ylabel(r'$\\rm PDF$', fontsize = 14)\n",
    "plt.ylim(0,3)\n",
    "\n",
    "plt.annotate(\"\",\n",
    "        xy=(0.05, 2.8), xycoords='data',\n",
    "        xytext=(0.15, 2.8), textcoords='data',\n",
    "        arrowprops=dict(facecolor='black', shrink=0.03,width = 0.5, headwidth = 5, headlength = 8),\n",
    "        fontsize = 12\n",
    "        )\n",
    "\n",
    "plt.text(0.16,2.75,'filamentary', fontsize = 12)\n",
    "\n",
    "plt.annotate(\"\",\n",
    "        xy=(0.94, 2.8), xycoords='data',\n",
    "        xytext=(0.84, 2.8), textcoords='data',\n",
    "        arrowprops=dict(facecolor='black', shrink=0.03,width = 0.5, headwidth = 5, headlength = 8),\n",
    "        fontsize = 12\n",
    "        )\n",
    "\n",
    "plt.text(0.65,2.75,'spherical', fontsize = 12)\n",
    "\n",
    "plt.tight_layout()\n",
    "# plt.savefig('../figs/gamma.pdf') "
   ]
  },
  {
   "cell_type": "code",
   "execution_count": null,
   "metadata": {},
   "outputs": [],
   "source": []
  },
  {
   "cell_type": "code",
   "execution_count": null,
   "metadata": {},
   "outputs": [],
   "source": []
  },
  {
   "cell_type": "code",
   "execution_count": null,
   "metadata": {},
   "outputs": [],
   "source": []
  },
  {
   "cell_type": "code",
   "execution_count": null,
   "metadata": {},
   "outputs": [],
   "source": []
  },
  {
   "cell_type": "code",
   "execution_count": 184,
   "metadata": {
    "execution": {
     "iopub.execute_input": "2022-03-24T14:52:49.658731Z",
     "iopub.status.busy": "2022-03-24T14:52:49.658453Z",
     "iopub.status.idle": "2022-03-24T14:52:49.663149Z",
     "shell.execute_reply": "2022-03-24T14:52:49.662741Z",
     "shell.execute_reply.started": "2022-03-24T14:52:49.658709Z"
    },
    "tags": []
   },
   "outputs": [
    {
     "data": {
      "text/plain": [
       "array([0.81644645, 0.97381631, 0.76786958, ...,        nan,        nan,\n",
       "              nan])"
      ]
     },
     "execution_count": 184,
     "metadata": {},
     "output_type": "execute_result"
    }
   ],
   "source": [
    "# ax_ratio"
   ]
  },
  {
   "cell_type": "code",
   "execution_count": 191,
   "metadata": {
    "execution": {
     "iopub.execute_input": "2022-03-24T15:04:26.590545Z",
     "iopub.status.busy": "2022-03-24T15:04:26.590273Z",
     "iopub.status.idle": "2022-03-24T15:04:26.627535Z",
     "shell.execute_reply": "2022-03-24T15:04:26.627128Z",
     "shell.execute_reply.started": "2022-03-24T15:04:26.590524Z"
    },
    "tags": []
   },
   "outputs": [
    {
     "name": "stdout",
     "output_type": "stream",
     "text": [
      "(267,)\n"
     ]
    },
    {
     "data": {
      "application/vnd.jupyter.widget-view+json": {
       "model_id": "708b4ae42f0649fd8ef2478a3dc7e449",
       "version_major": 2,
       "version_minor": 0
      },
      "text/plain": [
       "Canvas(toolbar=Toolbar(toolitems=[('Home', 'Reset original view', 'home', 'home'), ('Back', 'Back to previous …"
      ]
     },
     "metadata": {},
     "output_type": "display_data"
    }
   ],
   "source": [
    "# print(np.where(Nmem < 5)[0].shape)\n",
    "# plt.figure()\n",
    "\n",
    "# plt.hist(Nmem)\n",
    "# plt.yscale('log')"
   ]
  },
  {
   "cell_type": "code",
   "execution_count": 205,
   "metadata": {
    "execution": {
     "iopub.execute_input": "2022-03-24T15:14:39.592935Z",
     "iopub.status.busy": "2022-03-24T15:14:39.592663Z",
     "iopub.status.idle": "2022-03-24T15:14:39.597715Z",
     "shell.execute_reply": "2022-03-24T15:14:39.597302Z",
     "shell.execute_reply.started": "2022-03-24T15:14:39.592914Z"
    },
    "tags": []
   },
   "outputs": [
    {
     "data": {
      "text/plain": [
       "array([5., 5., 5., 5., 5., 5., 5., 5., 5., 5., 5., 5., 5., 5., 5., 5., 5.,\n",
       "       5., 5., 5., 5., 5., 5., 5., 5., 5., 5., 5., 5., 5., 5., 5., 5., 5.,\n",
       "       5., 5., 5., 5., 5., 5., 5., 5., 5., 5., 5., 5., 5., 5., 5., 5., 5.,\n",
       "       5., 5., 5., 5., 5., 5., 5., 5., 5., 5., 5., 5., 5., 5., 5., 5., 5.,\n",
       "       5., 5., 5., 5., 5., 5., 5., 5., 5., 5., 5., 5., 5., 5., 5., 5., 5.,\n",
       "       5., 5., 5., 5., 5., 5., 5., 5., 5., 5.])"
      ]
     },
     "execution_count": 205,
     "metadata": {},
     "output_type": "execute_result"
    }
   ],
   "source": [
    "# Nmem0"
   ]
  },
  {
   "cell_type": "code",
   "execution_count": null,
   "metadata": {},
   "outputs": [],
   "source": []
  },
  {
   "cell_type": "code",
   "execution_count": null,
   "metadata": {},
   "outputs": [],
   "source": []
  },
  {
   "cell_type": "code",
   "execution_count": null,
   "metadata": {},
   "outputs": [],
   "source": []
  },
  {
   "cell_type": "code",
   "execution_count": null,
   "metadata": {},
   "outputs": [],
   "source": []
  },
  {
   "cell_type": "code",
   "execution_count": null,
   "metadata": {},
   "outputs": [],
   "source": [
    "# def cal_xyz(idx_clu):\n",
    "#     plt.figure()\n",
    "#     cluid = np.int64(dgroup[idx_clu,0])\n",
    "#     clura = dgroup[idx_clu,2]\n",
    "#     cludec = dgroup[idx_clu,3]\n",
    "#     cluredz = dgroup[idx_clu,4]\n",
    "    \n",
    "#     memid = np.int64(d2[d2[:,0]==cluid,1])\n",
    "#     memra = digal[memid-1,1]\n",
    "#     memdec = digal[memid-1,2]\n",
    "#     memredz = digal[memid-1,3]\n",
    "#     plt.plot(clura,cludec, '*', label = 'z = %s'%cluredz )\n",
    "#     plt.plot(memra,memdec, '.', label = 'members')\n",
    "#     plt.xlabel('ra')\n",
    "#     plt.ylabel('dec')\n",
    "#     plt.legend()\n",
    "    \n",
    "    \n",
    "#     from astropy.cosmology import FlatLambdaCDM\n",
    "#     from astropy import units as u\n",
    "#     from astropy.coordinates import SkyCoord\n",
    "#     cosmo = FlatLambdaCDM(H0=67.4, Om0=0.315)\n",
    "    \n",
    "#     dr_clu = cosmo.comoving_distance(cluredz).value * 0.674 #Mpc/h\n",
    "#     dr_gal = cosmo.comoving_distance(memredz).value * 0.674 #Mpc/h\n",
    "\n",
    "#     cgal = SkyCoord(ra=memra*u.degree, dec=memdec*u.degree, distance=dr_clu)\n",
    "#     cclu = SkyCoord(ra=clura*u.degree, dec=cludec*u.degree, distance=dr_clu)\n",
    "#     cgal_x = cgal.cartesian.x\n",
    "#     cgal_y = cgal.cartesian.y\n",
    "#     cgal_z = cgal.cartesian.z\n",
    "\n",
    "#     cclu_x = cclu.cartesian.x\n",
    "#     cclu_y = cclu.cartesian.y\n",
    "#     cclu_z = cclu.cartesian.z\n",
    "    \n",
    "#     cluc = np.array([cclu_x,cclu_y,cclu_z])\n",
    "#     zhat =  cluc / np.sqrt(np.sum(cluc**2))\n",
    "#     gal1 = np.array([cgal_x[0],cgal_y[0],cgal_z[0]])\n",
    "#     r1pi =  gal1 - np.sum(gal1*zhat) * zhat\n",
    "#     xhat = r1pi / np.sqrt(np.sum(r1pi**2))\n",
    "#     yhat = np.cross(xhat, zhat) \n",
    "#     coeff = np.vstack((xhat,yhat,zhat))\n",
    "#     print(coeff.shape)\n",
    "    \n",
    "#     Nmem = memid.shape[0]\n",
    "#     clu_cart = np.array([cclu_x, cclu_y, cclu_z])\n",
    "#     mem_cart = np.array([cgal_x, cgal_y, cgal_z]).T\n",
    "\n",
    "#     rxyz = np.zeros((Nmem,3))\n",
    "#     for i in range(Nmem):\n",
    "#         rxyz[i] = np.linalg.solve(coeff, mem_cart[i] - clu_cart)\n",
    "        \n",
    "#     from mpl_toolkits.mplot3d import Axes3D\n",
    "#     plt.figure()\n",
    "#     ax1 = plt.axes(projection = '3d')\n",
    "#     ax1.scatter3D(rxyz[:,0], rxyz[:,1], rxyz[:,2], color = 'b')\n",
    "# #     ax1.scatter3D(rxyz[:,0],rxyz[:,1], rxyz[:,2], color = 'b')\n",
    "#     ax1.set_xlabel('X')\n",
    "#     ax1.set_ylabel('Y')\n",
    "#     ax1.set_zlabel('Z')\n",
    "    \n",
    "#     plt.figure(figsize = (10,3))\n",
    "#     plt.subplot(131)\n",
    "# #     plt.plot(cclu_x,cclu_y,'*',label = 'center')\n",
    "# #     plt.plot(rxyz[:,0],rxyz[:,1],'.',label = 'members')\n",
    "#     plt.plot(cgal_x,cgal_y,'.',label = 'members')\n",
    "#     plt.xlabel('x')\n",
    "#     plt.ylabel('y')\n",
    "    \n",
    "#     plt.subplot(132)\n",
    "# #     plt.plot(cclu_x,cclu_z,'*',label = 'center')\n",
    "# #     plt.plot(rxyz[:,0],rxyz[:,2],'.',label = 'members')\n",
    "#     plt.plot(cgal_x,cgal_z,'.',label = 'members')\n",
    "#     plt.xlabel('x')\n",
    "#     plt.ylabel('z')\n",
    "    \n",
    "#     plt.subplot(133)\n",
    "# #     plt.plot(cclu_y,cclu_z,'*',label = 'center')\n",
    "# #     plt.plot(rxyz[:,1],rxyz[:,2],'.',label = 'members')\n",
    "#     plt.plot(cgal_y,cgal_z,'.',label = 'members')\n",
    "#     plt.xlabel('y')\n",
    "#     plt.ylabel('z')\n",
    "#     plt.tight_layout()\n",
    "    \n",
    "#     return rxyz[:,0],rxyz[:,1],rxyz[:,2]"
   ]
  },
  {
   "cell_type": "code",
   "execution_count": 49,
   "metadata": {
    "execution": {
     "iopub.execute_input": "2021-11-11T05:34:26.830032Z",
     "iopub.status.busy": "2021-11-11T05:34:26.829760Z",
     "iopub.status.idle": "2021-11-11T05:34:26.912720Z",
     "shell.execute_reply": "2021-11-11T05:34:26.912305Z",
     "shell.execute_reply.started": "2021-11-11T05:34:26.830004Z"
    }
   },
   "outputs": [
    {
     "data": {
      "application/vnd.jupyter.widget-view+json": {
       "model_id": "f665d0272b724670a19c17ae26fea4fd",
       "version_major": 2,
       "version_minor": 0
      },
      "text/plain": [
       "Canvas(toolbar=Toolbar(toolitems=[('Home', 'Reset original view', 'home', 'home'), ('Back', 'Back to previous …"
      ]
     },
     "metadata": {},
     "output_type": "display_data"
    },
    {
     "name": "stdout",
     "output_type": "stream",
     "text": [
      "8.0\n"
     ]
    }
   ],
   "source": [
    "# redz = [0.0,0.4]\n",
    "# nmemdown = 4\n",
    "# nmemup = 8\n",
    "# Mhdown = 12.15\n",
    "# Mhup = 12.46\n",
    "# id_group = np.where((dgroup[:,4] >= redz[0]) & (dgroup[:,4] < redz[1]) \n",
    "#                     & (dgroup[:,1] >= nmemdown) & (dgroup[:,1] <= nmemup))[0]\n",
    "\n",
    "# plt.figure()\n",
    "\n",
    "# plt.hist(dgroup[id_group,1])\n",
    "# print(np.max(dgroup[id_group,1]))"
   ]
  },
  {
   "cell_type": "code",
   "execution_count": null,
   "metadata": {},
   "outputs": [],
   "source": [
    "# plt.hist(ax_ratio, bins = 15, alpha = 0.3, range = (0,1), \n",
    "#          label = '%s < z < %s (%s)' %(redz[0],redz[1],Ngrp), weights = np.tile(1/Ngrp,Ngrp))"
   ]
  },
  {
   "cell_type": "code",
   "execution_count": null,
   "metadata": {},
   "outputs": [],
   "source": [
    "#     degs_rads = np.pi/180.0\n",
    "#     x1=memra*degs_rads\n",
    "#     x2=memdec*degs_rads\n",
    "#     galxx=dr_gal*np.cos(x2)*np.cos(x1)  # x cord\n",
    "#     galyy=dr_gal*np.cos(x2)*np.sin(x1)  # y cord\n",
    "    \n",
    "#     print(galxx)\n",
    "#     print(cgal_x)"
   ]
  }
 ],
 "metadata": {
  "kernelspec": {
   "display_name": "mamba-python3",
   "language": "python",
   "name": "mamba-python3"
  },
  "language_info": {
   "codemirror_mode": {
    "name": "ipython",
    "version": 3
   },
   "file_extension": ".py",
   "mimetype": "text/x-python",
   "name": "python",
   "nbconvert_exporter": "python",
   "pygments_lexer": "ipython3",
   "version": "3.7.10"
  }
 },
 "nbformat": 4,
 "nbformat_minor": 4
}
