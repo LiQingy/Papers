{
 "cells": [
  {
   "cell_type": "code",
   "execution_count": 1,
   "id": "fa0ba429-aa92-41d0-b9ed-69138154f443",
   "metadata": {
    "execution": {
     "iopub.execute_input": "2022-05-03T01:11:25.145820Z",
     "iopub.status.busy": "2022-05-03T01:11:25.145456Z",
     "iopub.status.idle": "2022-05-03T01:11:26.387502Z",
     "shell.execute_reply": "2022-05-03T01:11:26.386914Z",
     "shell.execute_reply.started": "2022-05-03T01:11:25.145747Z"
    },
    "tags": []
   },
   "outputs": [],
   "source": [
    "import numpy as np \n",
    "from astropy.io import fits\n",
    "import matplotlib.pyplot as plt\n",
    "import pandas as pd\n",
    "%matplotlib ipympl"
   ]
  },
  {
   "cell_type": "code",
   "execution_count": 10,
   "id": "0b0380c5-e544-4773-9279-49ab2a3135d3",
   "metadata": {
    "execution": {
     "iopub.execute_input": "2022-05-03T01:13:05.910223Z",
     "iopub.status.busy": "2022-05-03T01:13:05.909927Z",
     "iopub.status.idle": "2022-05-03T01:13:45.731365Z",
     "shell.execute_reply": "2022-05-03T01:13:45.730851Z",
     "shell.execute_reply.started": "2022-05-03T01:13:05.910200Z"
    },
    "tags": []
   },
   "outputs": [],
   "source": [
    "dgroup = np.loadtxt('../odata/CLAUDS_HSC_iband_group')\n",
    "d2 = np.loadtxt('../odata/iCLAUDS_HSC_iband_2')"
   ]
  },
  {
   "cell_type": "code",
   "execution_count": 14,
   "id": "e26ec022-12cd-48be-9234-a3903f8f07da",
   "metadata": {
    "execution": {
     "iopub.execute_input": "2022-05-03T01:15:22.909964Z",
     "iopub.status.busy": "2022-05-03T01:15:22.909695Z",
     "iopub.status.idle": "2022-05-03T01:16:27.720676Z",
     "shell.execute_reply": "2022-05-03T01:16:27.720179Z",
     "shell.execute_reply.started": "2022-05-03T01:15:22.909942Z"
    },
    "tags": []
   },
   "outputs": [],
   "source": [
    "digal = np.loadtxt('../odata/CLAUDS_HSC_iband_igal')\n",
    "d1 = np.loadtxt('../odata/iCLAUDS_HSC_iband_1')"
   ]
  },
  {
   "cell_type": "code",
   "execution_count": 3,
   "id": "f212ce5c-b2fa-44db-8e3a-ced7a42c543a",
   "metadata": {
    "execution": {
     "iopub.execute_input": "2022-05-03T01:11:45.912258Z",
     "iopub.status.busy": "2022-05-03T01:11:45.911894Z",
     "iopub.status.idle": "2022-05-03T01:12:26.562933Z",
     "shell.execute_reply": "2022-05-03T01:12:26.562345Z",
     "shell.execute_reply.started": "2022-05-03T01:11:45.912232Z"
    },
    "tags": []
   },
   "outputs": [],
   "source": [
    "digal0 = np.loadtxt('../odata/CLAUDS_HSC_iband_igal0')"
   ]
  },
  {
   "cell_type": "code",
   "execution_count": 4,
   "id": "8172f52a-f430-4998-ac74-4612f6e96005",
   "metadata": {
    "execution": {
     "iopub.execute_input": "2022-05-03T01:12:29.908600Z",
     "iopub.status.busy": "2022-05-03T01:12:29.908276Z",
     "iopub.status.idle": "2022-05-03T01:12:29.918989Z",
     "shell.execute_reply": "2022-05-03T01:12:29.918523Z",
     "shell.execute_reply.started": "2022-05-03T01:12:29.908573Z"
    },
    "tags": []
   },
   "outputs": [],
   "source": [
    "def load_maskid(zr):\n",
    "    if zr == 4:\n",
    "        clu_maskid = np.array([305629, 365910, 366011, 146894, 165542, 238352, 243075, 245552, 261864, 263361, 266999, 305574, \n",
    "307591, 315030, 320952, 320956, 338677, 339214, 344676, 344727, 347891, 347893, 349194, 350083, 355748,\n",
    "356972, 357238, 362410, 364580, 375231, 375292, 377484, 381933, 382681, 383192, 396768, 396787, 399071,\n",
    "400843, 166802, 202392, 282594, 315439, 338392, 346168, 365910, 366011, 399440], dtype = np.int64)\n",
    "#         clu_maskid = np.array([202392, 266999, 338392, 346168, 347893, 365910, 364580, 366011, 396768, 396787, 399440], dtype = np.int64) #for z >= 4, Ng >= 3\n",
    "    elif zr == 3:\n",
    "        clu_maskid = np.array([31967,53759,83025,99101,101901,104112,113992,111646,125027,129803,127524,132446,\n",
    "                            134943, 135168, 137908, 138114, 138430, 138467, 139829, 141254, 146894, 149069, 152231, 152511, 158891, 161521, 160824, 163470, 165943, 166952, 167037, 167168,\n",
    "                            170162, 171558, 172497, 173225, 174364, 172776, 174581, 174844, 175135, 176211, 176721,\n",
    "                            176804, 177948, 178357, 177802, 181656, 182093, 182691, 184252, 187638, 185304,\n",
    "                            189728, 193002, 195538, 198820, 199343], dtype = np.int64) # z >= 3; Ng >= 5\n",
    "    else:\n",
    "        clu_maskid = np.array([5523, 16745, 19964, 20765, 19829, 19964, 21166, 22746, 22845, 23796,\n",
    "                              24780, 24925, 25560, 26144, 25811, 27009, 27140, 28660, 29981, \n",
    "                              31490, 31532, 31708, 32220, 32987, 33629, 33668, 33842, 34135, 34991, 35881,\n",
    "                              35803, 38865, 38949, 39659, 40048, 41118, 41181, 41487, 42115,\n",
    "                              41681, 42537, 43088, 43360, 43827, 43486, 44349, 44458, 45425,\n",
    "                              46167, 46174, 46198, 46281, 46932, 47024, 46979, 47015, 47255,\n",
    "                              47978, 48581, 49181, 49538, 49779, 50196, 50213, 50397, 50753,\n",
    "                              51261, 51640, 51485, 52641, 53196, 53477, 53510, 53352, 53425,\n",
    "                              53759, 54006, 53954, 54142, 55694, 55706, 55714, 56078, 56814,\n",
    "                              57006, 57164, 57308, 57387, 57520, 57657, 57666, 57745, 57803,\n",
    "                              57827, 57862, 58461, 58488, 58819, 58625, 58870, 58959, 59247,\n",
    "                              59527, 59841, 59906, 60339, 60504, 60581, 60586, 61076, 61063,\n",
    "                              61182, 61601, 61763, 62516, 62602, 62380, 62353, 62761, 62771,\n",
    "                              62810, 62839, 62997, 63090, 63268, 63287, 63986, 64294, 64224,\n",
    "                              64874, 64985, 65219, 65364, 65468, 65498, 65412, 65543, 65874,\n",
    "                              66316, 66348, 66363, 66475, 66696, 66817, 66837, 67322, 67525,\n",
    "                              67989, 68018, 68101, 68399, 68442, 68526, 68688, 68655], dtype = np.int64) # z >= 2; Ng >= 10\n",
    "        \n",
    "    return clu_maskid"
   ]
  },
  {
   "cell_type": "code",
   "execution_count": 5,
   "id": "03b5b107-9815-4942-9369-fdd28435f9ff",
   "metadata": {
    "execution": {
     "iopub.execute_input": "2022-05-03T01:12:31.133831Z",
     "iopub.status.busy": "2022-05-03T01:12:31.133516Z",
     "iopub.status.idle": "2022-05-03T01:12:31.143871Z",
     "shell.execute_reply": "2022-05-03T01:12:31.143127Z",
     "shell.execute_reply.started": "2022-05-03T01:12:31.133805Z"
    },
    "tags": []
   },
   "outputs": [],
   "source": [
    "def cal_Mnei(gal_id):\n",
    "    from scipy import stats\n",
    "    Ngal = gal_id.shape[0]\n",
    "    idclu = np.zeros(Ngal, dtype = np.int64)\n",
    "    Mnei = 0\n",
    "    for i in range(Ngal):\n",
    "        gid = gal_id[i]\n",
    "        Lgal = 10**(0.4 * (4.85 - digal[gid-1,-1]) - 10)\n",
    "        if Lgal > 50:\n",
    "            Lgal = 50\n",
    "        \n",
    "        grpid = np.int64(d1[gid-1,1])\n",
    "        Mgrp0 = 10**dgroup[grpid-1,-2]\n",
    "        Lgrp0 = dgroup[grpid-1,-1]\n",
    "\n",
    "        Mnei += Lgal/Lgrp0 * Mgrp0\n",
    "    \n",
    "    return Mnei\n"
   ]
  },
  {
   "cell_type": "code",
   "execution_count": 6,
   "id": "0ca52a39-a467-4f07-9613-adee32606b4f",
   "metadata": {
    "execution": {
     "iopub.execute_input": "2022-05-03T01:12:32.219425Z",
     "iopub.status.busy": "2022-05-03T01:12:32.219103Z",
     "iopub.status.idle": "2022-05-03T01:12:32.227839Z",
     "shell.execute_reply": "2022-05-03T01:12:32.227284Z",
     "shell.execute_reply.started": "2022-05-03T01:12:32.219399Z"
    },
    "tags": []
   },
   "outputs": [],
   "source": [
    "def cal_rp(ag_redz,c_redz,ag_ra,ag_dec,c_ra,c_dec):\n",
    "    from astropy.cosmology import FlatLambdaCDM\n",
    "    from astropy import units as u\n",
    "    from astropy.coordinates import SkyCoord\n",
    "    cosmo = FlatLambdaCDM(H0=67.4, Om0=0.315)\n",
    "    \n",
    "    dr_gal = cosmo.comoving_distance(ag_redz).value * 0.674 #Mpc/h\n",
    "    dr_clu = cosmo.comoving_distance(c_redz).value * 0.674 #Mpc/h\n",
    "\n",
    "    cgal = SkyCoord(ra=ag_ra*u.degree, dec=ag_dec*u.degree, distance=dr_gal)\n",
    "    cclu = SkyCoord(ra=c_ra*u.degree, dec=c_dec*u.degree, distance=dr_clu)\n",
    "    cgal_x = cgal.cartesian.x\n",
    "    cgal_y = cgal.cartesian.y\n",
    "    cgal_z = cgal.cartesian.z\n",
    "\n",
    "    cclu_x = cclu.cartesian.x\n",
    "    cclu_y = cclu.cartesian.y\n",
    "    cclu_z = cclu.cartesian.z\n",
    "\n",
    "    l = np.array([cgal_x+cclu_x, cgal_y+cclu_y, cgal_z+cclu_z]).T / 2\n",
    "    s = np.array([cclu_x - cgal_x, cclu_y - cgal_y, cclu_z - cgal_z]).T\n",
    "    r_pi = np.sum(l*s,axis = 1) / np.sqrt(np.sum(l**2, axis = 1)) \n",
    "    r_p = np.sqrt(np.sum(s**2,axis = 1) - r_pi**2)\n",
    "    \n",
    "    return r_p"
   ]
  },
  {
   "cell_type": "code",
   "execution_count": 23,
   "id": "16d5fc7b-25c1-4ca7-b024-06b08865f4e8",
   "metadata": {
    "execution": {
     "iopub.execute_input": "2022-05-03T01:51:11.910093Z",
     "iopub.status.busy": "2022-05-03T01:51:11.909818Z",
     "iopub.status.idle": "2022-05-03T01:51:11.916622Z",
     "shell.execute_reply": "2022-05-03T01:51:11.916175Z",
     "shell.execute_reply.started": "2022-05-03T01:51:11.910070Z"
    },
    "tags": []
   },
   "outputs": [],
   "source": [
    "def cal_Mnei_Nnei(dz,sel_clu,rci):\n",
    "    from astropy.coordinates import SkyCoord\n",
    "    from astropy.cosmology import FlatLambdaCDM\n",
    "    from astropy import units as u\n",
    "    cosmo = FlatLambdaCDM(H0=67.4, Om0=0.315)\n",
    "\n",
    "    clu_ra = dgroup[sel_clu,2]\n",
    "    clu_dec = dgroup[sel_clu,3]\n",
    "    clu_redz = dgroup[sel_clu,4]\n",
    "    idx_gal = np.where(d2[:,0] == (sel_clu+1))[0]\n",
    "    galid = np.int64(d2[idx_gal,1])\n",
    "    \n",
    "    idx_region = np.where((np.abs(clu_redz - digal[:,3]) < dz) & \n",
    "                          (np.abs(clu_ra - digal[:,1]) < 1) & \n",
    "                          (np.abs(clu_dec - digal[:,2]) < 1))[0] \n",
    "    \n",
    "    idx_around = list(idx_region)\n",
    "#     gglistid = list(galid-1)\n",
    "#     for nn in range(galid.shape[0]):\n",
    "#         if gglistid[nn] in idx_around:\n",
    "#             idx_around.remove(gglistid[nn])\n",
    "    gal_id = np.int64(digal[idx_around, 0])\n",
    "    gal_ra = digal[idx_around, 1]\n",
    "    gal_dec = digal[idx_around, 2]\n",
    "    gal_redz = digal[idx_around, 3]\n",
    "    \n",
    "    d_r = cal_rp(gal_redz,clu_redz,gal_ra,gal_dec,clu_ra,clu_dec)\n",
    "    \n",
    "#     d_A = cosmo.comoving_distance(z=clu_redz) * 0.674 #Mpc/h\n",
    "#     cgal = SkyCoord(gal_ra, gal_dec, unit=\"deg\")\n",
    "#     cclu = SkyCoord(clu_ra, clu_dec, unit=\"deg\")\n",
    "#     sep = cgal.separation(cclu)\n",
    "#     d_r0 = (sep * d_A).to(u.Mpc, u.dimensionless_angles()) #to be a comoving distance\n",
    "#     idx_nei0 = np.where(d_r0.value < 6)[0]\n",
    "    \n",
    "    idx_nei = np.where(d_r < rci)[0]\n",
    "    Mnei = cal_Mnei(gal_id[idx_nei])\n",
    "    Nnei = idx_nei.shape[0]\n",
    "    \n",
    "#     print(idx_nei0.shape, idx_nei.shape)\n",
    "    return Mnei, Nnei, gal_id[idx_nei]"
   ]
  },
  {
   "cell_type": "code",
   "execution_count": 78,
   "id": "ba872ead-110e-42d3-b3eb-acea676d1887",
   "metadata": {
    "execution": {
     "iopub.execute_input": "2022-02-15T11:24:37.627656Z",
     "iopub.status.busy": "2022-02-15T11:24:37.627294Z",
     "iopub.status.idle": "2022-02-15T11:24:38.556077Z",
     "shell.execute_reply": "2022-02-15T11:24:38.555335Z",
     "shell.execute_reply.started": "2022-02-15T11:24:37.627628Z"
    },
    "tags": []
   },
   "outputs": [
    {
     "name": "stdout",
     "output_type": "stream",
     "text": [
      "61\n",
      "23\n",
      "3\n"
     ]
    }
   ],
   "source": [
    "rci = 5\n",
    "gid = [47826, 20048, 68057] #z ~ 2\n",
    "\n",
    "rci = 6\n",
    "gid = [192242, 104820, 186417] #z ~ 3\n",
    "\n",
    "rci = 7\n",
    "gid = [321925, 354967, 297062] #z ~ 4\n",
    "for i in range(3):\n",
    "    Mnei,Nnei = cal_Mnei_Nnei(0.1,gid[i]-1,rci)\n",
    "    print(Nnei)"
   ]
  },
  {
   "cell_type": "code",
   "execution_count": 79,
   "id": "065a7069-97a5-418e-becd-c925970da919",
   "metadata": {
    "execution": {
     "iopub.execute_input": "2022-05-04T05:25:54.173855Z",
     "iopub.status.busy": "2022-05-04T05:25:54.173503Z",
     "iopub.status.idle": "2022-05-04T05:25:54.182223Z",
     "shell.execute_reply": "2022-05-04T05:25:54.181714Z",
     "shell.execute_reply.started": "2022-05-04T05:25:54.173814Z"
    },
    "tags": []
   },
   "outputs": [],
   "source": [
    "def cal_MN(dz,zr,nm,rci):\n",
    "    if zr >= 4:\n",
    "        sel_redz = np.where((dgroup[:,4] >= zr) & (dgroup[:,1] >= nm))[0]\n",
    "    else:\n",
    "        sel_redz = np.where((dgroup[:,4] >= zr) & (dgroup[:,4] < zr + 1) & (dgroup[:,1] >= nm))[0]\n",
    "    clu_id = np.int64(dgroup[sel_redz, 0])\n",
    "    print('Before exclude Ngrp:',clu_id.shape)\n",
    "\n",
    "    #exclude the influence of masks\n",
    "    clu_id = list(clu_id)\n",
    "    clu_maskid = load_maskid(zr)\n",
    "    for nn in range(clu_maskid.shape[0]):\n",
    "        if clu_maskid[nn] in clu_id:\n",
    "            clu_id.remove(clu_maskid[nn])\n",
    "    clu_id = np.array(clu_id, dtype = np.int64)\n",
    "    print('After exclude Ngro:',clu_id.shape)\n",
    "    Ngroup = clu_id.shape[0]\n",
    "\n",
    "    Mtot = np.zeros(Ngroup)\n",
    "    Ntot = np.zeros(Ngroup)\n",
    "    neighb = []\n",
    "    PCid = []\n",
    "    for i in range(Ngroup):\n",
    "        Mtot[i], Ntot[i], neighbGalID = cal_Mnei_Nnei(dz, clu_id[i]-1,rci)\n",
    "        neighb.extend(neighbGalID) #record neighboring galaxy id\n",
    "        PCid.extend(np.tile(i+1, neighbGalID.shape[0])) #record repeated PC ID\n",
    "    #     print(Mtot[i]/1e14, Ntot[i])\n",
    "        if i%100 == 0:\n",
    "            print(i)\n",
    "    return Mtot, Ntot, clu_id, neighb, PCid"
   ]
  },
  {
   "cell_type": "code",
   "execution_count": 80,
   "id": "4bc45b35-8141-4499-bf75-af44c3b2322f",
   "metadata": {
    "execution": {
     "iopub.execute_input": "2022-05-04T05:25:57.144011Z",
     "iopub.status.busy": "2022-05-04T05:25:57.143758Z",
     "iopub.status.idle": "2022-05-04T05:26:04.791992Z",
     "shell.execute_reply": "2022-05-04T05:26:04.791243Z",
     "shell.execute_reply.started": "2022-05-04T05:25:57.143988Z"
    },
    "tags": []
   },
   "outputs": [
    {
     "name": "stdout",
     "output_type": "stream",
     "text": [
      "Before exclude Ngrp: (89,)\n",
      "After exclude Ngro: (43,)\n",
      "0\n"
     ]
    }
   ],
   "source": [
    "dz = 0.1; zr = 4; nm = 3; rci = 7;\n",
    "Mtot4,Ntot4,clu_id4,neighb4,PCid4 = cal_MN(dz,zr,nm,rci)"
   ]
  },
  {
   "cell_type": "code",
   "execution_count": 26,
   "id": "b83cbdc8-a30d-4cf4-bd48-e2a976db7e7f",
   "metadata": {
    "execution": {
     "iopub.execute_input": "2022-05-03T01:52:40.915452Z",
     "iopub.status.busy": "2022-05-03T01:52:40.915124Z",
     "iopub.status.idle": "2022-05-03T01:53:45.766533Z",
     "shell.execute_reply": "2022-05-03T01:53:45.765731Z",
     "shell.execute_reply.started": "2022-05-03T01:52:40.915427Z"
    },
    "tags": []
   },
   "outputs": [
    {
     "name": "stdout",
     "output_type": "stream",
     "text": [
      "Before exclude Ngrp: (400,)\n",
      "After exclude Ngro: (343,)\n",
      "0\n",
      "100\n",
      "200\n",
      "300\n"
     ]
    }
   ],
   "source": [
    "dz = 0.1; zr = 3; nm = 5;rci = 6;\n",
    "Mtot3,Ntot3,clu_id3,neighb3,PCid3 = cal_MN(dz,zr,nm,rci)"
   ]
  },
  {
   "cell_type": "code",
   "execution_count": 81,
   "id": "cae2cd9b-61e0-4f84-a639-6a19854a4493",
   "metadata": {
    "execution": {
     "iopub.execute_input": "2022-05-04T05:26:11.123158Z",
     "iopub.status.busy": "2022-05-04T05:26:11.122868Z",
     "iopub.status.idle": "2022-05-04T05:28:39.506281Z",
     "shell.execute_reply": "2022-05-04T05:28:39.505597Z",
     "shell.execute_reply.started": "2022-05-04T05:26:11.123132Z"
    },
    "tags": []
   },
   "outputs": [
    {
     "name": "stdout",
     "output_type": "stream",
     "text": [
      "Before exclude Ngrp: (914,)\n",
      "After exclude Ngro: (761,)\n",
      "0\n",
      "100\n",
      "200\n",
      "300\n",
      "400\n",
      "500\n",
      "600\n",
      "700\n"
     ]
    }
   ],
   "source": [
    "dz = 0.1; zr = 2; nm = 10;rci = 5;\n",
    "Mtot2,Ntot2,clu_id2,neighb2,PCid2 = cal_MN(dz,zr,nm,rci)"
   ]
  },
  {
   "cell_type": "code",
   "execution_count": 74,
   "id": "2e731d05-166e-401a-a946-2b1896d2f471",
   "metadata": {
    "execution": {
     "iopub.execute_input": "2022-02-15T09:05:33.527951Z",
     "iopub.status.busy": "2022-02-15T09:05:33.527670Z",
     "iopub.status.idle": "2022-02-15T09:05:33.533863Z",
     "shell.execute_reply": "2022-02-15T09:05:33.533423Z",
     "shell.execute_reply.started": "2022-02-15T09:05:33.527930Z"
    },
    "tags": []
   },
   "outputs": [
    {
     "name": "stdout",
     "output_type": "stream",
     "text": [
      "At z ~ 4: Nmax id and Nmin id:  321925 297062\n",
      "[6.805700e+04 1.000000e+01 1.496482e+02 3.678300e+00 2.160900e+00\n",
      " 1.331330e+01 2.878390e+01]\n",
      "At z ~ 3: Nmax id and Nmin id:  192242 186417\n",
      "At z ~ 2: Nmax id and Nmin id:  47826 68057\n"
     ]
    }
   ],
   "source": [
    "##select most rich and poor galaxies\n",
    "idx_4max = np.argmax(Ntot4)\n",
    "idx_4min = np.argsort(Ntot4)[0]\n",
    "print(\"At z ~ 4: Nmax id and Nmin id: \", clu_id4[idx_4max], clu_id4[idx_4min])\n",
    "print(dgroup[68057-1])\n",
    "\n",
    "idx_3max = np.argmax(Ntot3)\n",
    "idx_3min = np.argsort(Ntot3)[2]\n",
    "print(\"At z ~ 3: Nmax id and Nmin id: \", clu_id3[idx_3max], clu_id3[idx_3min])\n",
    "\n",
    "idx_2max = np.argmax(Ntot2)\n",
    "idx_2min = np.argsort(Ntot2)[2]\n",
    "print(\"At z ~ 2: Nmax id and Nmin id: \", clu_id2[idx_2max], clu_id2[idx_2min])"
   ]
  },
  {
   "cell_type": "code",
   "execution_count": 18,
   "id": "eb0e7484-e74d-46c8-a84d-7dccf3b88a5a",
   "metadata": {
    "execution": {
     "iopub.execute_input": "2022-05-03T01:21:08.910609Z",
     "iopub.status.busy": "2022-05-03T01:21:08.910297Z",
     "iopub.status.idle": "2022-05-03T01:21:09.311960Z",
     "shell.execute_reply": "2022-05-03T01:21:09.311550Z",
     "shell.execute_reply.started": "2022-05-03T01:21:08.910581Z"
    },
    "tags": []
   },
   "outputs": [
    {
     "data": {
      "application/vnd.jupyter.widget-view+json": {
       "model_id": "118d947b466948b1afa346fcf57c0e61",
       "version_major": 2,
       "version_minor": 0
      },
      "text/plain": [
       "Canvas(toolbar=Toolbar(toolitems=[('Home', 'Reset original view', 'home', 'home'), ('Back', 'Back to previous …"
      ]
     },
     "metadata": {},
     "output_type": "display_data"
    },
    {
     "name": "stdout",
     "output_type": "stream",
     "text": [
      "[12.06612746  0.96761374]\n",
      "[11.93583508  0.98058993]\n",
      "[11.81445246  1.07180266]\n"
     ]
    }
   ],
   "source": [
    "plt.figure(figsize = (4.0,3.7))\n",
    "# plt.figure(figsize = (5.3,4.0))\n",
    "import matplotlib as mpl\n",
    "mpl.rcParams['axes.linewidth'] = 1.2 #set the value globally\n",
    "\n",
    "def fit_points(Ntot,Mtot):\n",
    "    def linear_dis(xx, a, k):\n",
    "        return a + xx * k\n",
    "    from scipy.optimize import curve_fit\n",
    "    pp, pcov = curve_fit(linear_dis, np.log10(Ntot), np.log10(Mtot), p0 = (11,1))\n",
    "    print(pp)\n",
    "    xx = np.linspace(0,3,100)\n",
    "    yy = linear_dis(xx, pp[0], pp[1])\n",
    "    return xx, yy\n",
    "\n",
    "plt.plot(Ntot2, Mtot2, 'o', ms = 2, alpha = 0.8, label = r'$\\mathrm{S}1: 2 \\leq z < 3, N_{\\rm g} \\geq 10$')\n",
    "xx,yy = fit_points(Ntot2,Mtot2)\n",
    "# plt.plot(10**xx,10**yy, c = 'C0', zorder = -1, alpha = 0.7, ls = '--')\n",
    "plt.plot(Ntot3, Mtot3, 'o', ms = 2, alpha = 0.8, c = 'orange',label = r'$\\mathrm{S}2: 3 \\leq z < 4, N_{\\rm g} \\geq 5$')\n",
    "xx,yy = fit_points(Ntot3,Mtot3)\n",
    "# plt.plot(10**xx,10**yy, c = 'orange', zorder = -1, alpha = 0.7, ls = '--')\n",
    "plt.plot(Ntot4, Mtot4, 'o', ms = 2, alpha = 0.8, c = 'k', label = r'$\\mathrm{S}3: z \\geq 4, N_{\\rm g} \\geq 3$')\n",
    "xx,yy = fit_points(Ntot4,Mtot4)\n",
    "# plt.plot(10**xx,10**yy, c = 'k', zorder = -1, alpha = 0.7, ls = '--')\n",
    "# p_spec10, pcov = curve_fit(linear_dis, Mtot4, Ntot4, p0 = (100, 0.27, 0.1))\n",
    "\n",
    "plt.ylabel(r'$M_{\\rm nei}[h^{-1}\\rm M_{\\odot}]$', fontsize = 12)\n",
    "plt.xlabel(r'$N_{\\rm nei}$', fontsize = 12)\n",
    "plt.axhline(1e14, ls = '--', color = 'r', lw = 1)\n",
    "\n",
    "plt.loglog()\n",
    "plt.ylim(1e12, 6e14)\n",
    "plt.xlim(2, 6e2)\n",
    "plt.legend(loc = 4)\n",
    "plt.tick_params(top = 'on', right = 'on', which='both',direction = 'in',labelsize = 10)\n",
    "\n",
    "plt.tight_layout()\n",
    "# plt.savefig('../figs/Mnei_Nnei.pdf')"
   ]
  },
  {
   "cell_type": "code",
   "execution_count": 82,
   "id": "7c8e52e2-2a68-446c-ab77-e2c2fe23e2ee",
   "metadata": {
    "execution": {
     "iopub.execute_input": "2022-05-04T05:28:57.114769Z",
     "iopub.status.busy": "2022-05-04T05:28:57.114520Z",
     "iopub.status.idle": "2022-05-04T05:28:57.473905Z",
     "shell.execute_reply": "2022-05-04T05:28:57.473450Z",
     "shell.execute_reply.started": "2022-05-04T05:28:57.114745Z"
    },
    "tags": []
   },
   "outputs": [],
   "source": [
    "#save protocluster catalogue data\n",
    "\n",
    "#S1\n",
    "nPC = np.arange(761)+1\n",
    "ra_S1 = dgroup[clu_id2-1,2]\n",
    "dec_S1 = dgroup[clu_id2-1,3]\n",
    "redz_S1 = dgroup[clu_id2-1,4]\n",
    "dS1 = np.vstack((nPC, clu_id2, ra_S1, dec_S1, redz_S1, Ntot2, np.log10(Mtot2))).T\n",
    "np.savetxt('/home/qyli/clu_finder/CLAUDS_HSC/catalogue/ReleaseSample/PC/PC_S1', dS1,\n",
    "           fmt = '%4d   %8d   %8.4f   %8.4f   %.4f   %4d   %8.4f')\n",
    "\n",
    "dS1_neb = np.vstack((PCid2, neighb2)).T\n",
    "np.savetxt('/home/qyli/clu_finder/CLAUDS_HSC/catalogue/ReleaseSample/PC/iPC_gal_S1', dS1_neb,\n",
    "           fmt = '%4d   %d')\n",
    "\n",
    "#S2\n",
    "nPC = np.arange(343)+1\n",
    "ra_S2 = dgroup[clu_id3-1,2]\n",
    "dec_S2 = dgroup[clu_id3-1,3]\n",
    "redz_S2 = dgroup[clu_id3-1,4]\n",
    "dS2 = np.vstack((nPC, clu_id3, ra_S2, dec_S2, redz_S2, Ntot3, np.log10(Mtot3))).T\n",
    "np.savetxt('/home/qyli/clu_finder/CLAUDS_HSC/catalogue/ReleaseSample/PC/PC_S2', dS2,\n",
    "           fmt = '%4d   %8d   %8.4f   %8.4f   %.4f   %4d   %8.4f')\n",
    "\n",
    "dS2_neb = np.vstack((PCid3, neighb3)).T\n",
    "np.savetxt('/home/qyli/clu_finder/CLAUDS_HSC/catalogue/ReleaseSample/PC/iPC_gal_S2', dS2_neb,\n",
    "           fmt = '%4d   %d')\n",
    "\n",
    "#S3\n",
    "nPC = np.arange(43)+1\n",
    "ra_S3 = dgroup[clu_id4-1,2]\n",
    "dec_S3 = dgroup[clu_id4-1,3]\n",
    "redz_S3 = dgroup[clu_id4-1,4]\n",
    "dS3 = np.vstack((nPC, clu_id4, ra_S3, dec_S3, redz_S3, Ntot4, np.log10(Mtot4))).T\n",
    "np.savetxt('/home/qyli/clu_finder/CLAUDS_HSC/catalogue/ReleaseSample/PC/PC_S3', dS3,\n",
    "           fmt = '%4d   %8d   %8.4f   %8.4f   %.4f   %4d   %8.4f')\n",
    "\n",
    "dS3_neb = np.vstack((PCid4, neighb4)).T\n",
    "np.savetxt('/home/qyli/clu_finder/CLAUDS_HSC/catalogue/ReleaseSample/PC/iPC_gal_S3', dS3_neb,\n",
    "           fmt = '%4d   %d')"
   ]
  },
  {
   "cell_type": "code",
   "execution_count": 20,
   "id": "aeb02d76-9f11-4ceb-928d-22a3e930fe8c",
   "metadata": {
    "execution": {
     "iopub.execute_input": "2022-05-03T01:32:03.909521Z",
     "iopub.status.busy": "2022-05-03T01:32:03.909261Z",
     "iopub.status.idle": "2022-05-03T01:32:03.914721Z",
     "shell.execute_reply": "2022-05-03T01:32:03.914309Z",
     "shell.execute_reply.started": "2022-05-03T01:32:03.909500Z"
    }
   },
   "outputs": [
    {
     "data": {
      "text/plain": [
       "array([ 0,  1,  2,  3,  4,  5,  6,  7,  8,  9, 10, 11, 12, 13, 14, 15, 16,\n",
       "       17, 18, 19, 20, 21, 22, 23, 24, 25, 26, 27, 28, 29, 30, 31, 32, 33,\n",
       "       34, 35, 36, 37, 38, 39, 40, 41, 42])"
      ]
     },
     "execution_count": 20,
     "metadata": {},
     "output_type": "execute_result"
    }
   ],
   "source": [
    "print(np.sum())"
   ]
  },
  {
   "cell_type": "code",
   "execution_count": null,
   "id": "a39d508b-95f0-4678-a474-1169df31c994",
   "metadata": {},
   "outputs": [],
   "source": []
  },
  {
   "cell_type": "code",
   "execution_count": null,
   "id": "66ba5673-6c88-426e-9303-0dd1a4238e90",
   "metadata": {},
   "outputs": [],
   "source": []
  },
  {
   "cell_type": "markdown",
   "id": "cb5ebbb7-569d-4372-bac2-88817f2e16bf",
   "metadata": {},
   "source": [
    "## test code"
   ]
  },
  {
   "cell_type": "code",
   "execution_count": null,
   "id": "10dddfb9-b4f8-4975-bd65-caa4d76e7809",
   "metadata": {},
   "outputs": [],
   "source": [
    "# #This is calculate mean value of high-redshift groups after excluding contamination\n",
    "# #contamination groups id at z > 5\n",
    "# gid5 = [570541,624159] #5.2 < z < 5.6\n",
    "# #contamination groups id at z > 4\n",
    "# gid4 = [166802, 415510, 464146, 555750, 621690, 622970, 638654, ] #4.8 < z < 5.2\n",
    "\n",
    "# sel_redz = np.where((dgroup[:,4] >= 5) & (dgroup[:,1] >= 2))[0]\n",
    "# clu_id = np.int64(dgroup[sel_redz, 0])\n",
    "# print('Before exclude Ngrp:',clu_id.shape)\n",
    "\n",
    "# #exclude the influence of masks\n",
    "# clu_id = list(clu_id)\n",
    "# clu_maskid = np.array(gid5, dtype = np.int64)\n",
    "# for nn in range(clu_maskid.shape[0]):\n",
    "#     if clu_maskid[nn] in clu_id:\n",
    "#         clu_id.remove(clu_maskid[nn])\n",
    "# clu_id = np.array(clu_id, dtype = np.int64)\n",
    "\n",
    "# mean_Mh = np.median(10**dgroup[clu_id-1, -2])\n",
    "# mean_r180 = np.median(0.781*(10**dgroup[clu_id-1, -2]/1e14/0.315)**(1/3))\n",
    "# print(mean_Mh/1e12, mean_r180)"
   ]
  },
  {
   "cell_type": "code",
   "execution_count": null,
   "id": "676cb3db-568c-4038-890d-c84e2a00afd4",
   "metadata": {},
   "outputs": [],
   "source": [
    "# def cal_Mnei(gal_id):\n",
    "#     from scipy import stats\n",
    "#     Ngal = gal_id.shape[0]\n",
    "#     Mnei = np.zeros(Ngal)\n",
    "#     idclu = np.zeros(Ngal, dtype = np.int64)\n",
    "#     Nm0 = 0\n",
    "#     for i in range(Ngal):\n",
    "#         gid = gal_id[i]\n",
    "#         grpid = np.int64(d1[gid-1,1])\n",
    "#         Mnei[i] = 10**dgroup[grpid-1,-2]\n",
    "#         idclu[i] = np.int64(dgroup[grpid-1,0])\n",
    "#         Nm0 += dgroup[grpid-1,1]\n",
    "    \n",
    "#     overN = stats.find_repeats(idclu).counts \n",
    "#     overV = stats.find_repeats(idclu).values\n",
    "#     overV = np.int64(overV)\n",
    "# #     print(overN)\n",
    "#     Nm00 = Nm0 - np.sum(dgroup[overV-1,1] * (overN - 1))\n",
    "#     Mnei0 = np.sum(Mnei) -  np.sum(10**dgroup[overV-1,-2] * (overN-1))\n",
    "    \n",
    "#     print(Ngal, Nm0, Nm00)\n",
    "#     return Mnei0"
   ]
  },
  {
   "cell_type": "code",
   "execution_count": null,
   "id": "c54f53ba-58b7-4b65-a067-115d93e77200",
   "metadata": {},
   "outputs": [],
   "source": [
    "# idclu = 315030\n",
    "# idx_gal = np.where(d2[:,0] == idclu)[0]\n",
    "# galid = np.int64(d2[idx_gal,1])\n",
    "# Msunbj = 4.85\n",
    "# grplum0 = 10**(0.4 * (Msunbj - digal[galid-1,-1]) - 10)\n",
    "# idxlum = np.where(grplum0 > 50)[0]\n",
    "# grplum0[idxlum] = 50\n",
    "# grplum0 = np.sum(grplum0)\n",
    "# print(np.sum(digal0[galid-1,-1]), dgroup[idclu-1,-1], grplum0)"
   ]
  }
 ],
 "metadata": {
  "kernelspec": {
   "display_name": "mamba-python3",
   "language": "python",
   "name": "mamba-python3"
  },
  "language_info": {
   "codemirror_mode": {
    "name": "ipython",
    "version": 3
   },
   "file_extension": ".py",
   "mimetype": "text/x-python",
   "name": "python",
   "nbconvert_exporter": "python",
   "pygments_lexer": "ipython3",
   "version": "3.7.10"
  }
 },
 "nbformat": 4,
 "nbformat_minor": 5
}
