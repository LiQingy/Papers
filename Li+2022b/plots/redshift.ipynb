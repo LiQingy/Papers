{
 "cells": [
  {
   "cell_type": "code",
   "execution_count": 1,
   "id": "ab234390-5d7d-4633-9bb8-e1339d5e923e",
   "metadata": {
    "execution": {
     "iopub.execute_input": "2022-03-12T06:55:06.283518Z",
     "iopub.status.busy": "2022-03-12T06:55:06.283126Z",
     "iopub.status.idle": "2022-03-12T06:55:07.486925Z",
     "shell.execute_reply": "2022-03-12T06:55:07.486252Z",
     "shell.execute_reply.started": "2022-03-12T06:55:06.283426Z"
    },
    "tags": []
   },
   "outputs": [],
   "source": [
    "import numpy as np \n",
    "from astropy.io import fits\n",
    "import matplotlib.pyplot as plt\n",
    "import pandas as pd\n",
    "%matplotlib ipympl"
   ]
  },
  {
   "cell_type": "code",
   "execution_count": 2,
   "id": "ea357f03-44ab-4623-a4b2-57075cbfab51",
   "metadata": {
    "execution": {
     "iopub.execute_input": "2022-03-12T06:55:08.483198Z",
     "iopub.status.busy": "2022-03-12T06:55:08.482894Z",
     "iopub.status.idle": "2022-03-12T06:55:08.572648Z",
     "shell.execute_reply": "2022-03-12T06:55:08.572098Z",
     "shell.execute_reply.started": "2022-03-12T06:55:08.483173Z"
    },
    "tags": []
   },
   "outputs": [
    {
     "data": {
      "text/plain": [
       "<module 'check_redz' from '/home/qyli/clu_finder/CLAUDS_HSC/prod_catlg_iband1/check_redz.py'>"
      ]
     },
     "execution_count": 2,
     "metadata": {},
     "output_type": "execute_result"
    }
   ],
   "source": [
    "import sys\n",
    "sys.path.append('/home/qyli/clu_finder/CLAUDS_HSC/prod_catlg_iband1')\n",
    "import check_redz\n",
    "import imp\n",
    "imp.reload(check_redz)"
   ]
  },
  {
   "cell_type": "code",
   "execution_count": 3,
   "id": "5cd0686e-668a-4eb5-bb06-237a96688a25",
   "metadata": {
    "execution": {
     "iopub.execute_input": "2022-03-12T06:55:09.478883Z",
     "iopub.status.busy": "2022-03-12T06:55:09.478609Z",
     "iopub.status.idle": "2022-03-12T06:55:09.831971Z",
     "shell.execute_reply": "2022-03-12T06:55:09.831342Z",
     "shell.execute_reply.started": "2022-03-12T06:55:09.478860Z"
    },
    "tags": []
   },
   "outputs": [],
   "source": [
    "COSMOS = fits.open('../../CLAUDS_HSC_Photoz/COSMOS_v2_v200930.fits')\n",
    "DEEP = fits.open('../../CLAUDS_HSC_Photoz/DEEP_2_v2_v200930.fits')\n",
    "ELAIS = fits.open('../../CLAUDS_HSC_Photoz/ELAIS_v2_v200930.fits')\n",
    "XMMLSS = fits.open('../../CLAUDS_HSC_Photoz/XMM_LSS_v2_v200930.fits')"
   ]
  },
  {
   "cell_type": "code",
   "execution_count": 4,
   "id": "69495b01-8885-4bfe-9691-6de6e7a23481",
   "metadata": {
    "execution": {
     "iopub.execute_input": "2022-03-12T06:55:11.280749Z",
     "iopub.status.busy": "2022-03-12T06:55:11.280439Z",
     "iopub.status.idle": "2022-03-12T06:55:46.942256Z",
     "shell.execute_reply": "2022-03-12T06:55:46.941374Z",
     "shell.execute_reply.started": "2022-03-12T06:55:11.280724Z"
    },
    "tags": []
   },
   "outputs": [],
   "source": [
    "cosmos_mask = COSMOS[1].data['MASK']\n",
    "deep_mask = DEEP[1].data['MASK']\n",
    "elais_mask = ELAIS[1].data['MASK']\n",
    "xmmlss_mask = XMMLSS[1].data['MASK']\n",
    "\n",
    "\n",
    "cosmos_obj = COSMOS[1].data['OBJ_TYPE']\n",
    "deep_obj = DEEP[1].data['OBJ_TYPE']\n",
    "elais_obj = ELAIS[1].data['OBJ_TYPE']\n",
    "xmmlss_obj = XMMLSS[1].data['OBJ_TYPE']\n",
    "\n",
    "cosmos_phoz0 = COSMOS[1].data['Z_BEST']\n",
    "deep_phoz0 = DEEP[1].data['Z_BEST']\n",
    "elais_phoz0 = ELAIS[1].data['Z_BEST']\n",
    "xmmlss_phoz0 = XMMLSS[1].data['Z_BEST']\n",
    "\n",
    "cosmos_magy0 = COSMOS[1].data['y']\n",
    "deep_magy0 = DEEP[1].data['y']\n",
    "elais_magy0 = ELAIS[1].data['y']\n",
    "xmmlss_magy0 = XMMLSS[1].data['y']\n",
    "\n",
    "cosmos_magg0 = COSMOS[1].data['g']\n",
    "deep_magg0 = DEEP[1].data['g']\n",
    "elais_magg0 = ELAIS[1].data['g']\n",
    "xmmlss_magg0 = XMMLSS[1].data['g']\n",
    "\n",
    "cosmos_magr0 = COSMOS[1].data['r']\n",
    "deep_magr0 = DEEP[1].data['r']\n",
    "elais_magr0 = ELAIS[1].data['r']\n",
    "xmmlss_magr0 = XMMLSS[1].data['r']\n",
    "\n",
    "cosmos_magi0 = COSMOS[1].data['i']\n",
    "deep_magi0 = DEEP[1].data['i']\n",
    "elais_magi0 = ELAIS[1].data['i']\n",
    "xmmlss_magi0 = XMMLSS[1].data['i']\n",
    "\n",
    "cosmos_magz0 = COSMOS[1].data['z']\n",
    "deep_magz0 = DEEP[1].data['z']\n",
    "elais_magz0 = ELAIS[1].data['z']\n",
    "xmmlss_magz0 = XMMLSS[1].data['z']\n",
    "\n",
    "cosmos_magierr = COSMOS[1].data['i_err']\n",
    "deep_magierr = DEEP[1].data['i_err']\n",
    "elais_magierr = ELAIS[1].data['i_err']\n",
    "xmmlss_magierr = XMMLSS[1].data['i_err']\n",
    "\n",
    "elais_ra0 = ELAIS[1].data['RA']\n",
    "xmmlss_ra0 = XMMLSS[1].data['RA']\n",
    "elais_dec0 = ELAIS[1].data['DEC']\n",
    "xmmlss_dec0 = XMMLSS[1].data['DEC']"
   ]
  },
  {
   "cell_type": "code",
   "execution_count": 5,
   "id": "ebc32330-da17-488f-b77e-d94775995258",
   "metadata": {
    "execution": {
     "iopub.execute_input": "2022-03-12T06:55:46.944117Z",
     "iopub.status.busy": "2022-03-12T06:55:46.943855Z",
     "iopub.status.idle": "2022-03-12T06:55:52.721950Z",
     "shell.execute_reply": "2022-03-12T06:55:52.721427Z",
     "shell.execute_reply.started": "2022-03-12T06:55:46.944093Z"
    },
    "tags": []
   },
   "outputs": [],
   "source": [
    "cosmos_0 = np.where((cosmos_mask == 0) & (cosmos_obj == 0) & (cosmos_phoz0 > 0)\n",
    "                   & (cosmos_magg0 > 0) & (cosmos_magr0 > 0) & (cosmos_magi0 > 0) & (cosmos_magz0 > 0) & (cosmos_magy0 > 0) \n",
    "                    & (cosmos_magierr < 1) & (cosmos_magi0 < 26))[0]\n",
    "deep_0 = np.where((deep_mask == 0) & (deep_obj == 0) & (deep_phoz0 > 0) \n",
    "                  & (deep_magg0 > 0) & (deep_magr0 > 0) & (deep_magi0 > 0) & (deep_magz0 > 0) & (deep_magy0 > 0) \n",
    "                 & (deep_magierr < 1) & (deep_magi0 < 26))[0]\n",
    "elais_0 = np.where((elais_mask == 0) & (elais_obj == 0) & (elais_phoz0 > 0) \n",
    "                  & (elais_magg0 > 0) & (elais_magr0 > 0) & (elais_magi0 > 0) & (elais_magz0 > 0) & (elais_magy0 > 0) \n",
    "                  & (elais_magierr < 1) & (elais_magi0 < 26)\n",
    "                  & ((elais_ra0 < 244.2) | (elais_ra0 > 244.4) | (elais_dec0 < 54.0) | (elais_dec0 > 54.2)))[0]\n",
    "xmmlss_0 = np.where((xmmlss_mask == 0) & (xmmlss_obj == 0) & (xmmlss_phoz0 > 0) \n",
    "                   & (xmmlss_magg0 > 0) & (xmmlss_magr0 > 0) & (xmmlss_magi0 > 0) & (xmmlss_magz0 > 0) & (xmmlss_magy0 > 0) \n",
    "                   & (xmmlss_magierr < 1) & (xmmlss_magi0 < 26)\n",
    "                   & ((xmmlss_ra0 < 37.1) | (xmmlss_ra0 > 37.3) | (xmmlss_dec0 < -5.3) | (xmmlss_dec0 > -5.1)))[0]"
   ]
  },
  {
   "cell_type": "code",
   "execution_count": 6,
   "id": "b895254b-0559-4690-bd4b-d815f06c7a02",
   "metadata": {
    "execution": {
     "iopub.execute_input": "2022-03-12T06:55:55.285710Z",
     "iopub.status.busy": "2022-03-12T06:55:55.285045Z",
     "iopub.status.idle": "2022-03-12T06:55:55.978222Z",
     "shell.execute_reply": "2022-03-12T06:55:55.977738Z",
     "shell.execute_reply.started": "2022-03-12T06:55:55.285685Z"
    },
    "tags": []
   },
   "outputs": [],
   "source": [
    "cosmos_phoz = COSMOS[1].data['Z_BEST'][cosmos_0]\n",
    "deep_phoz = DEEP[1].data['Z_BEST'][deep_0]\n",
    "elais_phoz = ELAIS[1].data['Z_BEST'][elais_0]\n",
    "xmmlss_phoz = XMMLSS[1].data['Z_BEST'][xmmlss_0]\n",
    "phoz = np.hstack((cosmos_phoz, deep_phoz, elais_phoz, xmmlss_phoz))\n",
    "\n",
    "cosmos_spez = COSMOS[1].data['Z_SPEC'][cosmos_0]\n",
    "deep_spez = DEEP[1].data['Z_SPEC'][deep_0]\n",
    "elais_spez = ELAIS[1].data['Z_SPEC'][elais_0]\n",
    "xmmlss_spez = XMMLSS[1].data['Z_SPEC'][xmmlss_0]\n",
    "spez = np.hstack((cosmos_spez, deep_spez, elais_spez, xmmlss_spez))"
   ]
  },
  {
   "cell_type": "code",
   "execution_count": 7,
   "id": "4247171e-08b8-4ef3-a598-3954d6edf711",
   "metadata": {
    "execution": {
     "iopub.execute_input": "2022-03-12T06:56:00.472712Z",
     "iopub.status.busy": "2022-03-12T06:56:00.472370Z",
     "iopub.status.idle": "2022-03-12T06:56:00.481789Z",
     "shell.execute_reply": "2022-03-12T06:56:00.481356Z",
     "shell.execute_reply.started": "2022-03-12T06:56:00.472688Z"
    },
    "tags": []
   },
   "outputs": [],
   "source": [
    "def plot_evalz_phoz(specz, photoz, redzmax, redzbins):\n",
    "\n",
    "    print(\"The selected object number at photometry z < %s is\" %redzmax, np.where(photoz < redzmax)[0].shape[0])\n",
    "\n",
    "    Deltaz = (photoz - specz) / (1 + specz)\n",
    "    redzrange = np.linspace(0,redzmax,redzbins+1)\n",
    "\n",
    "    rate_out = np.zeros(redzbins)\n",
    "    rate_bias = np.zeros(redzbins)\n",
    "    rate_sca = np.zeros(redzbins)\n",
    "    for i in range(redzbins):\n",
    "        locmag0 = np.where((photoz > redzrange[i]) & (photoz < redzrange[i+1]))[0]\n",
    "        locmag1 = np.where((photoz > redzrange[i]) & (photoz < redzrange[i+1]) & (np.abs(Deltaz) > 0.15))[0]\n",
    "\n",
    "        if len(locmag0):\n",
    "            rate_out[i] = locmag1.shape[0] / locmag0.shape[0]\n",
    "            rate_bias[i] = np.median(Deltaz[locmag0])\n",
    "            rate_sca[i] = np.median(np.abs(Deltaz[locmag0]))  / 0.6745\n",
    "        else:\n",
    "            rate_out[i] = -1\n",
    "            rate_bias[i] = -1\n",
    "            rate_sca[i] = -1\n",
    "\n",
    "    xx = redzrange[:-1]+redzmax/redzbins/2\n",
    "    print(xx)\n",
    "    plt.figure(figsize = (9.2,4))\n",
    "    plt.scatter(xx,rate_bias,edgecolor='b',c = 'none',label = 'bias',zorder = 100)\n",
    "    plt.scatter(xx,rate_out,edgecolor='g',c = 'none',label = 'outlier rate',marker = 'v',zorder = 101)\n",
    "    plt.scatter(xx,rate_sca,edgecolor='orange',c = 'none',label = 'scatter',marker = 's',zorder = 102)\n",
    "\n",
    "    plt.axhline(0,color='k')\n",
    "    plt.fill_between(np.linspace(0,10,100),-0.01,0.01,color = 'grey')\n",
    "#     plt.fill_between(np.linspace(0,10,100),-0.01,0.01,color = 'grey',label = r'$\\pm 0.01$')\n",
    "    plt.ylim(-0.1,0.41)\n",
    "    plt.xlim(0,redzmax)\n",
    "    plt.legend(loc='best')\n",
    "    plt.grid(color = 'grey', axis = 'y', ls = '--')\n",
    "\n",
    "#     plt.axhline(0.03, color = 'grey', ls = '--', label = r'$\\pm 0.03$')\n",
    "    plt.axhline(0.03, color = 'grey', ls = '--')\n",
    "    plt.axhline(-0.03, color = 'grey', ls = '--')\n",
    "\n",
    "    return xx, rate_sca"
   ]
  },
  {
   "cell_type": "code",
   "execution_count": 10,
   "id": "550d13b9-2133-45bb-b5f2-2c25f9f1e605",
   "metadata": {
    "execution": {
     "iopub.execute_input": "2022-03-12T06:58:16.334840Z",
     "iopub.status.busy": "2022-03-12T06:58:16.334167Z",
     "iopub.status.idle": "2022-03-12T06:58:16.639455Z",
     "shell.execute_reply": "2022-03-12T06:58:16.639043Z",
     "shell.execute_reply.started": "2022-03-12T06:58:16.334811Z"
    },
    "tags": []
   },
   "outputs": [
    {
     "name": "stdout",
     "output_type": "stream",
     "text": [
      "(65135,)\n",
      "The selected object number at photometry z < 6 is 65135\n",
      "[0.15 0.45 0.75 1.05 1.35 1.65 1.95 2.25 2.55 2.85 3.15 3.45 3.75 4.05\n",
      " 4.35 4.65 4.95 5.25 5.55 5.85]\n"
     ]
    },
    {
     "data": {
      "application/vnd.jupyter.widget-view+json": {
       "model_id": "2446a2e90b9a426faac631e99f5b7725",
       "version_major": 2,
       "version_minor": 0
      },
      "text/plain": [
       "Canvas(toolbar=Toolbar(toolitems=[('Home', 'Reset original view', 'home', 'home'), ('Back', 'Back to previous …"
      ]
     },
     "metadata": {},
     "output_type": "display_data"
    }
   ],
   "source": [
    "import matplotlib as mpl\n",
    "mpl.rcParams['axes.linewidth'] = 1.2 #set the value globally\n",
    "\n",
    "idxspez = np.where((spez > 0))[0]\n",
    "print(idxspez.shape)\n",
    "xx, rate_sca = plot_evalz_phoz(spez[idxspez], phoz[idxspez], 6, 20)\n",
    "\n",
    "from scipy.interpolate import interp1d\n",
    "f_zerr = interp1d(xx, rate_sca, kind= 'quadratic', fill_value = 'extrapolate')\n",
    "xz = np.linspace(0.,6.0,100)\n",
    "plt.plot(xz, f_zerr(xz), 'r-', label = 'interpolator')\n",
    "plt.legend(loc='best')\n",
    "\n",
    "# plt.xticks([0,0.5,1,1.5,2,2.5,3,3.5,4,4.5,5,5.5,6])\n",
    "plt.tick_params(top = 'on', right = 'on', which='both',direction = 'in',labelsize = 12)\n",
    "plt.xlabel(r'$z_{\\rm photo}$', fontsize = 14)\n",
    "plt.ylabel(r'$\\rm Performance$', fontsize = 14)\n",
    "plt.tight_layout()\n",
    "plt.savefig('../figs/redshift.pdf')"
   ]
  },
  {
   "cell_type": "code",
   "execution_count": null,
   "id": "2210a0cd-b506-4e21-9c8d-8433d055d709",
   "metadata": {},
   "outputs": [],
   "source": []
  }
 ],
 "metadata": {
  "kernelspec": {
   "display_name": "py37",
   "language": "python",
   "name": "python3.7"
  },
  "language_info": {
   "codemirror_mode": {
    "name": "ipython",
    "version": 3
   },
   "file_extension": ".py",
   "mimetype": "text/x-python",
   "name": "python",
   "nbconvert_exporter": "python",
   "pygments_lexer": "ipython3",
   "version": "3.7.10"
  }
 },
 "nbformat": 4,
 "nbformat_minor": 5
}
