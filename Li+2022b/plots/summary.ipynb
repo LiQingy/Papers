{
 "cells": [
  {
   "cell_type": "code",
   "execution_count": 2,
   "id": "2f9e78fd-aa67-4507-bb1a-6abf93a2b6f7",
   "metadata": {
    "execution": {
     "iopub.execute_input": "2022-03-27T12:15:13.541038Z",
     "iopub.status.busy": "2022-03-27T12:15:13.540721Z",
     "iopub.status.idle": "2022-03-27T12:15:14.620202Z",
     "shell.execute_reply": "2022-03-27T12:15:14.619548Z",
     "shell.execute_reply.started": "2022-03-27T12:15:13.541014Z"
    },
    "tags": []
   },
   "outputs": [],
   "source": [
    "import numpy as np \n",
    "from astropy.io import fits\n",
    "import matplotlib.pyplot as plt\n",
    "import pandas as pd\n",
    "%matplotlib ipympl"
   ]
  },
  {
   "cell_type": "code",
   "execution_count": 3,
   "id": "5a54816b-b603-456c-8176-e00815f60290",
   "metadata": {
    "execution": {
     "iopub.execute_input": "2022-03-27T12:15:26.541267Z",
     "iopub.status.busy": "2022-03-27T12:15:26.540919Z",
     "iopub.status.idle": "2022-03-27T12:15:41.950907Z",
     "shell.execute_reply": "2022-03-27T12:15:41.950252Z",
     "shell.execute_reply.started": "2022-03-27T12:15:26.541243Z"
    },
    "tags": []
   },
   "outputs": [],
   "source": [
    "'''\n",
    "column 1: group ID\n",
    "column 2: richness\n",
    "column 3: ra\n",
    "column 4: dec\n",
    "column 5: redshift\n",
    "column 6: log M_h/(M_sun/h)\n",
    "column 7: L_group (10^10Lsun/h/h)\n",
    "'''\n",
    "group = np.loadtxt('../odata/CLAUDS_HSC_iband_group')"
   ]
  },
  {
   "cell_type": "code",
   "execution_count": 32,
   "id": "bffe033c-9262-442f-92ef-1f4e634ed4bb",
   "metadata": {
    "execution": {
     "iopub.execute_input": "2022-03-25T05:22:43.642913Z",
     "iopub.status.busy": "2022-03-25T05:22:43.642641Z",
     "iopub.status.idle": "2022-03-25T05:24:14.807233Z",
     "shell.execute_reply": "2022-03-25T05:24:14.806428Z",
     "shell.execute_reply.started": "2022-03-25T05:22:43.642892Z"
    }
   },
   "outputs": [],
   "source": [
    "digal = np.loadtxt('../odata/CLAUDS_HSC_iband_igal')\n",
    "d2 = np.loadtxt('../odata/iCLAUDS_HSC_iband_2')\n",
    "d1 = np.loadtxt('../odata/iCLAUDS_HSC_iband_1')"
   ]
  },
  {
   "cell_type": "markdown",
   "id": "1bc488f6-cb06-4404-9fa9-701af7558f87",
   "metadata": {},
   "source": [
    "## observational effects"
   ]
  },
  {
   "cell_type": "code",
   "execution_count": 44,
   "id": "42de65d8-7389-4f8d-a1ee-53ad7a0b204a",
   "metadata": {
    "execution": {
     "iopub.execute_input": "2022-03-26T07:05:37.641761Z",
     "iopub.status.busy": "2022-03-26T07:05:37.641411Z",
     "iopub.status.idle": "2022-03-26T07:05:37.722118Z",
     "shell.execute_reply": "2022-03-26T07:05:37.721685Z",
     "shell.execute_reply.started": "2022-03-26T07:05:37.641734Z"
    },
    "tags": []
   },
   "outputs": [
    {
     "name": "stdout",
     "output_type": "stream",
     "text": [
      "196.5\n"
     ]
    },
    {
     "data": {
      "application/vnd.jupyter.widget-view+json": {
       "model_id": "c7e5ed9ca1664b83b3c0e18765bc791b",
       "version_major": 2,
       "version_minor": 0
      },
      "text/plain": [
       "Canvas(toolbar=Toolbar(toolitems=[('Home', 'Reset original view', 'home', 'home'), ('Back', 'Back to previous …"
      ]
     },
     "metadata": {},
     "output_type": "display_data"
    },
    {
     "data": {
      "text/plain": [
       "(array([33., 23.,  9., 13.,  5.,  8.,  2.,  3.,  1.,  3.]),\n",
       " array([141. , 175.2, 209.4, 243.6, 277.8, 312. , 346.2, 380.4, 414.6,\n",
       "        448.8, 483. ]),\n",
       " <BarContainer object of 10 artists>)"
      ]
     },
     "execution_count": 44,
     "metadata": {},
     "output_type": "execute_result"
    }
   ],
   "source": [
    "idx_sel = np.where((group[:,4] > 0.8) & (group[:,4] < 1.2))[0] #select with Mh > 1e14 and z < 0.1\n",
    "Ng0 = group[idx_sel,1]\n",
    "print(np.median(Ng0[:100]))\n",
    "plt.figure()\n",
    "\n",
    "plt.hist(group[idx_sel,1][:100])"
   ]
  },
  {
   "cell_type": "code",
   "execution_count": 35,
   "id": "d1744e1d-7043-4b3b-9aca-cd7c3fd3f014",
   "metadata": {
    "execution": {
     "iopub.execute_input": "2022-03-25T05:25:32.705956Z",
     "iopub.status.busy": "2022-03-25T05:25:32.705588Z",
     "iopub.status.idle": "2022-03-25T05:25:32.713452Z",
     "shell.execute_reply": "2022-03-25T05:25:32.712964Z",
     "shell.execute_reply.started": "2022-03-25T05:25:32.705930Z"
    },
    "tags": []
   },
   "outputs": [],
   "source": [
    "def cal_Nsat(redz,redzbin):  \n",
    "    from astropy.cosmology import FlatLambdaCDM\n",
    "    from astropy import units as u\n",
    "    from astropy.coordinates import SkyCoord\n",
    "    cosmo = FlatLambdaCDM(H0=67.4, Om0=0.315)\n",
    "        \n",
    "    idx_sel = np.where((group[:,4] > redzbin[0]) & (group[:,4] < redzbin[1]))[0]\n",
    "    idx_sel = idx_sel[:100] #take 100 richness groups\n",
    "    clu_id = np.int64(group[idx_sel,0])\n",
    "    Nc = idx_sel.shape[0]\n",
    "    Nsat = np.zeros(Nc, dtype = np.int64)\n",
    "    for i in range(Nc):\n",
    "        idx_gal = np.where(d2[:,0] == clu_id[i])[0]\n",
    "        galid = np.int64(d2[idx_gal,1])\n",
    "        \n",
    "        gal_abm = digal[galid-1,5]\n",
    "\n",
    "        d_L = cosmo.luminosity_distance(redz).value * 0.674\n",
    "        Mc = 26 - 5*np.log10(d_L) - 25\n",
    "\n",
    "        Nsat[i] = np.where(gal_abm < Mc)[0].shape[0]\n",
    "        \n",
    "    print('z = %s: min %s, mean %s' %(redz, np.min(Nsat), np.mean(Nsat)))\n",
    "    return Nsat"
   ]
  },
  {
   "cell_type": "code",
   "execution_count": 45,
   "id": "3089eb4c-7db5-4974-a244-22f796e5dbc8",
   "metadata": {
    "execution": {
     "iopub.execute_input": "2022-03-26T07:10:16.022185Z",
     "iopub.status.busy": "2022-03-26T07:10:16.021896Z",
     "iopub.status.idle": "2022-03-26T07:10:17.239565Z",
     "shell.execute_reply": "2022-03-26T07:10:17.239049Z",
     "shell.execute_reply.started": "2022-03-26T07:10:16.022161Z"
    },
    "tags": []
   },
   "outputs": [
    {
     "name": "stdout",
     "output_type": "stream",
     "text": [
      "z = 5.4: min 0, mean 2.68\n",
      "2.0 2.68\n"
     ]
    }
   ],
   "source": [
    "Nsat = cal_Nsat(5.4,[0.8,1.2])\n",
    "print(np.median(Nsat), np.mean(Nsat))"
   ]
  },
  {
   "cell_type": "code",
   "execution_count": 41,
   "id": "10db75b9-c2e1-4c2c-b76f-20c05e3c302b",
   "metadata": {
    "execution": {
     "iopub.execute_input": "2022-03-25T05:26:51.715899Z",
     "iopub.status.busy": "2022-03-25T05:26:51.715539Z",
     "iopub.status.idle": "2022-03-25T05:26:51.720528Z",
     "shell.execute_reply": "2022-03-25T05:26:51.720037Z",
     "shell.execute_reply.started": "2022-03-25T05:26:51.715874Z"
    },
    "tags": []
   },
   "outputs": [
    {
     "data": {
      "text/plain": [
       "(2.68, 2.0)"
      ]
     },
     "execution_count": 41,
     "metadata": {},
     "output_type": "execute_result"
    }
   ],
   "source": [
    "np.mean(Nsat), np.median(Nsat)"
   ]
  },
  {
   "cell_type": "code",
   "execution_count": 42,
   "id": "8047c479-79ab-40d3-8264-e91cf6c5da77",
   "metadata": {
    "execution": {
     "iopub.execute_input": "2022-03-25T05:26:55.640397Z",
     "iopub.status.busy": "2022-03-25T05:26:55.639715Z",
     "iopub.status.idle": "2022-03-25T05:26:55.691545Z",
     "shell.execute_reply": "2022-03-25T05:26:55.690836Z",
     "shell.execute_reply.started": "2022-03-25T05:26:55.640364Z"
    },
    "tags": []
   },
   "outputs": [
    {
     "data": {
      "application/vnd.jupyter.widget-view+json": {
       "model_id": "c4c430061b1f4729931f215344cc910c",
       "version_major": 2,
       "version_minor": 0
      },
      "text/plain": [
       "Canvas(toolbar=Toolbar(toolitems=[('Home', 'Reset original view', 'home', 'home'), ('Back', 'Back to previous …"
      ]
     },
     "metadata": {},
     "output_type": "display_data"
    },
    {
     "data": {
      "text/plain": [
       "(array([11., 24., 16., 18., 13., 11.,  4.,  0.,  0.,  3.]),\n",
       " array([0. , 0.9, 1.8, 2.7, 3.6, 4.5, 5.4, 6.3, 7.2, 8.1, 9. ]),\n",
       " <BarContainer object of 10 artists>)"
      ]
     },
     "execution_count": 42,
     "metadata": {},
     "output_type": "execute_result"
    }
   ],
   "source": [
    "plt.figure()\n",
    "\n",
    "plt.hist(Nsat)"
   ]
  },
  {
   "cell_type": "markdown",
   "id": "c38422b5-7a6e-45dd-90a6-e6369d930d75",
   "metadata": {},
   "source": [
    "## summary plot"
   ]
  },
  {
   "cell_type": "code",
   "execution_count": 5,
   "id": "3a9b94e2-5600-4045-9a48-f955f496399e",
   "metadata": {
    "execution": {
     "iopub.execute_input": "2022-03-27T12:34:33.688045Z",
     "iopub.status.busy": "2022-03-27T12:34:33.687431Z",
     "iopub.status.idle": "2022-03-27T12:34:34.584920Z",
     "shell.execute_reply": "2022-03-27T12:34:34.584278Z",
     "shell.execute_reply.started": "2022-03-27T12:34:33.688018Z"
    },
    "tags": []
   },
   "outputs": [
    {
     "name": "stdout",
     "output_type": "stream",
     "text": [
      "redshift z >= 0, Ng >= 1: 11.8605\n",
      "redshift z >= 0, Ng >= 2: 12.199\n",
      "redshift z >= 0, Ng >= 3: 12.3239\n",
      "redshift z >= 0, Ng >= 5: 12.5023\n",
      "redshift z >= 0, Ng >= 10: 12.7854\n",
      "/n\n",
      "redshift z >= 1, Ng >= 1: 11.8869\n",
      "redshift z >= 1, Ng >= 2: 12.2697\n",
      "redshift z >= 1, Ng >= 3: 12.4907\n",
      "redshift z >= 1, Ng >= 5: 12.7659\n",
      "redshift z >= 1, Ng >= 10: 13.146\n",
      "/n\n",
      "redshift z >= 2, Ng >= 1: 11.8202\n",
      "redshift z >= 2, Ng >= 2: 12.2233\n",
      "redshift z >= 2, Ng >= 3: 12.499\n",
      "redshift z >= 2, Ng >= 5: 12.8274\n",
      "redshift z >= 2, Ng >= 10: 13.2462\n",
      "/n\n",
      "redshift z >= 3, Ng >= 1: 11.7791\n",
      "redshift z >= 3, Ng >= 2: 12.1465\n",
      "redshift z >= 3, Ng >= 3: 12.3999\n",
      "redshift z >= 3, Ng >= 5: 12.7853\n",
      "redshift z >= 3, Ng >= 10: 13.2989\n",
      "/n\n",
      "redshift z >= 4, Ng >= 1: 11.8677\n",
      "redshift z >= 4, Ng >= 2: 12.2151\n",
      "redshift z >= 4, Ng >= 3: 12.5458\n",
      "redshift z >= 4, Ng >= 5: 13.004750000000001\n",
      "/n\n",
      "redshift z >= 5, Ng >= 1: 11.9497\n",
      "redshift z >= 5, Ng >= 2: 12.19755\n",
      "redshift z >= 5, Ng >= 3: [12.7696]\n",
      "/n\n"
     ]
    }
   ],
   "source": [
    "Ng = np.array([1,2,3,5,10])\n",
    "z = np.array([0,1,2,3,4,5])\n",
    "\n",
    "for i in range(6):\n",
    "    for j in range(5):\n",
    "        idx = np.where((group[:,1] >= Ng[j]) & (group[:,4] >= z[i]))[0]\n",
    "        if len(idx) > 1:\n",
    "            Mh = group[idx,-2]\n",
    "            medM = np.median(Mh)\n",
    "            print('redshift z >= %s, Ng >= %s:' %(z[i], Ng[j]), medM)\n",
    "        elif len(idx) == 1:\n",
    "            print('redshift z >= %s, Ng >= %s:' %(z[i], Ng[j]), group[idx,-2])\n",
    "    print('/n')"
   ]
  },
  {
   "cell_type": "code",
   "execution_count": 9,
   "id": "c3aa8903-bb67-48b5-a400-66c9326dc3f4",
   "metadata": {
    "execution": {
     "iopub.execute_input": "2022-03-23T09:26:32.593709Z",
     "iopub.status.busy": "2022-03-23T09:26:32.593416Z",
     "iopub.status.idle": "2022-03-23T09:26:33.351505Z",
     "shell.execute_reply": "2022-03-23T09:26:33.351049Z",
     "shell.execute_reply.started": "2022-03-23T09:26:32.593679Z"
    },
    "tags": []
   },
   "outputs": [
    {
     "data": {
      "application/vnd.jupyter.widget-view+json": {
       "model_id": "889293766e874ea6a455a527bedb28ef",
       "version_major": 2,
       "version_minor": 0
      },
      "text/plain": [
       "Canvas(toolbar=Toolbar(toolitems=[('Home', 'Reset original view', 'home', 'home'), ('Back', 'Back to previous …"
      ]
     },
     "metadata": {},
     "output_type": "display_data"
    },
    {
     "data": {
      "text/plain": [
       "<matplotlib.legend.Legend at 0x7ff9517736d0>"
      ]
     },
     "execution_count": 9,
     "metadata": {},
     "output_type": "execute_result"
    }
   ],
   "source": [
    "Ng = np.array([1,2,3,5,10])\n",
    "z = np.array([0,1,2,3,4,5])\n",
    "call = np.array(['k','b','r','orange','cyan'])\n",
    "\n",
    "plt.figure()\n",
    "\n",
    "for i in range(6):\n",
    "    for j in range(5):\n",
    "        idx = np.where((group[:,1] >= Ng[j]) & (group[:,4] >= z[i]))[0]\n",
    "        if len(idx):\n",
    "            if i == 0:\n",
    "                plt.bar(i-0.3+j*0.15, idx.shape[0], color = call[j], \n",
    "                        width = 0.15, label = r'$N_{\\rm g} \\geq $ %s' %Ng[j])\n",
    "            else:\n",
    "                plt.bar(i-0.3+j*0.15, idx.shape[0], color = call[j], width = 0.15)\n",
    "            \n",
    "plt.yscale('log')\n",
    "\n",
    "ax = plt.gca()\n",
    "ax.set_xticks(np.arange(0,6,1))\n",
    "labels = ['total', r'$z \\geq 1$', r'$z \\geq 2$' , r'$z \\geq 3$', r'$z \\geq 4$', r'$z \\geq 5$']\n",
    "ax.set_xticklabels(labels)\n",
    "\n",
    "plt.ylabel(r'$N_{\\rm grp}$')\n",
    "\n",
    "plt.legend()"
   ]
  },
  {
   "cell_type": "code",
   "execution_count": 11,
   "id": "5a2a102d-29d7-4298-8a4a-43c3d1447a2c",
   "metadata": {
    "execution": {
     "iopub.execute_input": "2022-03-23T10:00:41.591521Z",
     "iopub.status.busy": "2022-03-23T10:00:41.591235Z",
     "iopub.status.idle": "2022-03-23T10:00:43.199368Z",
     "shell.execute_reply": "2022-03-23T10:00:43.198950Z",
     "shell.execute_reply.started": "2022-03-23T10:00:41.591497Z"
    },
    "tags": []
   },
   "outputs": [
    {
     "data": {
      "application/vnd.jupyter.widget-view+json": {
       "model_id": "23a6c93f818d446aba078e7c505f36f4",
       "version_major": 2,
       "version_minor": 0
      },
      "text/plain": [
       "Canvas(toolbar=Toolbar(toolitems=[('Home', 'Reset original view', 'home', 'home'), ('Back', 'Back to previous …"
      ]
     },
     "metadata": {},
     "output_type": "display_data"
    },
    {
     "data": {
      "text/plain": [
       "<matplotlib.legend.Legend at 0x7f293da2ded0>"
      ]
     },
     "execution_count": 11,
     "metadata": {},
     "output_type": "execute_result"
    }
   ],
   "source": [
    "Ng = np.array([1,2,3,5,10])\n",
    "z = np.array([0,1,2,3,4,5])\n",
    "call = np.array(['k','b','r','orange','cyan'])\n",
    "\n",
    "plt.figure()\n",
    "\n",
    "for i in range(6):\n",
    "    for j in range(5):\n",
    "        idx = np.where((group[:,1] >= Ng[j]) & (group[:,4] >= z[i]))[0]\n",
    "        if len(idx) > 1:\n",
    "            Mh = 10**group[idx,-2]\n",
    "            medM = np.median(Mh)\n",
    "            errM = np.percentile(Mh, [16,84])\n",
    "            yerr0 = np.log10(medM) - np.log10(errM[0])\n",
    "            yerr1 = np.log10(errM[1]) - np.log10(medM)\n",
    "            xx = i-0.3+j*0.15\n",
    "            if i == 0:\n",
    "                plt.errorbar(xx, np.log10(medM), yerr = [[yerr0],[yerr1]],\n",
    "                             marker = 'o', capsize = 2, c = call[j],\n",
    "                             label = r'$N_{\\rm g} \\geq $ %s' %Ng[j])\n",
    "            else:\n",
    "                plt.errorbar(xx, np.log10(medM),\n",
    "                             yerr = [[yerr0],[yerr1]],\n",
    "                             marker = 'o', capsize = 2, c = call[j])\n",
    "        elif len(idx) == 1:\n",
    "            Mh = 10**group[idx,-2]\n",
    "            plt.errorbar(i-0.3+j*0.15, np.log10(Mh),\n",
    "                             marker = 'o', capsize = 2, color = call[j])\n",
    "            \n",
    "\n",
    "ax = plt.gca()\n",
    "ax.set_xticks(np.arange(0,6,1))\n",
    "labels = ['total', r'$z \\geq 1$', r'$z \\geq 2$' , r'$z \\geq 3$', r'$z \\geq 4$', r'$z \\geq 5$']\n",
    "ax.set_xticklabels(labels)\n",
    "\n",
    "plt.ylabel(r'$\\log M_{\\rm h} [h^{-1} \\rm M_{\\odot}]$')\n",
    "\n",
    "plt.legend(loc = 'best')"
   ]
  },
  {
   "cell_type": "code",
   "execution_count": 19,
   "id": "033150f9-9369-4f74-94ea-c9aedcf50daf",
   "metadata": {
    "execution": {
     "iopub.execute_input": "2022-03-23T13:08:16.600030Z",
     "iopub.status.busy": "2022-03-23T13:08:16.599742Z",
     "iopub.status.idle": "2022-03-23T13:08:17.126305Z",
     "shell.execute_reply": "2022-03-23T13:08:17.125906Z",
     "shell.execute_reply.started": "2022-03-23T13:08:16.600006Z"
    },
    "tags": []
   },
   "outputs": [
    {
     "data": {
      "application/vnd.jupyter.widget-view+json": {
       "model_id": "4a7b1677c14740e5ac6833fb3f86c446",
       "version_major": 2,
       "version_minor": 0
      },
      "text/plain": [
       "Canvas(toolbar=Toolbar(toolitems=[('Home', 'Reset original view', 'home', 'home'), ('Back', 'Back to previous …"
      ]
     },
     "metadata": {},
     "output_type": "display_data"
    },
    {
     "data": {
      "text/plain": [
       "Text(0.5, 1.0, '12.06 < Mh < 12.43')"
      ]
     },
     "execution_count": 19,
     "metadata": {},
     "output_type": "execute_result"
    }
   ],
   "source": [
    "#\n",
    "idx = np.where((group[:,1] == 2) & (group[:,4] > 5))[0]\n",
    "grp2mass = 10**group[idx, -2]\n",
    "grp2err = np.percentile(grp2mass, [16,84])\n",
    "\n",
    "xrange = np.arange(0,5.5,0.5)\n",
    "xr = (xrange[1:] + xrange[:-1]) / 2\n",
    "\n",
    "plt.figure()\n",
    "\n",
    "for i in range(xrange.shape[0]-1):\n",
    "    idxsel = np.where((group[:,4] >= xrange[i]) & (group[:,4] < xrange[i+1]) &\n",
    "                     (group[:,-2] > np.log10(grp2err[0])) & (group[:,-2] < np.log10(grp2err[1])))[0]\n",
    "    Ngsel = group[idxsel,1]\n",
    "    medN = np.median(Ngsel)\n",
    "    errN = np.percentile(Ngsel, [16,84])\n",
    "    plt.errorbar(xr[i], medN, yerr = [[errN[0]], [errN[1]]], marker = 'o', capsize = 2, c = 'b')\n",
    "    \n",
    "plt.xlabel('z')\n",
    "plt.ylabel(r'$N_{g}$')\n",
    "plt.title('%.2f < Mh < %.2f' %(np.log10(grp2err[0]), np.log10(grp2err[1])))"
   ]
  },
  {
   "cell_type": "code",
   "execution_count": 15,
   "id": "bbf989fc-b021-441d-bae2-e4077002c9bf",
   "metadata": {
    "execution": {
     "iopub.execute_input": "2022-03-23T12:52:51.593149Z",
     "iopub.status.busy": "2022-03-23T12:52:51.592871Z",
     "iopub.status.idle": "2022-03-23T12:52:51.596914Z",
     "shell.execute_reply": "2022-03-23T12:52:51.596512Z",
     "shell.execute_reply.started": "2022-03-23T12:52:51.593127Z"
    },
    "tags": []
   },
   "outputs": [
    {
     "data": {
      "text/plain": [
       "array([0. , 0.5, 1. , 1.5, 2. , 2.5, 3. , 3.5, 4. , 4.5, 5. ])"
      ]
     },
     "execution_count": 15,
     "metadata": {},
     "output_type": "execute_result"
    }
   ],
   "source": [
    "xrange"
   ]
  },
  {
   "cell_type": "code",
   "execution_count": null,
   "id": "985c4968-c603-4b80-be9e-8b095c011a80",
   "metadata": {},
   "outputs": [],
   "source": []
  }
 ],
 "metadata": {
  "kernelspec": {
   "display_name": "mamba-python3",
   "language": "python",
   "name": "mamba-python3"
  },
  "language_info": {
   "codemirror_mode": {
    "name": "ipython",
    "version": 3
   },
   "file_extension": ".py",
   "mimetype": "text/x-python",
   "name": "python",
   "nbconvert_exporter": "python",
   "pygments_lexer": "ipython3",
   "version": "3.7.10"
  }
 },
 "nbformat": 4,
 "nbformat_minor": 5
}
