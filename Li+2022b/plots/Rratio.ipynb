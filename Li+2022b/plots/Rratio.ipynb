{
 "cells": [
  {
   "cell_type": "code",
   "execution_count": 1,
   "metadata": {
    "execution": {
     "iopub.execute_input": "2022-02-23T13:55:49.344569Z",
     "iopub.status.busy": "2022-02-23T13:55:49.344196Z",
     "iopub.status.idle": "2022-02-23T13:55:49.764090Z",
     "shell.execute_reply": "2022-02-23T13:55:49.763573Z",
     "shell.execute_reply.started": "2022-02-23T13:55:49.344493Z"
    },
    "tags": []
   },
   "outputs": [],
   "source": [
    "# %pylab notebook\n",
    "import numpy as np \n",
    "import h5py\n",
    "import matplotlib.pyplot as plt\n",
    "%matplotlib ipympl"
   ]
  },
  {
   "cell_type": "code",
   "execution_count": 2,
   "metadata": {
    "execution": {
     "iopub.execute_input": "2022-02-23T13:55:50.287978Z",
     "iopub.status.busy": "2022-02-23T13:55:50.287631Z",
     "iopub.status.idle": "2022-02-23T13:57:04.881424Z",
     "shell.execute_reply": "2022-02-23T13:57:04.880857Z",
     "shell.execute_reply.started": "2022-02-23T13:55:50.287951Z"
    },
    "tags": []
   },
   "outputs": [],
   "source": [
    "'''\n",
    "column 1: group ID\n",
    "column 2: richness\n",
    "column 3: ra\n",
    "column 4: dec\n",
    "column 5: redshift\n",
    "column 6: log M_h/(M_sun/h)\n",
    "column 7: L_group (10^10Lsun/h/h)\n",
    "'''\n",
    "\n",
    "dgroup = np.loadtxt('../odata/CLAUDS_HSC_iband_group')\n",
    "d2 = np.loadtxt('../odata/iCLAUDS_HSC_iband_2')\n",
    "digal = np.loadtxt('../odata/CLAUDS_HSC_iband_igal')"
   ]
  },
  {
   "cell_type": "code",
   "execution_count": 3,
   "metadata": {
    "execution": {
     "iopub.execute_input": "2022-02-23T13:57:18.309758Z",
     "iopub.status.busy": "2022-02-23T13:57:18.309478Z",
     "iopub.status.idle": "2022-02-23T13:57:18.321542Z",
     "shell.execute_reply": "2022-02-23T13:57:18.321079Z",
     "shell.execute_reply.started": "2022-02-23T13:57:18.309734Z"
    },
    "tags": []
   },
   "outputs": [],
   "source": [
    "def sigma2dis(m_m0,c_c0,chi2k,prisig):\n",
    "    mave = np.mean(m_m0)\n",
    "    cave = np.mean(c_c0)\n",
    "    msigma = np.std(m_m0,ddof = 1)\n",
    "    csigma = np.std(c_c0,ddof = 1)\n",
    "    pcov = np.cov(m_m0,c_c0)[0][1] / msigma / csigma\n",
    "    if prisig == True:\n",
    "        print(np.cov(m_m0,c_c0),msigma,csigma)\n",
    "        print('The correlation coefficience is %s' %pcov)\n",
    "    # pos = np.zeros(shape = (m_m0.shape[0],2))\n",
    "    # pos[:,0] = datafit[loc,0] / dataCM[:,2] * 1e15\n",
    "    # pos[:,1] = datafit[loc,1] / dataCM[:,6]\n",
    "    # cov=np.cov(np.log10(pos).T)\n",
    "    # l1=plot_cov_ellipse(cov, np.log10(pos).mean(axis=0), color='green', fill=0)\n",
    "    # print(np.log10(pos).mean(axis=0),mave,cave)\n",
    "\n",
    "    def gaussian2(xx,yy):\n",
    "        A = 1 / 2 / np.pi / msigma / csigma / np.sqrt(1 - pcov**2)\n",
    "        B = (xx - mave)**2 / msigma**2 + (yy - cave)**2 / csigma**2 - 2*pcov*(xx - mave)*(yy - cave) / msigma / csigma\n",
    "        return A * np.exp(-1 / 2 / (1 - pcov**2) * B)\n",
    "\n",
    "    xx = np.linspace(mave-0.01,mave+0.01,400)\n",
    "    yy = np.linspace(cave-0.01,cave+0.01,400)\n",
    "    X,Y = np.meshgrid(xx,yy)\n",
    "    Z = gaussian2(X,Y)\n",
    "\n",
    "    k1 = np.exp(-chi2k / 2) / 2 / np.pi / msigma / csigma / np.sqrt(1 - pcov**2)\n",
    "    sigmalevel = [k1]\n",
    "    return X,Y,Z,sigmalevel\n",
    "\n",
    "def plot_elp(m_m0,c_c0,chi2k):\n",
    "    mave = np.mean(m_m0)\n",
    "    cave = np.mean(c_c0)\n",
    "    cov = np.cov(m_m0,c_c0)\n",
    "    \n",
    "    sig2m = cov[0,0]\n",
    "    sig2c = cov[1,1]\n",
    "    sigmc = cov[0,1]\n",
    "    n1 = 1/2*(sig2m+sig2c+((sig2m-sig2c)**2+4*sigmc**2)**0.5) #to large eig\n",
    "    n2 = 1/2*(sig2m+sig2c-((sig2m-sig2c)**2+4*sigmc**2)**0.5) #to samll eig\n",
    "    vals, vecs = np.linalg.eig(cov)\n",
    "    invT = np.linalg.inv(vecs)\n",
    "\n",
    "    a = invT[0,0]\n",
    "    b = invT[0,1]\n",
    "    c = invT[1,0]\n",
    "    d = invT[1,1]\n",
    "    \n",
    "    def elp(xx,yy):\n",
    "        w1 = a*(xx-mave)+b*(yy-cave)\n",
    "        w2 = c*(xx-mave)+d*(yy-cave)\n",
    "        return w1**2/vals[0] + w2**2/vals[1]\n",
    "    \n",
    "    xx = np.linspace(mave-0.01,mave+0.01,400)\n",
    "    yy = np.linspace(cave-0.01,cave+0.01,400)\n",
    "    X,Y = np.meshgrid(xx,yy)\n",
    "    Z = elp(X,Y)\n",
    "    \n",
    "    len1 = 2*(chi2k*n1)**0.5\n",
    "    len2 = 2*(chi2k*n2)**0.5\n",
    "    if len1 > len2:\n",
    "        print('ratio between large and small axis',len2/len1)\n",
    "    else:\n",
    "        print('ratio between large and small axis',len1/len2)\n",
    "    return X,Y,Z"
   ]
  },
  {
   "cell_type": "code",
   "execution_count": 4,
   "metadata": {
    "execution": {
     "iopub.execute_input": "2022-02-23T13:57:19.236624Z",
     "iopub.status.busy": "2022-02-23T13:57:19.236344Z",
     "iopub.status.idle": "2022-02-23T13:57:19.243659Z",
     "shell.execute_reply": "2022-02-23T13:57:19.243231Z",
     "shell.execute_reply.started": "2022-02-23T13:57:19.236602Z"
    },
    "tags": []
   },
   "outputs": [],
   "source": [
    "def cal_axis_ratio(m_m0,c_c0,chi2k):\n",
    "    cov = np.cov(m_m0,c_c0)\n",
    "    \n",
    "    sig2m = cov[0,0]\n",
    "    sig2c = cov[1,1]\n",
    "    sigmc = cov[0,1]\n",
    "    n1 = 1/2*(sig2m+sig2c+((sig2m-sig2c)**2+4*sigmc**2)**0.5) #to large eig\n",
    "    n2 = 1/2*(sig2m+sig2c-((sig2m-sig2c)**2+4*sigmc**2)**0.5) #to samll eig\n",
    "    \n",
    "    len1 = 2*(chi2k*n1)**0.5\n",
    "    len2 = 2*(chi2k*n2)**0.5\n",
    "    if len1 > len2:\n",
    "        return len2/len1\n",
    "    else:\n",
    "        return len1/len2\n",
    "\n",
    "def sample_group(id_group, redrange):\n",
    "    groupid = np.int64(dgroup[id_group,0])\n",
    "    Ngroup = id_group.shape[0]\n",
    "    print(Ngroup)\n",
    "    ax_ratio = np.zeros(Ngroup)\n",
    "    for i in range(Ngroup):\n",
    "        cluid = groupid[i]\n",
    "        clura = dgroup[cluid-1,2]\n",
    "        cludec = dgroup[cluid-1,3]\n",
    "        memid = np.int64(d2[d2[:,0]==cluid,1])\n",
    "        if redrange == 'low' and memid.shape[0] <= 5:\n",
    "            memabmag = digal[memid,5]\n",
    "            sortid = np.argsort(memabmag)[:5]\n",
    "            memid = memid[sortid]\n",
    "            \n",
    "        memra = digal[memid-1,1]\n",
    "        memdec = digal[memid-1,2]\n",
    "        \n",
    "        \n",
    "        ax_ratio[i] = cal_axis_ratio(memra,memdec,chi2k = 2.3)\n",
    "    return ax_ratio,Ngroup"
   ]
  },
  {
   "cell_type": "markdown",
   "metadata": {},
   "source": [
    "## Halo mass distribution"
   ]
  },
  {
   "cell_type": "code",
   "execution_count": 5,
   "metadata": {
    "execution": {
     "iopub.execute_input": "2022-02-23T13:57:22.621023Z",
     "iopub.status.busy": "2022-02-23T13:57:22.620740Z",
     "iopub.status.idle": "2022-02-23T13:58:34.692630Z",
     "shell.execute_reply": "2022-02-23T13:58:34.691816Z",
     "shell.execute_reply.started": "2022-02-23T13:57:22.621001Z"
    },
    "tags": []
   },
   "outputs": [
    {
     "name": "stdout",
     "output_type": "stream",
     "text": [
      "82\n",
      "mass range is  12.491700000000002 12.920371999999999\n",
      "3557\n"
     ]
    },
    {
     "name": "stderr",
     "output_type": "stream",
     "text": [
      "/opt/anaconda-mamba/envs/mamba-python3/lib/python3.7/site-packages/ipykernel_launcher.py:11: RuntimeWarning: invalid value encountered in double_scalars\n",
      "  # This is added back by InteractiveShellApp.init_path()\n",
      "/opt/anaconda-mamba/envs/mamba-python3/lib/python3.7/site-packages/ipykernel_launcher.py:2: RuntimeWarning: Degrees of freedom <= 0 for slice\n",
      "  \n",
      "/opt/anaconda-mamba/envs/mamba-python3/lib/python3.7/site-packages/numpy/lib/function_base.py:2542: RuntimeWarning: divide by zero encountered in true_divide\n",
      "  c *= np.true_divide(1, fact)\n",
      "/opt/anaconda-mamba/envs/mamba-python3/lib/python3.7/site-packages/numpy/lib/function_base.py:2542: RuntimeWarning: invalid value encountered in multiply\n",
      "  c *= np.true_divide(1, fact)\n"
     ]
    }
   ],
   "source": [
    "redz = [3.2,3.6]\n",
    "nmemdown = 5\n",
    "nmemup = 5\n",
    "id_group0 = np.where((dgroup[:,4] > redz[0]) & (dgroup[:,4] < redz[1]) & (dgroup[:,3] < 50)\n",
    "                    & (dgroup[:,1] >= nmemdown) & (dgroup[:,1] <= nmemup))[0]\n",
    "ax_ratio0,Ngrp0 = sample_group(id_group0,'high')\n",
    "\n",
    "\n",
    "redz = [0,0.4]\n",
    "Mherr = np.percentile(dgroup[id_group0,-2], [16,84])\n",
    "Mhdown = Mherr[0]\n",
    "Mhup = Mherr[1]\n",
    "print(\"mass range is \", Mhdown, Mhup)\n",
    "id_group = np.where((dgroup[:,4] > redz[0]) & (dgroup[:,4] < redz[1]) & (dgroup[:,3] < 50)\n",
    "                   & (dgroup[:,-2] > Mhdown) & (dgroup[:,-2] < Mhup))[0]\n",
    "ax_ratio,Ngrp = sample_group(id_group,'low')"
   ]
  },
  {
   "cell_type": "code",
   "execution_count": 7,
   "metadata": {
    "execution": {
     "iopub.execute_input": "2022-02-23T14:00:58.471186Z",
     "iopub.status.busy": "2022-02-23T14:00:58.470868Z",
     "iopub.status.idle": "2022-02-23T14:00:58.630478Z",
     "shell.execute_reply": "2022-02-23T14:00:58.629952Z",
     "shell.execute_reply.started": "2022-02-23T14:00:58.471161Z"
    },
    "tags": []
   },
   "outputs": [
    {
     "data": {
      "application/vnd.jupyter.widget-view+json": {
       "model_id": "1ecd58b4cdc04753aa58ad86474c8d24",
       "version_major": 2,
       "version_minor": 0
      },
      "text/plain": [
       "Canvas(toolbar=Toolbar(toolitems=[('Home', 'Reset original view', 'home', 'home'), ('Back', 'Back to previous …"
      ]
     },
     "metadata": {},
     "output_type": "display_data"
    }
   ],
   "source": [
    "plt.figure(figsize = (5.3,4.0))\n",
    "import matplotlib as mpl\n",
    "mpl.rcParams['axes.linewidth'] = 1.2 #set the value globally\n",
    "\n",
    "\n",
    "plt.hist(ax_ratio0, bins = 15, alpha = 0.8, range = (0,1), \n",
    "         label = '%s < $z$ < %s' %(3.2,3.6), density = True)\n",
    "\n",
    "plt.hist(ax_ratio, bins = 15, alpha = 1, range = (0,1), histtype = 'step', ls = '--', color = 'r', lw = 2,\n",
    "         label = '%s < $z$ < %s' %(0,0.4), density = True)\n",
    "\n",
    "plt.legend(loc = 2)\n",
    "plt.xlim(0,1)\n",
    "plt.xlabel(r'$\\gamma_{\\rm ab}$', fontsize = 14)\n",
    "plt.tick_params(top = 'on', right = 'on', which='both', direction = 'in', labelsize = 12)\n",
    "plt.ylabel(r'$\\rm PDF$', fontsize = 14)\n",
    "\n",
    "plt.tight_layout()\n",
    "plt.savefig('../figs/gamma.pdf')"
   ]
  },
  {
   "cell_type": "code",
   "execution_count": null,
   "metadata": {},
   "outputs": [],
   "source": []
  },
  {
   "cell_type": "code",
   "execution_count": null,
   "metadata": {},
   "outputs": [],
   "source": []
  },
  {
   "cell_type": "code",
   "execution_count": null,
   "metadata": {},
   "outputs": [],
   "source": []
  },
  {
   "cell_type": "code",
   "execution_count": null,
   "metadata": {},
   "outputs": [],
   "source": []
  },
  {
   "cell_type": "code",
   "execution_count": null,
   "metadata": {},
   "outputs": [],
   "source": []
  },
  {
   "cell_type": "code",
   "execution_count": 49,
   "metadata": {
    "execution": {
     "iopub.execute_input": "2021-11-11T05:34:26.830032Z",
     "iopub.status.busy": "2021-11-11T05:34:26.829760Z",
     "iopub.status.idle": "2021-11-11T05:34:26.912720Z",
     "shell.execute_reply": "2021-11-11T05:34:26.912305Z",
     "shell.execute_reply.started": "2021-11-11T05:34:26.830004Z"
    }
   },
   "outputs": [
    {
     "data": {
      "application/vnd.jupyter.widget-view+json": {
       "model_id": "f665d0272b724670a19c17ae26fea4fd",
       "version_major": 2,
       "version_minor": 0
      },
      "text/plain": [
       "Canvas(toolbar=Toolbar(toolitems=[('Home', 'Reset original view', 'home', 'home'), ('Back', 'Back to previous …"
      ]
     },
     "metadata": {},
     "output_type": "display_data"
    },
    {
     "name": "stdout",
     "output_type": "stream",
     "text": [
      "8.0\n"
     ]
    }
   ],
   "source": [
    "# redz = [0.0,0.4]\n",
    "# nmemdown = 4\n",
    "# nmemup = 8\n",
    "# Mhdown = 12.15\n",
    "# Mhup = 12.46\n",
    "# id_group = np.where((dgroup[:,4] >= redz[0]) & (dgroup[:,4] < redz[1]) \n",
    "#                     & (dgroup[:,1] >= nmemdown) & (dgroup[:,1] <= nmemup))[0]\n",
    "\n",
    "# plt.figure()\n",
    "\n",
    "# plt.hist(dgroup[id_group,1])\n",
    "# print(np.max(dgroup[id_group,1]))"
   ]
  },
  {
   "cell_type": "code",
   "execution_count": null,
   "metadata": {},
   "outputs": [],
   "source": [
    "# plt.hist(ax_ratio, bins = 15, alpha = 0.3, range = (0,1), \n",
    "#          label = '%s < z < %s (%s)' %(redz[0],redz[1],Ngrp), weights = np.tile(1/Ngrp,Ngrp))"
   ]
  }
 ],
 "metadata": {
  "kernelspec": {
   "display_name": "mamba-python3",
   "language": "python",
   "name": "mamba-python3"
  },
  "language_info": {
   "codemirror_mode": {
    "name": "ipython",
    "version": 3
   },
   "file_extension": ".py",
   "mimetype": "text/x-python",
   "name": "python",
   "nbconvert_exporter": "python",
   "pygments_lexer": "ipython3",
   "version": "3.7.10"
  }
 },
 "nbformat": 4,
 "nbformat_minor": 4
}
