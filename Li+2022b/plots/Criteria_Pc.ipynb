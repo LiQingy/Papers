{
 "cells": [
  {
   "cell_type": "code",
   "execution_count": 1,
   "id": "cb2b4ff2-dbff-4855-b9d4-d03f54f73c1a",
   "metadata": {
    "execution": {
     "iopub.execute_input": "2022-03-26T12:40:33.890940Z",
     "iopub.status.busy": "2022-03-26T12:40:33.890480Z",
     "iopub.status.idle": "2022-03-26T12:40:35.071653Z",
     "shell.execute_reply": "2022-03-26T12:40:35.071037Z",
     "shell.execute_reply.started": "2022-03-26T12:40:33.890793Z"
    },
    "tags": []
   },
   "outputs": [],
   "source": [
    "import numpy as np \n",
    "from astropy.io import fits\n",
    "import matplotlib.pyplot as plt\n",
    "import pandas as pd\n",
    "%matplotlib ipympl"
   ]
  },
  {
   "cell_type": "code",
   "execution_count": 2,
   "id": "ea4578e0-488c-4fe9-bda1-9b7229533281",
   "metadata": {
    "execution": {
     "iopub.execute_input": "2022-03-26T12:40:41.198901Z",
     "iopub.status.busy": "2022-03-26T12:40:41.198572Z",
     "iopub.status.idle": "2022-03-26T12:42:26.401728Z",
     "shell.execute_reply": "2022-03-26T12:42:26.401100Z",
     "shell.execute_reply.started": "2022-03-26T12:40:41.198878Z"
    },
    "tags": []
   },
   "outputs": [],
   "source": [
    "dgroup = np.loadtxt('../odata/CLAUDS_HSC_iband_group')\n",
    "digal = np.loadtxt('../odata/CLAUDS_HSC_iband_igal')\n",
    "d2 = np.loadtxt('../odata/iCLAUDS_HSC_iband_2')\n",
    "d1 = np.loadtxt('../odata/iCLAUDS_HSC_iband_1')"
   ]
  },
  {
   "cell_type": "code",
   "execution_count": 5,
   "id": "adfd8d5b-5ae7-49d1-9dd9-fde1dede5ad8",
   "metadata": {
    "execution": {
     "iopub.execute_input": "2022-03-26T12:48:03.434968Z",
     "iopub.status.busy": "2022-03-26T12:48:03.434639Z",
     "iopub.status.idle": "2022-03-26T12:48:15.161269Z",
     "shell.execute_reply": "2022-03-26T12:48:15.160670Z",
     "shell.execute_reply.started": "2022-03-26T12:48:03.434946Z"
    },
    "tags": []
   },
   "outputs": [],
   "source": [
    "#recode id for reference sample\n",
    "from astropy.cosmology import FlatLambdaCDM\n",
    "from astropy import units as u\n",
    "from astropy.coordinates import SkyCoord\n",
    "cosmo = FlatLambdaCDM(H0=67.4, Om0=0.315)\n",
    "\n",
    "idx_sel = np.where((dgroup[:,-2] > 14) & (dgroup[:,4] < 0.3))[0] #select with Mh > 1e14 and z < 0.1\n",
    "clu_id = np.int64(dgroup[idx_sel,0])\n",
    "Nc = idx_sel.shape[0]\n",
    "Nsat = np.zeros(Nc, dtype = np.int64)\n",
    "\n",
    "referen_id = []\n",
    "for i in range(Nc):\n",
    "    cid = np.int64(dgroup[idx_sel[i],0])\n",
    "    credz = dgroup[idx_sel[i],4]\n",
    "    cra = dgroup[idx_sel[i],2]\n",
    "    cdec = dgroup[idx_sel[i],3]\n",
    "    cn = dgroup[idx_sel[i],1]\n",
    "\n",
    "    idx_gal = np.where(d2[:,0] == cid)[0]\n",
    "    galid = np.int64(d2[idx_gal,1])\n",
    "    memra = digal[galid-1,1]\n",
    "    memdec = digal[galid-1,2]\n",
    "    memredz = digal[galid-1,3]\n",
    "    d_r = cal_rp(memredz,credz,memra,memdec,cra,cdec)\n",
    "    edge_r = np.max(d_r) #choose the most distant member distance\n",
    "\n",
    "#         import linecache\n",
    "#         fprop = '../odata/CLAUDS_HSC_iband_prop'\n",
    "#         nline = 1+(cid-1)*6\n",
    "#         gprop = linecache.getline(fprop,nline)\n",
    "#         phyp = [float(prop) for prop in gprop.split()]\n",
    "#         r180 = phyp[-2] #unit:Mpc/h\n",
    "\n",
    "    idx_ag = np.where((np.abs(digal[:,1] - cra) < 0.7) & (np.abs(digal[:,2] - cdec) < 0.5) &\n",
    "                     (np.abs(digal[:,3] - credz) < 0.1))[0] \n",
    "    ag_abm = digal[idx_ag,5] #absolute magnitude of galaxies\n",
    "    ag_ra = digal[idx_ag,1]\n",
    "    ag_dec = digal[idx_ag,2] \n",
    "    ag_redz = digal[idx_ag,3]\n",
    "    ag_id = np.int64(digal[idx_ag,0])\n",
    "    d_r = cal_rp(ag_redz,credz,ag_ra,ag_dec,cra,cdec)\n",
    "\n",
    "    idx_inr = np.where(d_r < edge_r)[0]\n",
    "    referen_id.append(ag_id[idx_inr])"
   ]
  },
  {
   "cell_type": "code",
   "execution_count": 4,
   "id": "25aa6ca8-016c-483c-807e-a005c52af119",
   "metadata": {
    "execution": {
     "iopub.execute_input": "2022-03-26T12:47:58.551199Z",
     "iopub.status.busy": "2022-03-26T12:47:58.550870Z",
     "iopub.status.idle": "2022-03-26T12:47:58.557775Z",
     "shell.execute_reply": "2022-03-26T12:47:58.557338Z",
     "shell.execute_reply.started": "2022-03-26T12:47:58.551176Z"
    },
    "tags": []
   },
   "outputs": [],
   "source": [
    "def cal_rp(ag_redz,c_redz,ag_ra,ag_dec,c_ra,c_dec):\n",
    "    from astropy.cosmology import FlatLambdaCDM\n",
    "    from astropy import units as u\n",
    "    from astropy.coordinates import SkyCoord\n",
    "    cosmo = FlatLambdaCDM(H0=67.4, Om0=0.315)\n",
    "    \n",
    "    dr_gal = cosmo.comoving_distance(ag_redz).value * 0.674 #Mpc/h\n",
    "    dr_clu = cosmo.comoving_distance(c_redz).value * 0.674 #Mpc/h\n",
    "\n",
    "    cgal = SkyCoord(ra=ag_ra*u.degree, dec=ag_dec*u.degree, distance=dr_gal)\n",
    "    cclu = SkyCoord(ra=c_ra*u.degree, dec=c_dec*u.degree, distance=dr_clu)\n",
    "    cgal_x = cgal.cartesian.x\n",
    "    cgal_y = cgal.cartesian.y\n",
    "    cgal_z = cgal.cartesian.z\n",
    "\n",
    "    cclu_x = cclu.cartesian.x\n",
    "    cclu_y = cclu.cartesian.y\n",
    "    cclu_z = cclu.cartesian.z\n",
    "\n",
    "    l = np.array([cgal_x+cclu_x, cgal_y+cclu_y, cgal_z+cclu_z]).T / 2\n",
    "    s = np.array([cclu_x - cgal_x, cclu_y - cgal_y, cclu_z - cgal_z]).T\n",
    "    r_pi = np.sum(l*s,axis = 1) / np.sqrt(np.sum(l**2, axis = 1)) \n",
    "    r_p = np.sqrt(np.sum(s**2,axis = 1) - r_pi**2)\n",
    "    \n",
    "    return r_p"
   ]
  },
  {
   "cell_type": "code",
   "execution_count": 6,
   "id": "8fbf1c90-7015-4ca8-8d5f-54128c978ac0",
   "metadata": {
    "execution": {
     "iopub.execute_input": "2022-03-26T12:48:15.162868Z",
     "iopub.status.busy": "2022-03-26T12:48:15.162317Z",
     "iopub.status.idle": "2022-03-26T12:48:15.168003Z",
     "shell.execute_reply": "2022-03-26T12:48:15.167516Z",
     "shell.execute_reply.started": "2022-03-26T12:48:15.162844Z"
    },
    "tags": []
   },
   "outputs": [],
   "source": [
    "def cal_Nsat(redz):  \n",
    "    from astropy.cosmology import FlatLambdaCDM\n",
    "    from astropy import units as u\n",
    "    from astropy.coordinates import SkyCoord\n",
    "    cosmo = FlatLambdaCDM(H0=67.4, Om0=0.315)\n",
    "        \n",
    "    idx_sel = np.where((dgroup[:,-2] > 14) & (dgroup[:,4] < 0.3))[0] #select with Mh > 1e14 and z < 0.1\n",
    "    clu_id = np.int64(dgroup[idx_sel,0])\n",
    "    Nc = idx_sel.shape[0]\n",
    "    Nsat = np.zeros(Nc, dtype = np.int64)\n",
    "    for i in range(Nc):\n",
    "        gal_abm = digal[referen_id[i]-1,5]\n",
    "\n",
    "        d_L = cosmo.luminosity_distance(redz).value * 0.674\n",
    "        Mc = 26 - 5*np.log10(d_L) - 25\n",
    "\n",
    "        Nsat[i] = np.where(gal_abm < Mc)[0].shape[0]\n",
    "    print('z = %s: min %s, mean %s' %(redz, np.min(Nsat), np.mean(Nsat)))\n",
    "    return Nsat"
   ]
  },
  {
   "cell_type": "code",
   "execution_count": 6,
   "id": "99b44fc4-ae08-4618-88d7-88e4f0402a70",
   "metadata": {
    "execution": {
     "iopub.execute_input": "2022-02-22T04:54:55.619314Z",
     "iopub.status.busy": "2022-02-22T04:54:55.619014Z",
     "iopub.status.idle": "2022-02-22T04:55:06.384956Z",
     "shell.execute_reply": "2022-02-22T04:55:06.384328Z",
     "shell.execute_reply.started": "2022-02-22T04:54:55.619288Z"
    },
    "tags": []
   },
   "outputs": [
    {
     "name": "stdout",
     "output_type": "stream",
     "text": [
      "z = 4: min 26, mean 56.111111111111114\n"
     ]
    },
    {
     "data": {
      "text/plain": [
       "array([ 54,  80,  89, 109,  83, 170,  68,  75,  34,  61,  52,  45,  78,\n",
       "        48,  58,  51,  58,  37,  38,  42,  38,  32,  39,  62,  74,  29,\n",
       "        36,  26,  37,  39,  70,  39,  62,  42,  33,  32])"
      ]
     },
     "execution_count": 6,
     "metadata": {},
     "output_type": "execute_result"
    }
   ],
   "source": [
    "# gid = [16586, 20048, 57726]\n",
    "\n",
    "cal_Nsat(4)"
   ]
  },
  {
   "cell_type": "code",
   "execution_count": 7,
   "id": "084273c8-1d15-4b17-a429-cc829227f143",
   "metadata": {
    "execution": {
     "iopub.execute_input": "2022-03-26T12:48:21.679961Z",
     "iopub.status.busy": "2022-03-26T12:48:21.679641Z",
     "iopub.status.idle": "2022-03-26T12:48:23.098899Z",
     "shell.execute_reply": "2022-03-26T12:48:23.098275Z",
     "shell.execute_reply.started": "2022-03-26T12:48:21.679938Z"
    },
    "tags": []
   },
   "outputs": [
    {
     "name": "stdout",
     "output_type": "stream",
     "text": [
      "z = 2.0: min 180, mean 345.3333333333333\n",
      "0\n",
      "z = 2.046938775510204: min 173, mean 332.3333333333333\n",
      "1\n",
      "z = 2.093877551020408: min 167, mean 319.19444444444446\n",
      "2\n",
      "z = 2.1408163265306124: min 161, mean 307.25\n",
      "3\n",
      "z = 2.1877551020408164: min 157, mean 294.8888888888889\n",
      "4\n",
      "z = 2.2346938775510203: min 149, mean 283.8888888888889\n",
      "5\n",
      "z = 2.2816326530612243: min 142, mean 273.55555555555554\n",
      "6\n",
      "z = 2.3285714285714283: min 138, mean 263.02777777777777\n",
      "7\n",
      "z = 2.3755102040816327: min 135, mean 252.58333333333334\n",
      "8\n",
      "z = 2.4224489795918367: min 128, mean 242.16666666666666\n",
      "9\n",
      "z = 2.4693877551020407: min 118, mean 232.69444444444446\n",
      "10\n",
      "z = 2.516326530612245: min 113, mean 224.08333333333334\n",
      "11\n",
      "z = 2.5632653061224486: min 108, mean 215.13888888888889\n",
      "12\n",
      "z = 2.610204081632653: min 101, mean 207.19444444444446\n",
      "13\n",
      "z = 2.657142857142857: min 98, mean 199.38888888888889\n",
      "14\n",
      "z = 2.704081632653061: min 93, mean 191.25\n",
      "15\n",
      "z = 2.7510204081632654: min 90, mean 183.88888888888889\n",
      "16\n",
      "z = 2.7979591836734694: min 87, mean 177.27777777777777\n",
      "17\n",
      "z = 2.8448979591836734: min 85, mean 169.27777777777777\n",
      "18\n",
      "z = 2.8918367346938774: min 81, mean 161.58333333333334\n",
      "19\n",
      "z = 2.9387755102040813: min 79, mean 154.63888888888889\n",
      "20\n",
      "z = 2.9857142857142858: min 76, mean 148.91666666666666\n",
      "21\n",
      "z = 3.0326530612244897: min 72, mean 142.69444444444446\n",
      "22\n",
      "z = 3.0795918367346937: min 68, mean 136.19444444444446\n",
      "23\n",
      "z = 3.1265306122448977: min 67, mean 131.13888888888889\n",
      "24\n",
      "z = 3.1734693877551017: min 65, mean 126.02777777777777\n",
      "25\n",
      "z = 3.220408163265306: min 61, mean 120.47222222222223\n",
      "26\n",
      "z = 3.26734693877551: min 58, mean 115.05555555555556\n",
      "27\n",
      "z = 3.314285714285714: min 56, mean 110.33333333333333\n",
      "28\n",
      "z = 3.3612244897959185: min 56, mean 105.11111111111111\n",
      "29\n",
      "z = 3.408163265306122: min 53, mean 100.41666666666667\n",
      "30\n",
      "z = 3.4551020408163264: min 49, mean 95.75\n",
      "31\n",
      "z = 3.5020408163265304: min 45, mean 91.30555555555556\n",
      "32\n",
      "z = 3.5489795918367344: min 43, mean 87.52777777777777\n",
      "33\n",
      "z = 3.595918367346939: min 43, mean 83.66666666666667\n",
      "34\n",
      "z = 3.6428571428571423: min 41, mean 79.72222222222223\n",
      "35\n",
      "z = 3.6897959183673468: min 37, mean 76.27777777777777\n",
      "36\n",
      "z = 3.7367346938775508: min 36, mean 73.19444444444444\n",
      "37\n",
      "z = 3.7836734693877547: min 33, mean 69.80555555555556\n",
      "38\n",
      "z = 3.830612244897959: min 31, mean 66.19444444444444\n",
      "39\n",
      "z = 3.877551020408163: min 27, mean 62.97222222222222\n",
      "40\n",
      "z = 3.924489795918367: min 27, mean 59.97222222222222\n",
      "41\n",
      "z = 3.971428571428571: min 26, mean 57.52777777777778\n",
      "42\n",
      "z = 4.018367346938775: min 26, mean 55.166666666666664\n",
      "43\n",
      "z = 4.0653061224489795: min 26, mean 53.111111111111114\n",
      "44\n",
      "z = 4.112244897959183: min 25, mean 51.388888888888886\n",
      "45\n",
      "z = 4.159183673469387: min 23, mean 49.083333333333336\n",
      "46\n",
      "z = 4.206122448979592: min 23, mean 47.166666666666664\n",
      "47\n",
      "z = 4.253061224489795: min 21, mean 44.55555555555556\n",
      "48\n",
      "z = 4.3: min 20, mean 42.44444444444444\n",
      "49\n"
     ]
    }
   ],
   "source": [
    "#test for one sample\n",
    "Nc = idx_sel.shape[0]\n",
    "Nsat = np.zeros((50,Nc), dtype = np.int64)\n",
    "zseq = np.linspace(2,4.3,50)\n",
    "for k in range(50):\n",
    "    choose_z = zseq[k]\n",
    "    Nsat0 = cal_Nsat(choose_z)\n",
    "    Nsat[k] = Nsat0\n",
    "    print(k)\n",
    "\n",
    "\n",
    "# for i in range(Nc):\n",
    "#     cid = np.int64(dgroup[idx_sel[i],0])\n",
    "#     credz = dgroup[idx_sel[i],4]\n",
    "#     idx_gal = np.where(d2[:,0] == cid)[0]\n",
    "#     gid = np.int64(d2[idx_gal,1])\n",
    "\n",
    "# #     gal_redz = digal[gid-1,3]\n",
    "# #     gal_mag = digal[gid-1,4]\n",
    "#     gal_abm = digal[gid-1,5] #absolute magnitude of galaxies\n",
    "\n",
    "#     from astropy.cosmology import FlatLambdaCDM\n",
    "#     from astropy import units as u\n",
    "#     cosmo = FlatLambdaCDM(H0=67.4, Om0=0.315)\n",
    "\n",
    "#     d_L = cosmo.luminosity_distance(choose_z).value * 0.674\n",
    "#     Mc = 26 - 5*np.log10(d_L) - 25\n",
    "#     Ncho[k,i] = gal_abm.shape[0]"
   ]
  },
  {
   "cell_type": "code",
   "execution_count": 9,
   "id": "a6435fb0-d23a-4301-b6e5-8d2a8c9fed1c",
   "metadata": {
    "execution": {
     "iopub.execute_input": "2022-03-26T13:09:38.250859Z",
     "iopub.status.busy": "2022-03-26T13:09:38.250531Z",
     "iopub.status.idle": "2022-03-26T13:09:38.378340Z",
     "shell.execute_reply": "2022-03-26T13:09:38.377846Z",
     "shell.execute_reply.started": "2022-03-26T13:09:38.250836Z"
    },
    "tags": []
   },
   "outputs": [
    {
     "data": {
      "application/vnd.jupyter.widget-view+json": {
       "model_id": "be404555027f4a57adc1b515779334a3",
       "version_major": 2,
       "version_minor": 0
      },
      "text/plain": [
       "Canvas(toolbar=Toolbar(toolitems=[('Home', 'Reset original view', 'home', 'home'), ('Back', 'Back to previous …"
      ]
     },
     "metadata": {},
     "output_type": "display_data"
    }
   ],
   "source": [
    "plt.figure(figsize = (5.3,4.0))\n",
    "\n",
    "import matplotlib as mpl\n",
    "mpl.rcParams['axes.linewidth'] = 1.2 #set the value globally\n",
    "\n",
    "plt.plot(zseq, np.min(Nsat, axis = 1), c = 'k', lw = 2, label = 'minimum')\n",
    "plt.plot(zseq, np.median(Nsat, axis = 1), c = 'k', ls = '--',label = 'median')\n",
    "plt.plot(zseq, np.mean(Nsat, axis = 1), c = 'k', lw = 2, ls = ':', label = 'mean')\n",
    "\n",
    "plt.xlabel(r'$z$', fontsize = 14)\n",
    "plt.ylabel(r'$N_{\\rm cri}$', fontsize = 14)\n",
    "plt.xlim(2,4.3)\n",
    "\n",
    "plt.tick_params(top = 'on', right = 'on', which='both',direction = 'in',labelsize = 12)\n",
    "\n",
    "plt.text(2.35, 50, 'Low', fontsize = 16)\n",
    "plt.text(2.7, 110, 'Medium', fontsize = 16)\n",
    "plt.text(3.3, 220, 'High', fontsize = 16)\n",
    "\n",
    "plt.legend(fontsize = 'large')\n",
    "plt.tight_layout()\n",
    "plt.savefig('../figs/Ncri_z.pdf')"
   ]
  },
  {
   "cell_type": "code",
   "execution_count": null,
   "id": "c8e73e51-67b6-4b7a-9bd0-e4adddb8d008",
   "metadata": {},
   "outputs": [],
   "source": []
  },
  {
   "cell_type": "code",
   "execution_count": null,
   "id": "5216be33-e969-4647-81cb-113333497e91",
   "metadata": {},
   "outputs": [],
   "source": []
  },
  {
   "cell_type": "code",
   "execution_count": null,
   "id": "be0d8266-d186-41ec-b73d-c19f074c6bdf",
   "metadata": {},
   "outputs": [],
   "source": []
  },
  {
   "cell_type": "code",
   "execution_count": null,
   "id": "5c886bda-13ce-4345-83d5-5fdbfcd8ec38",
   "metadata": {},
   "outputs": [],
   "source": [
    "# idx_sel = np.where((dgroup[:,-2] > 14) & (dgroup[:,4] < 0.3))[0] #select with Mh > 1e14 and z < 0.1\n",
    "# clu_id = np.int64(dgroup[idx_sel,0])\n",
    "# sigma_z = np.zeros(clu_id.shape[0])\n",
    "# for i in range(clu_id.shape[0]):\n",
    "#     idx_gal = np.where(d2[:,0] == clu_id[i])[0]\n",
    "#     gid = np.int64(d2[idx_gal,1])\n",
    "#     redz_gal = digal[gid-1,3]\n",
    "#     sigma_z[i] = np.std(redz_gal)"
   ]
  },
  {
   "cell_type": "code",
   "execution_count": 37,
   "id": "e7317db0-8029-4527-a68c-43240b915921",
   "metadata": {
    "execution": {
     "iopub.execute_input": "2022-01-28T02:58:12.488885Z",
     "iopub.status.busy": "2022-01-28T02:58:12.488270Z",
     "iopub.status.idle": "2022-01-28T02:58:12.543699Z",
     "shell.execute_reply": "2022-01-28T02:58:12.543081Z",
     "shell.execute_reply.started": "2022-01-28T02:58:12.488832Z"
    },
    "tags": []
   },
   "outputs": [
    {
     "data": {
      "application/vnd.jupyter.widget-view+json": {
       "model_id": "2c40bd031e2c47b69043c977f95231b0",
       "version_major": 2,
       "version_minor": 0
      },
      "text/plain": [
       "Canvas(toolbar=Toolbar(toolitems=[('Home', 'Reset original view', 'home', 'home'), ('Back', 'Back to previous …"
      ]
     },
     "metadata": {},
     "output_type": "display_data"
    },
    {
     "data": {
      "text/plain": [
       "<matplotlib.legend.Legend at 0x7f64573b39d0>"
      ]
     },
     "execution_count": 37,
     "metadata": {},
     "output_type": "execute_result"
    }
   ],
   "source": [
    "plt.figure()\n",
    "\n",
    "plt.plot(Ncho, Nsat, 'o')\n",
    "plt.axhline(np.mean(Nsat), c = 'grey', ls = '--', label = 'mean')\n",
    "plt.axhline(np.median(Nsat), c = 'grey', ls = ':', label = 'median')\n",
    "\n",
    "plt.xlabel(r'$N_{\\rm g}$')\n",
    "plt.ylabel(r'$N_{\\rm satg}$')\n",
    "plt.title('z = 4')\n",
    "\n",
    "plt.legend()"
   ]
  },
  {
   "cell_type": "code",
   "execution_count": 75,
   "id": "0af81104-a4b7-4708-bd9f-e6c1b4a68dbd",
   "metadata": {
    "execution": {
     "iopub.execute_input": "2022-02-15T01:42:57.231052Z",
     "iopub.status.busy": "2022-02-15T01:42:57.230773Z",
     "iopub.status.idle": "2022-02-15T01:42:57.244063Z",
     "shell.execute_reply": "2022-02-15T01:42:57.243600Z",
     "shell.execute_reply.started": "2022-02-15T01:42:57.231023Z"
    },
    "tags": []
   },
   "outputs": [],
   "source": [
    "def cal_Nsat(redz):  \n",
    "    from astropy.cosmology import FlatLambdaCDM\n",
    "    from astropy import units as u\n",
    "    from astropy.coordinates import SkyCoord\n",
    "    cosmo = FlatLambdaCDM(H0=67.4, Om0=0.315)\n",
    "        \n",
    "    idx_sel = np.where((dgroup[:,-2] > 14) & (dgroup[:,4] < 0.3))[0] #select with Mh > 1e14 and z < 0.1\n",
    "    clu_id = np.int64(dgroup[idx_sel,0])\n",
    "    Nc = idx_sel.shape[0]\n",
    "    Nsat = np.zeros(Nc, dtype = np.int64)\n",
    "    plt.figure()\n",
    "    for i in range(1):\n",
    "        i = 3\n",
    "        cid = np.int64(dgroup[idx_sel[i],0])\n",
    "        credz = dgroup[idx_sel[i],4]\n",
    "        cra = dgroup[idx_sel[i],2]\n",
    "        cdec = dgroup[idx_sel[i],3]\n",
    "        cn = dgroup[idx_sel[i],1]\n",
    "        \n",
    "        import linecache\n",
    "        fprop = '../odata/CLAUDS_HSC_iband_prop'\n",
    "        nline = 1+(cid-1)*6\n",
    "        gprop = linecache.getline(fprop,nline)\n",
    "        phyp = [float(prop) for prop in gprop.split()]\n",
    "        r180 = phyp[-2] #unit:Mpc/h\n",
    "        \n",
    "        idx_gal = np.where(d2[:,0] == cid)[0]\n",
    "        galid = np.int64(d2[idx_gal,1])\n",
    "        memra = digal[galid-1,1]\n",
    "        memdec = digal[galid-1,2]\n",
    "                \n",
    "        cdud = SkyCoord(cra, cdec, unit=\"deg\")\n",
    "        cc = SkyCoord(memra, memdec, unit=\"deg\")\n",
    "        sep = cdud.separation(cc)\n",
    "        d_A = cosmo.comoving_distance(credz) * 0.674 #Mpc/h\n",
    "        d_r = (sep * d_A).to(u.Mpc, u.dimensionless_angles()).value #to be a comoving distance\n",
    "        print(np.max(d_r))\n",
    "        idx = np.argmax(d_r)\n",
    "        plt.plot(memra[idx],memdec[idx],'*')\n",
    "        plt.plot(memra,memdec,'s',mfc = 'none')\n",
    "        \n",
    "        idx_ag = np.where((np.abs(digal[:,1] - cra) < 0.7) & (np.abs(digal[:,2] - cdec) < 0.5) &\n",
    "                         (np.abs(digal[:,3] - credz) < 0.1))[0] \n",
    "        ag_abm = digal[idx_ag,5] #absolute magnitude of galaxies\n",
    "        ag_ra = digal[idx_ag,1]\n",
    "        ag_dec = digal[idx_ag,2]\n",
    "        plt.plot(ag_ra,ag_dec,'.',ms = 2)\n",
    "        \n",
    "        cdud = SkyCoord(cra, cdec, unit=\"deg\")\n",
    "        cc = SkyCoord(ag_ra, ag_dec, unit=\"deg\")\n",
    "        sep = cdud.separation(cc)\n",
    "        d_A = cosmo.comoving_distance(credz) * 0.674 #Mpc/h\n",
    "        d_r = (sep * d_A).to(u.Mpc, u.dimensionless_angles()).value #to be a comoving distance\n",
    "        print(r180, np.max(d_r), idx_ag.shape)\n",
    "        idx_inr = np.where(d_r < r180)[0]\n",
    "        print(cn, idx_inr.shape[0])\n",
    "        gal_abm = ag_abm[idx_inr]\n",
    "        plt.plot(ag_ra[idx_inr],ag_dec[idx_inr],'s', ms = 2)\n",
    "\n",
    "        d_L = cosmo.luminosity_distance(redz).value * 0.674\n",
    "        Mc = 26 - 5*np.log10(d_L) - 25\n",
    "\n",
    "        Nsat[i] = np.where(gal_abm < Mc)[0].shape[0]\n",
    "#     print('z = %s: min %s, mean %s' %(redz, np.min(Nsat), np.mean(Nsat)))\n",
    "    return Nsat"
   ]
  },
  {
   "cell_type": "code",
   "execution_count": 76,
   "id": "a7e0e7c0-fdcb-47c3-ad6a-fdab9aecc590",
   "metadata": {
    "execution": {
     "iopub.execute_input": "2022-02-15T01:42:58.224947Z",
     "iopub.status.busy": "2022-02-15T01:42:58.224684Z",
     "iopub.status.idle": "2022-02-15T01:42:58.580515Z",
     "shell.execute_reply": "2022-02-15T01:42:58.580079Z",
     "shell.execute_reply.started": "2022-02-15T01:42:58.224926Z"
    },
    "tags": []
   },
   "outputs": [
    {
     "data": {
      "application/vnd.jupyter.widget-view+json": {
       "model_id": "0a67cfd53a3e49d980cd440c50dfb4bb",
       "version_major": 2,
       "version_minor": 0
      },
      "text/plain": [
       "Canvas(toolbar=Toolbar(toolitems=[('Home', 'Reset original view', 'home', 'home'), ('Back', 'Back to previous …"
      ]
     },
     "metadata": {},
     "output_type": "display_data"
    },
    {
     "name": "stdout",
     "output_type": "stream",
     "text": [
      "4.475347021739458\n",
      "2.192 7.32893613016899 (15200,)\n",
      "4619.0 2965\n"
     ]
    },
    {
     "data": {
      "text/plain": [
       "array([  0,   0,   0, 279,   0,   0,   0,   0,   0,   0,   0,   0,   0,\n",
       "         0,   0,   0,   0,   0,   0,   0,   0,   0,   0,   0,   0,   0,\n",
       "         0,   0,   0,   0,   0,   0,   0,   0,   0,   0])"
      ]
     },
     "execution_count": 76,
     "metadata": {},
     "output_type": "execute_result"
    }
   ],
   "source": [
    "cal_Nsat(2)"
   ]
  },
  {
   "cell_type": "code",
   "execution_count": null,
   "id": "7918c006-c12e-4eee-bf73-9eae8b5e8e17",
   "metadata": {},
   "outputs": [],
   "source": []
  }
 ],
 "metadata": {
  "kernelspec": {
   "display_name": "mamba-python3",
   "language": "python",
   "name": "mamba-python3"
  },
  "language_info": {
   "codemirror_mode": {
    "name": "ipython",
    "version": 3
   },
   "file_extension": ".py",
   "mimetype": "text/x-python",
   "name": "python",
   "nbconvert_exporter": "python",
   "pygments_lexer": "ipython3",
   "version": "3.7.10"
  }
 },
 "nbformat": 4,
 "nbformat_minor": 5
}
