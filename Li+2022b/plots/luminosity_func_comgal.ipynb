{
 "cells": [
  {
   "cell_type": "code",
   "execution_count": 2,
   "id": "7d79a737-4848-47dd-a285-93b42b9be372",
   "metadata": {
    "execution": {
     "iopub.execute_input": "2022-03-12T10:52:07.296834Z",
     "iopub.status.busy": "2022-03-12T10:52:07.296403Z",
     "iopub.status.idle": "2022-03-12T10:52:07.835811Z",
     "shell.execute_reply": "2022-03-12T10:52:07.835146Z",
     "shell.execute_reply.started": "2022-03-12T10:52:07.296806Z"
    },
    "tags": []
   },
   "outputs": [],
   "source": [
    "# %pylab notebook\n",
    "import numpy as np \n",
    "import h5py\n",
    "import matplotlib.pyplot as plt\n",
    "%matplotlib ipympl"
   ]
  },
  {
   "cell_type": "code",
   "execution_count": 3,
   "id": "991c3c4e-1c38-4a8e-822f-9f092128f0e8",
   "metadata": {
    "execution": {
     "iopub.execute_input": "2022-03-12T10:52:09.294692Z",
     "iopub.status.busy": "2022-03-12T10:52:09.294364Z",
     "iopub.status.idle": "2022-03-12T10:52:48.057625Z",
     "shell.execute_reply": "2022-03-12T10:52:48.056765Z",
     "shell.execute_reply.started": "2022-03-12T10:52:09.294666Z"
    },
    "tags": []
   },
   "outputs": [],
   "source": [
    "'''\n",
    "column 1: group ID\n",
    "column 2: richness\n",
    "column 3: ra\n",
    "column 4: dec\n",
    "column 5: redshift\n",
    "column 6: log M_h/(M_sun/h)\n",
    "column 7: L_group (10^10Lsun/h/h)\n",
    "'''\n",
    "# dgroup_3 = np.loadtxt('../odata3/CLAUDS_HSC_iband_group')\n",
    "# d2_3 = np.loadtxt('../odata3/iCLAUDS_HSC_iband_2')\n",
    "# digal_3 = np.loadtxt('../odata3/CLAUDS_HSC_iband_igal')\n",
    "\n",
    "digal0_3 = np.loadtxt('../odata3/CLAUDS_HSC_iband_new_igal0')"
   ]
  },
  {
   "cell_type": "code",
   "execution_count": 4,
   "id": "037acb6d-556f-4c42-87c1-70f1154667b7",
   "metadata": {
    "execution": {
     "iopub.execute_input": "2022-03-12T10:54:23.299493Z",
     "iopub.status.busy": "2022-03-12T10:54:23.299155Z",
     "iopub.status.idle": "2022-03-12T10:55:04.166883Z",
     "shell.execute_reply": "2022-03-12T10:55:04.166185Z",
     "shell.execute_reply.started": "2022-03-12T10:54:23.299462Z"
    },
    "tags": []
   },
   "outputs": [],
   "source": [
    "# dgroup_1 = np.loadtxt('../odata/CLAUDS_HSC_iband_group')\n",
    "# d2_1 = np.loadtxt('../odata/iCLAUDS_HSC_iband_2')\n",
    "# digal_1 = np.loadtxt('../odata/CLAUDS_HSC_iband_igal')\n",
    "\n",
    "digal0_1 = np.loadtxt('../odata/CLAUDS_HSC_iband_igal0')"
   ]
  },
  {
   "cell_type": "code",
   "execution_count": 13,
   "id": "d8c648d8-21e5-444e-b923-3879223aac1e",
   "metadata": {
    "execution": {
     "iopub.execute_input": "2021-11-25T11:11:25.322990Z",
     "iopub.status.busy": "2021-11-25T11:11:25.322760Z",
     "iopub.status.idle": "2021-11-25T11:11:25.327606Z",
     "shell.execute_reply": "2021-11-25T11:11:25.327207Z",
     "shell.execute_reply.started": "2021-11-25T11:11:25.322962Z"
    }
   },
   "outputs": [
    {
     "data": {
      "text/plain": [
       "(5607052, 8)"
      ]
     },
     "execution_count": 13,
     "metadata": {},
     "output_type": "execute_result"
    }
   ],
   "source": [
    "digal0_1.shape"
   ]
  },
  {
   "cell_type": "code",
   "execution_count": 5,
   "id": "2f7d2340-da74-49be-ae8b-c1ee5039e760",
   "metadata": {
    "execution": {
     "iopub.execute_input": "2022-03-12T10:56:42.295762Z",
     "iopub.status.busy": "2022-03-12T10:56:42.295332Z",
     "iopub.status.idle": "2022-03-12T10:56:42.302693Z",
     "shell.execute_reply": "2022-03-12T10:56:42.302074Z",
     "shell.execute_reply.started": "2022-03-12T10:56:42.295734Z"
    },
    "tags": []
   },
   "outputs": [],
   "source": [
    "def get_Vmax(cosmo_para, zgal, abMgal, zlim, mlim, galarea):\n",
    "    from astropy.cosmology import FlatLambdaCDM\n",
    "    import numpy as np \n",
    "\n",
    "    cosmo = FlatLambdaCDM(H0 = cosmo_para['H0'], Om0 = cosmo_para['Om0'])\n",
    "    h = cosmo_para['H0'] / 100\n",
    "    Vratio = galarea / ((180/np.pi)**2*4*np.pi)\n",
    "\n",
    "    dlimlow = cosmo.comoving_distance(zlim[0]).value #Mpc\n",
    "    Vlowmax = 4/3*np.pi*dlimlow**3 * Vratio\n",
    "\n",
    "    abMgal = abMgal + 5*np.log10(0.674)\n",
    "    dmax = 10**((mlim - abMgal - 25) / 5) #maximum distance from limited luminosity\n",
    "    dmax_como = dmax / (1 + zgal)\n",
    "\n",
    "    dlimup = cosmo.comoving_distance(zlim[1]).value\n",
    "    Vupmax = np.zeros(zgal.shape[0])\n",
    "    Vupmax[dmax_como < dlimup] = 4/3*np.pi*(dmax_como[dmax_como < dlimup])**3 * Vratio\n",
    "    Vupmax[dmax_como >= dlimup] = 4/3*np.pi*(dlimup)**3 * Vratio\n",
    "\n",
    "    Vmax = Vupmax - Vlowmax\n",
    "    return Vmax"
   ]
  },
  {
   "cell_type": "code",
   "execution_count": 6,
   "id": "6bac67bc-9eaa-4c3a-9567-675eb6e9c6e3",
   "metadata": {
    "execution": {
     "iopub.execute_input": "2022-03-12T10:56:43.293629Z",
     "iopub.status.busy": "2022-03-12T10:56:43.293246Z",
     "iopub.status.idle": "2022-03-12T10:56:43.298204Z",
     "shell.execute_reply": "2022-03-12T10:56:43.297568Z",
     "shell.execute_reply.started": "2022-03-12T10:56:43.293603Z"
    },
    "tags": []
   },
   "outputs": [],
   "source": [
    "def cal_galarea(ra,dec):\n",
    "    import healpy as hp\n",
    "    import pandas as pd\n",
    "\n",
    "    nside = 512\n",
    "    totalpixel = hp.nside2npix(nside)\n",
    "\n",
    "    pxl = hp.ang2pix(nside, np.pi/2.-np.deg2rad(dec), np.deg2rad(ra))\n",
    "    pxlc = pd.value_counts(pxl)\n",
    "\n",
    "    gal_area = pxlc.shape[0] / totalpixel * (4*180**2/np.pi)\n",
    "    print(\"the cover of galaxy region is %s dge2\" %gal_area)\n",
    "\n",
    "    return gal_area"
   ]
  },
  {
   "cell_type": "code",
   "execution_count": 37,
   "id": "c6876635-e7d7-440a-9fed-16a2d263b225",
   "metadata": {
    "execution": {
     "iopub.execute_input": "2022-03-16T03:58:35.557199Z",
     "iopub.status.busy": "2022-03-16T03:58:35.556769Z",
     "iopub.status.idle": "2022-03-16T03:58:35.563214Z",
     "shell.execute_reply": "2022-03-16T03:58:35.562726Z",
     "shell.execute_reply.started": "2022-03-16T03:58:35.557118Z"
    },
    "tags": []
   },
   "outputs": [],
   "source": [
    "def cal_Vmax(zbin,digal0):\n",
    "    from astropy.cosmology import FlatLambdaCDM\n",
    "    import numpy as np\n",
    "    cosmo_para = {'H0':67.4, 'Om0':0.315}\n",
    "    cosmo = FlatLambdaCDM(H0 = cosmo_para['H0'], Om0 = cosmo_para['Om0'])\n",
    "\n",
    "    sel_redz = np.where((digal0[:,4] >= zbin[0]) & (digal0[:,4] < zbin[1]))[0]\n",
    "    zgal = digal0[sel_redz,4]\n",
    "    abmgal = digal0[sel_redz,6]\n",
    "    \n",
    "    grpra = digal0[sel_redz,2]\n",
    "    grpdec = digal0[sel_redz,3]\n",
    "    grparea = cal_galarea(grpra,grpdec)\n",
    "    \n",
    "#     grparea = 35\n",
    "    Vmax = get_Vmax(cosmo_para, zgal, abmgal, zlim = zbin, mlim = 26, galarea = grparea) * 0.674**3 #(Mpc/h)^3\n",
    "#     Mag = digal0[sel_redz, -2]+ 5*np.log10(0.674)\n",
    "    Mag = abmgal\n",
    "\n",
    "    return Mag,Vmax"
   ]
  },
  {
   "cell_type": "code",
   "execution_count": 32,
   "id": "0af4481c-982a-45f5-b722-81be58d9d765",
   "metadata": {
    "execution": {
     "iopub.execute_input": "2022-03-16T03:35:34.233902Z",
     "iopub.status.busy": "2022-03-16T03:35:34.233623Z",
     "iopub.status.idle": "2022-03-16T03:35:34.242315Z",
     "shell.execute_reply": "2022-03-16T03:35:34.241877Z",
     "shell.execute_reply.started": "2022-03-16T03:35:34.233872Z"
    },
    "tags": []
   },
   "outputs": [],
   "source": [
    "#Schechter function for absolute magnitude\n",
    "def SF_M(M, phi, Ms, alpha):\n",
    "    deltaM = Ms - M\n",
    "    a1 = np.log(10)/2.5*phi\n",
    "    a2 = (10**(0.4*deltaM))**(alpha+1)\n",
    "    a3 = np.exp(-10**(0.4*deltaM))\n",
    "    return a1*a2*a3\n",
    "\n",
    "def plot_ob():\n",
    "    Mgal = np.linspace(-24, -16, 100)\n",
    "    \n",
    "#     #Blanton+2001 (h = 1)\n",
    "#     phi = 1.28*1e-2 #h3Mpc-3\n",
    "#     Ms = -21.26\n",
    "#     alpha = -1.25   \n",
    "#     Lfunc = SF_M(Mgal, phi, Ms, alpha)\n",
    "#     plt.plot(Mgal, Lfunc, ls = '--', c = 'k', label = 'Blanto et al. 2001')\n",
    "    \n",
    "    #Blanton+2003 (h = 1)\n",
    "    phi = 1.47*1e-2 #h3Mpc-3\n",
    "    Ms = -20.82\n",
    "    alpha = -1.00   \n",
    "    Lfunc = SF_M(Mgal, phi, Ms, alpha)\n",
    "    plt.plot(Mgal, Lfunc, ls = '-', c = 'k', label = 'Blanto+2003(0.02 < z < 0.22)')\n",
    "    \n",
    "    #Hill+2010\n",
    "    phi = 0.0120\n",
    "    Ms = -21.16\n",
    "    alpha = -1.18\n",
    "    Lfunc = SF_M(Mgal, phi, Ms, alpha)\n",
    "    plt.plot(Mgal, Lfunc, ls = '--', c = 'k', label = 'Hill+2010(z < 0.1)')\n",
    "    \n",
    "#     #Kelvin+2014\n",
    "#     phi = 3.61*1e-3\n",
    "#     Ms = -22.15\n",
    "#     alpha = -1.14\n",
    "#     Lfunc = SF_M(Mgal, phi, Ms, alpha)\n",
    "#     plt.plot(Mgal, np.log10(Lfunc), ls = '-', c = 'b', label = 'Kelvin et al. 2014')\n",
    "    \n",
    "    #Drive+2012\n",
    "    phi = 1*1e-2 #1e−2h3Mpc−3 \n",
    "    Ms = -21.30\n",
    "    alpha = -1.17    \n",
    "    Lfunc = SF_M(Mgal, phi, Ms, alpha)\n",
    "    plt.plot(Mgal, Lfunc, ls = ':', c = 'k', label = 'Drive+2012 (0.013 < z < 0.1)')\n",
    "\n",
    "def plot_ob2():\n",
    "    #Bates+2018\n",
    "    xx = np.array([-25.125, -24.875, -24.625, -24.375, -24.125, -23.875, -23.625]) - 5*np.log10(0.674)\n",
    "    yy = np.array([0.001, 0.005, 0.018, 0.033, 0.124, 0.229, 0.388]) / 0.674**3 * 1e-3\n",
    "    yyerr = np.array([0.014,0.015,0.024,0.018,0.026,0.023,0.036]) / 0.674**3 * 1e-3\n",
    "    cbar = plt.errorbar(xx, yy ,yerr = yyerr, marker = '^', c = 'k', ls = 'none', ms = 5,\n",
    "                 capsize = 2, label = 'Bates+2019 (0.7 < z < 0.8)')\n",
    "    return cbar"
   ]
  },
  {
   "cell_type": "code",
   "execution_count": 19,
   "id": "a52774dd-a7ff-4f31-9f88-1615e73ae1dc",
   "metadata": {
    "execution": {
     "iopub.execute_input": "2022-03-12T11:06:21.345382Z",
     "iopub.status.busy": "2022-03-12T11:06:21.345069Z",
     "iopub.status.idle": "2022-03-12T11:06:21.354399Z",
     "shell.execute_reply": "2022-03-12T11:06:21.353833Z",
     "shell.execute_reply.started": "2022-03-12T11:06:21.345358Z"
    },
    "tags": []
   },
   "outputs": [],
   "source": [
    "#plot galaxy luminosity function\n",
    "def plot_LF(digal0):\n",
    "    colors = ['k','purple','blue','cyan','magenta','red','orange']\n",
    "\n",
    "    xmin = -28\n",
    "    xmax = -16\n",
    "    nbin = 20\n",
    "    xlum = np.linspace(xmin,xmax,nbin+1)\n",
    "    nx = (xmax-xmin)/nbin/2\n",
    "    xx = xlum[:-1]+nx\n",
    "\n",
    "    zbinall = [[0.0,0.4],[0.8,1.2],[1.6,2.0],[2.4,2.8],[3.6,4.0],[4.8,5.2],[5.6,6.0]]\n",
    "    for i in range(7):\n",
    "        zbin = zbinall[i]\n",
    "            \n",
    "        Mag, Vmax = cal_Vmax(zbin,digal0)\n",
    "        ngroup,xe = np.histogram(Mag, bins=xlum, weights=1/Vmax)\n",
    "        ng,xe = np.histogram(Mag, bins=xlum)\n",
    "        yy = ngroup/(nx*2)\n",
    "        \n",
    "        yyerr,xe = np.histogram(Mag, bins=xlum, weights=1/Vmax**2)\n",
    "        yyerr = np.sqrt(yyerr)\n",
    "\n",
    "        idx = np.where(yy > 0)[0] \n",
    "        plt.errorbar(xx[idx], yy[idx], yerr = yyerr[idx], capsize = 2.0, \n",
    "                    ms = 5, mew = 1, marker = 'o', color = colors[i],\n",
    "                     mfc = 'none', elinewidth = 1,\n",
    "                     ls = 'none', label = '%s $\\leq$ z < %s' %(zbin[0],zbin[1]))\n",
    "\n",
    "    plot_ob() \n",
    "    \n",
    "    plt.xlim(-28,-16)\n",
    "    plt.ylim(1e-8,1e-1)\n",
    "    plt.yscale('log')\n",
    "    ax = plt.gca()\n",
    "    ax.invert_xaxis()\n",
    "\n",
    "    plt.ylabel(r'$\\Phi [\\mathrm{mag^{-1}}h^3\\mathrm{Mpc^{-3}}]$', fontsize = 14)\n",
    "    plt.tick_params(top = 'on', right = 'on',which='both', direction = 'in', labelsize = 12)\n",
    "\n",
    "    plt.tight_layout()"
   ]
  },
  {
   "cell_type": "code",
   "execution_count": 10,
   "id": "367a1c8a-d424-46b7-a0c6-93a268479f92",
   "metadata": {
    "execution": {
     "iopub.execute_input": "2022-03-12T10:56:48.587842Z",
     "iopub.status.busy": "2022-03-12T10:56:48.587122Z",
     "iopub.status.idle": "2022-03-12T10:56:48.592067Z",
     "shell.execute_reply": "2022-03-12T10:56:48.591404Z",
     "shell.execute_reply.started": "2022-03-12T10:56:48.587811Z"
    },
    "tags": []
   },
   "outputs": [],
   "source": [
    "def plot_Mz(digal0):\n",
    "    import numpy as np\n",
    "    \n",
    "    zgal = digal0[:,4] #redshift\n",
    "    abmgal = digal0[:,6] #absolute magnitude\n",
    "\n",
    "    plt.plot(zgal, abmgal, '.', ms = 0.01, rasterized=True)\n",
    "\n",
    "    ax = plt.gca()\n",
    "    ax.invert_yaxis()\n",
    "    \n",
    "    plt.xlabel(r'$z_{\\rm photo}$', fontsize = 14)\n",
    "    plt.ylim(-9,-28)"
   ]
  },
  {
   "cell_type": "code",
   "execution_count": 41,
   "id": "ea909003-f125-4f7f-8339-b84adf97f65a",
   "metadata": {
    "execution": {
     "iopub.execute_input": "2022-03-16T07:36:30.238858Z",
     "iopub.status.busy": "2022-03-16T07:36:30.238177Z",
     "iopub.status.idle": "2022-03-16T07:36:44.135444Z",
     "shell.execute_reply": "2022-03-16T07:36:44.134752Z",
     "shell.execute_reply.started": "2022-03-16T07:36:30.238803Z"
    },
    "tags": []
   },
   "outputs": [
    {
     "data": {
      "application/vnd.jupyter.widget-view+json": {
       "model_id": "5a31a1e7caec42fa9df2cd818677d4d4",
       "version_major": 2,
       "version_minor": 0
      },
      "text/plain": [
       "Canvas(toolbar=Toolbar(toolitems=[('Home', 'Reset original view', 'home', 'home'), ('Back', 'Back to previous …"
      ]
     },
     "metadata": {},
     "output_type": "display_data"
    },
    {
     "name": "stdout",
     "output_type": "stream",
     "text": [
      "the cover of galaxy region is 35.17164931963046 dge2\n",
      "the cover of galaxy region is 35.11919346680476 dge2\n",
      "the cover of galaxy region is 34.83068627626342 dge2\n",
      "the cover of galaxy region is 34.84380023946984 dge2\n",
      "the cover of galaxy region is 34.0176205574651 dge2\n",
      "the cover of galaxy region is 25.441088620463493 dge2\n",
      "the cover of galaxy region is 4.458747490184323 dge2\n",
      "the cover of galaxy region is 35.17164931963046 dge2\n",
      "the cover of galaxy region is 35.11919346680476 dge2\n",
      "the cover of galaxy region is 34.83068627626342 dge2\n",
      "the cover of galaxy region is 34.84380023946984 dge2\n",
      "the cover of galaxy region is 34.0176205574651 dge2\n",
      "the cover of galaxy region is 25.441088620463493 dge2\n",
      "the cover of galaxy region is 4.458747490184323 dge2\n"
     ]
    }
   ],
   "source": [
    "#make a combined comparision\n",
    "plt.figure(figsize = (10,8))\n",
    "# plt.figure(figsize = (10,8))\n",
    "import matplotlib as mpl\n",
    "mpl.rcParams['axes.linewidth'] = 1.2 #set the value globally\n",
    "\n",
    "plt.subplot(221)\n",
    "plot_LF(digal0_1)\n",
    "plt.xlabel(r'$M_{i} - 5\\log h$', fontsize = 14)\n",
    "plt.text(-23.4,1e-2, 'no $K$-correction', fontsize = 12, fontweight = 350)\n",
    "plt.legend(ncol = 1, fontsize = 'x-small', loc = 3)\n",
    "\n",
    "plt.subplot(222)\n",
    "plot_Mz(digal0_1)\n",
    "plt.ylabel(r'$M_{i} - 5\\log h$', fontsize = 14)\n",
    "plt.tick_params(top = 'on', right = 'on', which='both',direction = 'in',labelsize = 12)\n",
    "\n",
    "plt.subplot(223)\n",
    "plot_LF(digal0_3)\n",
    "cbar = plot_ob2()\n",
    "plt.xlabel(r'$M_{i}^{0.0} - 5\\log h$', fontsize = 14)\n",
    "plt.text(-23.8,1e-2, '$K$-correction', fontsize = 12, fontweight = 350)\n",
    "plt.legend(handles = [cbar], fontsize = 'x-small', loc = 3)\n",
    "\n",
    "plt.subplot(224)\n",
    "plot_Mz(digal0_3)\n",
    "plt.ylabel(r'$M^{0.0}_{i} - 5\\log h$', fontsize = 14)\n",
    "plt.tick_params(top = 'on', right = 'on', which='both',direction = 'in',labelsize = 12)\n",
    "\n",
    "plt.tight_layout()\n",
    "\n",
    "plt.savefig('../figs/LF2_gal.pdf', dpi = 400)"
   ]
  },
  {
   "cell_type": "code",
   "execution_count": 74,
   "id": "1ae2992b-1feb-469b-8af5-579e7ae97fc1",
   "metadata": {
    "execution": {
     "iopub.execute_input": "2021-11-24T13:03:10.827211Z",
     "iopub.status.busy": "2021-11-24T13:03:10.826915Z",
     "iopub.status.idle": "2021-11-24T13:03:10.831886Z",
     "shell.execute_reply": "2021-11-24T13:03:10.831463Z",
     "shell.execute_reply.started": "2021-11-24T13:03:10.827183Z"
    }
   },
   "outputs": [],
   "source": [
    "# def cal_galarea0(ra,dec,nside):\n",
    "#     import healpy as hp\n",
    "#     import pandas as pd\n",
    "\n",
    "#     totalpixel = hp.nside2npix(nside)\n",
    "\n",
    "#     pxl = hp.ang2pix(nside, np.pi/2.-np.deg2rad(dec), np.deg2rad(ra))\n",
    "#     pxlc = pd.value_counts(pxl)\n",
    "\n",
    "#     gal_area = pxlc.shape[0] / totalpixel * (4*180**2/np.pi)\n",
    "#     print(\"the cover of galaxy region is %s dge2\" %gal_area)\n",
    "\n",
    "#     return gal_area"
   ]
  },
  {
   "cell_type": "code",
   "execution_count": 82,
   "id": "6772ddc6-a68d-4791-8c05-0364ae269943",
   "metadata": {
    "execution": {
     "iopub.execute_input": "2021-11-24T13:05:09.855221Z",
     "iopub.status.busy": "2021-11-24T13:05:09.854926Z",
     "iopub.status.idle": "2021-11-24T13:05:10.656968Z",
     "shell.execute_reply": "2021-11-24T13:05:10.656496Z",
     "shell.execute_reply.started": "2021-11-24T13:05:09.855198Z"
    },
    "tags": []
   },
   "outputs": [
    {
     "name": "stdout",
     "output_type": "stream",
     "text": [
      "the cover of galaxy region is 41.08107391088002 dge2\n",
      "the cover of galaxy region is 36.11782701055927 dge2\n",
      "the cover of galaxy region is 34.38701700443491 dge2\n",
      "the cover of galaxy region is 33.50728805649445 dge2\n",
      "the cover of galaxy region is 32.86142138193323 dge2\n",
      "the cover of galaxy region is 32.341080210988586 dge2\n",
      "the cover of galaxy region is 31.93245801475031 dge2\n",
      "the cover of galaxy region is 31.49701191748467 dge2\n"
     ]
    }
   ],
   "source": [
    "# sel_redz = np.where((digal0_1[:,4] >= 0) & (digal0_1[:,4] < 0.4))[0]\n",
    "\n",
    "\n",
    "# grpra = digal0_1[sel_redz,2]\n",
    "# grpdec = digal0_1[sel_redz,3]\n",
    "\n",
    "# for i in range(8):\n",
    "#     grparea = cal_galarea0(grpra,grpdec,nside = i*200+200)"
   ]
  },
  {
   "cell_type": "code",
   "execution_count": null,
   "id": "ef41b0b6-0bee-46b4-9839-e7b5f57ff5c9",
   "metadata": {},
   "outputs": [],
   "source": [
    "#test for observations\n",
    "\n",
    "# plt.figure()\n",
    "\n",
    "# plot_ob()\n",
    "\n",
    "# # B03 = np.loadtxt(open('../data/ob/Hill+2010/Blanton03_i.csv', 'r'),delimiter = ',')\n",
    "# # plt.plot(B03[:,0], B03[:,1], c = 'r', ls = ':', label = 'B03', lw =2 , zorder = -1)\n",
    "\n",
    "# # H10 = np.loadtxt(open('../data/ob/Hill+2010/Hill_i.csv', 'r'),delimiter = ',')\n",
    "# # plt.plot(H10[:,0], H10[:,1], c = 'r', ls = '-', label = 'H10', lw =2 , zorder = -1)\n",
    "\n",
    "# # plt.yscale('log')\n",
    "# ax = plt.gca()\n",
    "# ax.invert_xaxis()\n",
    "\n",
    "# plt.ylim(-6,-1)\n",
    "\n",
    "# plt.grid(c = 'grey' ,ls = '--', alpha = 0.6)\n",
    "# plt.legend()"
   ]
  },
  {
   "cell_type": "code",
   "execution_count": null,
   "id": "e331b82a-93f7-4fc7-ac6f-63f5a45acd7b",
   "metadata": {},
   "outputs": [],
   "source": []
  }
 ],
 "metadata": {
  "kernelspec": {
   "display_name": "py37",
   "language": "python",
   "name": "python3.7"
  },
  "language_info": {
   "codemirror_mode": {
    "name": "ipython",
    "version": 3
   },
   "file_extension": ".py",
   "mimetype": "text/x-python",
   "name": "python",
   "nbconvert_exporter": "python",
   "pygments_lexer": "ipython3",
   "version": "3.7.10"
  }
 },
 "nbformat": 4,
 "nbformat_minor": 5
}
